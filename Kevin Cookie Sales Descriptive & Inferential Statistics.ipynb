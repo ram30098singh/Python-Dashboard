{
 "cells": [
  {
   "cell_type": "markdown",
   "id": "ee77ee39",
   "metadata": {},
   "source": [
    "## Kevin Cookie Analysis "
   ]
  },
  {
   "cell_type": "markdown",
   "id": "27fabc99",
   "metadata": {},
   "source": [
    "## Overview of dataset"
   ]
  },
  {
   "cell_type": "markdown",
   "id": "a658482e",
   "metadata": {},
   "source": [
    "Kevin Cookie Company is one of the most popular cookie company in world. In our dataset we'll be analysising companies financial aspect on basis of five countries it is currently operating in namely United States, United Kingdom , India ,Malaysia and Philippines. The dataset also contains the basic financial analysis information which include units sold , Revenue , Cost, Profit. It data also ontains the information about the product category it sold. \n",
    "As, it is importat for every company to analysis it's financial position in terms of units it sold , revenue generation and accordingly investing in the specifc product and region.Thus, we'll be analysing the dataset on the same parameters \n"
   ]
  },
  {
   "cell_type": "markdown",
   "id": "5c0d1627",
   "metadata": {},
   "source": [
    "## Objectives "
   ]
  },
  {
   "cell_type": "markdown",
   "id": "2456ecf2",
   "metadata": {},
   "source": [
    "1. To find the country generating the most revenue and profit \n",
    "\n",
    "2. To find most revenue generating product \n",
    "\n",
    "3. To find the no. of units sold in eah product cataegory \n",
    "\n",
    "4. To find which product is most demanding and profitable in which country \n",
    "\n",
    "5. To find on which date the most revenue is generated \n",
    "\n",
    "6. To find the percent of each product category in total number of units sold \n",
    "\n",
    "7. To find the percent of each product category in total profit generation\n",
    "\n",
    "8. To check whether the data is normally distributed \n",
    "\n",
    "9. To find the per unit price of product in each category \n",
    "\n",
    "10. To check whether the product wise and country wise revenue data has mean and median statisti equally distributed on not by using ANOVA And Kruskal-Wallis Test\n"
   ]
  },
  {
   "cell_type": "markdown",
   "id": "d770be7e",
   "metadata": {},
   "source": [
    "## Briefs on the Analysis"
   ]
  },
  {
   "cell_type": "markdown",
   "id": "c0902993",
   "metadata": {},
   "source": [
    "Financial analysis of information given in dataset will help in evaluating performance of Kevin Cookies Company. This information will help company in investing and disinvesting wisely in product category, distrubtion channels in different countries,positioning of specific product in specific country and cost controlling. The analysis will also help the company \n",
    "in future to make decisions of expanision in different geography and product line of related and unrelated products as per consumer response. "
   ]
  },
  {
   "cell_type": "code",
   "execution_count": 37,
   "id": "3dd0bc95",
   "metadata": {},
   "outputs": [],
   "source": [
    "#install specific version of libraries used in  lab\n",
    "#! mamba install pandas==1.3.3  -y\n",
    "#! mamba install numpy=1.21.2 -y"
   ]
  },
  {
   "cell_type": "code",
   "execution_count": 38,
   "id": "54637ef9",
   "metadata": {},
   "outputs": [
    {
     "name": "stdout",
     "output_type": "stream",
     "text": [
      "Requirement already satisfied: pydataset in c:\\users\\windows\\anaconda3\\lib\\site-packages (0.2.0)\n",
      "Requirement already satisfied: pandas in c:\\users\\windows\\anaconda3\\lib\\site-packages (from pydataset) (1.4.4)\n",
      "Requirement already satisfied: pytz>=2020.1 in c:\\users\\windows\\anaconda3\\lib\\site-packages (from pandas->pydataset) (2022.1)\n",
      "Requirement already satisfied: numpy>=1.18.5 in c:\\users\\windows\\anaconda3\\lib\\site-packages (from pandas->pydataset) (1.21.5)\n",
      "Requirement already satisfied: python-dateutil>=2.8.1 in c:\\users\\windows\\anaconda3\\lib\\site-packages (from pandas->pydataset) (2.8.2)\n",
      "Requirement already satisfied: six>=1.5 in c:\\users\\windows\\anaconda3\\lib\\site-packages (from python-dateutil>=2.8.1->pandas->pydataset) (1.16.0)\n"
     ]
    }
   ],
   "source": [
    "# Install PyDataset\n",
    "!pip install pydataset\n"
   ]
  },
  {
   "cell_type": "code",
   "execution_count": 39,
   "id": "02bdbbc4",
   "metadata": {},
   "outputs": [
    {
     "name": "stdout",
     "output_type": "stream",
     "text": [
      "Requirement already satisfied: statsmodels in c:\\users\\windows\\anaconda3\\lib\\site-packages (0.13.2)\n",
      "Requirement already satisfied: numpy>=1.17 in c:\\users\\windows\\anaconda3\\lib\\site-packages (from statsmodels) (1.21.5)\n",
      "Requirement already satisfied: scipy>=1.3 in c:\\users\\windows\\anaconda3\\lib\\site-packages (from statsmodels) (1.9.1)\n",
      "Requirement already satisfied: pandas>=0.25 in c:\\users\\windows\\anaconda3\\lib\\site-packages (from statsmodels) (1.4.4)\n",
      "Requirement already satisfied: patsy>=0.5.2 in c:\\users\\windows\\anaconda3\\lib\\site-packages (from statsmodels) (0.5.2)\n",
      "Requirement already satisfied: packaging>=21.3 in c:\\users\\windows\\anaconda3\\lib\\site-packages (from statsmodels) (21.3)\n",
      "Requirement already satisfied: pyparsing!=3.0.5,>=2.0.2 in c:\\users\\windows\\anaconda3\\lib\\site-packages (from packaging>=21.3->statsmodels) (3.0.9)\n",
      "Requirement already satisfied: python-dateutil>=2.8.1 in c:\\users\\windows\\anaconda3\\lib\\site-packages (from pandas>=0.25->statsmodels) (2.8.2)\n",
      "Requirement already satisfied: pytz>=2020.1 in c:\\users\\windows\\anaconda3\\lib\\site-packages (from pandas>=0.25->statsmodels) (2022.1)\n",
      "Requirement already satisfied: six in c:\\users\\windows\\anaconda3\\lib\\site-packages (from patsy>=0.5.2->statsmodels) (1.16.0)\n",
      "Note: you may need to restart the kernel to use updated packages.\n"
     ]
    }
   ],
   "source": [
    "pip install statsmodels"
   ]
  },
  {
   "cell_type": "code",
   "execution_count": 40,
   "id": "df128ffd",
   "metadata": {},
   "outputs": [],
   "source": [
    "# importing required library\n",
    "import pandas as pd\n",
    "import numpy as np\n",
    "import pandas as pd\n",
    "import plotly.express as px\n",
    "import streamlit as st\n",
    "from PIL import Image\n",
    "import plotly.graph_objects as go\n",
    "from plotly.subplots import make_subplots\n",
    "from plotly.offline import iplot\n",
    "import plotly.io as pio\n",
    "from pydataset import data\n",
    "import pandas as pd, numpy as np \n",
    "import scipy.stats as sps \n",
    "import statsmodels.api as sm, statsmodels.formula.api as smf \n",
    "import seaborn as sns\n",
    "%matplotlib inline\n",
    "import matplotlib as plt\n",
    "from matplotlib import pyplot\n"
   ]
  },
  {
   "cell_type": "code",
   "execution_count": 82,
   "id": "98e638f0",
   "metadata": {},
   "outputs": [
    {
     "data": {
      "text/html": [
       "<div>\n",
       "<style scoped>\n",
       "    .dataframe tbody tr th:only-of-type {\n",
       "        vertical-align: middle;\n",
       "    }\n",
       "\n",
       "    .dataframe tbody tr th {\n",
       "        vertical-align: top;\n",
       "    }\n",
       "\n",
       "    .dataframe thead th {\n",
       "        text-align: right;\n",
       "    }\n",
       "</style>\n",
       "<table border=\"1\" class=\"dataframe\">\n",
       "  <thead>\n",
       "    <tr style=\"text-align: right;\">\n",
       "      <th></th>\n",
       "      <th>Country</th>\n",
       "      <th>Product</th>\n",
       "      <th>Units Sold</th>\n",
       "      <th>Revenue</th>\n",
       "      <th>Cost</th>\n",
       "      <th>Profit</th>\n",
       "      <th>Date</th>\n",
       "    </tr>\n",
       "  </thead>\n",
       "  <tbody>\n",
       "    <tr>\n",
       "      <th>0</th>\n",
       "      <td>India</td>\n",
       "      <td>Chocolate Chip</td>\n",
       "      <td>1725</td>\n",
       "      <td>8625</td>\n",
       "      <td>3450</td>\n",
       "      <td>5175</td>\n",
       "      <td>11/1/2019</td>\n",
       "    </tr>\n",
       "    <tr>\n",
       "      <th>1</th>\n",
       "      <td>India</td>\n",
       "      <td>Chocolate Chip</td>\n",
       "      <td>2152</td>\n",
       "      <td>10760</td>\n",
       "      <td>4304</td>\n",
       "      <td>6456</td>\n",
       "      <td>12/1/2019</td>\n",
       "    </tr>\n",
       "    <tr>\n",
       "      <th>2</th>\n",
       "      <td>India</td>\n",
       "      <td>Chocolate Chip</td>\n",
       "      <td>2349</td>\n",
       "      <td>11745</td>\n",
       "      <td>4698</td>\n",
       "      <td>7047</td>\n",
       "      <td>9/1/2019</td>\n",
       "    </tr>\n",
       "    <tr>\n",
       "      <th>3</th>\n",
       "      <td>India</td>\n",
       "      <td>Chocolate Chip</td>\n",
       "      <td>1228</td>\n",
       "      <td>6140</td>\n",
       "      <td>2456</td>\n",
       "      <td>3684</td>\n",
       "      <td>10/1/2019</td>\n",
       "    </tr>\n",
       "    <tr>\n",
       "      <th>4</th>\n",
       "      <td>India</td>\n",
       "      <td>Chocolate Chip</td>\n",
       "      <td>1389</td>\n",
       "      <td>6945</td>\n",
       "      <td>2778</td>\n",
       "      <td>4167</td>\n",
       "      <td>10/1/2019</td>\n",
       "    </tr>\n",
       "    <tr>\n",
       "      <th>...</th>\n",
       "      <td>...</td>\n",
       "      <td>...</td>\n",
       "      <td>...</td>\n",
       "      <td>...</td>\n",
       "      <td>...</td>\n",
       "      <td>...</td>\n",
       "      <td>...</td>\n",
       "    </tr>\n",
       "    <tr>\n",
       "      <th>695</th>\n",
       "      <td>United States</td>\n",
       "      <td>White Chocolate Macadamia Nut</td>\n",
       "      <td>1596</td>\n",
       "      <td>9576</td>\n",
       "      <td>4389</td>\n",
       "      <td>5187</td>\n",
       "      <td>9/1/2020</td>\n",
       "    </tr>\n",
       "    <tr>\n",
       "      <th>696</th>\n",
       "      <td>United States</td>\n",
       "      <td>White Chocolate Macadamia Nut</td>\n",
       "      <td>986</td>\n",
       "      <td>5916</td>\n",
       "      <td>2712</td>\n",
       "      <td>3205</td>\n",
       "      <td>10/1/2020</td>\n",
       "    </tr>\n",
       "    <tr>\n",
       "      <th>697</th>\n",
       "      <td>United States</td>\n",
       "      <td>White Chocolate Macadamia Nut</td>\n",
       "      <td>606</td>\n",
       "      <td>3636</td>\n",
       "      <td>1667</td>\n",
       "      <td>1970</td>\n",
       "      <td>4/1/2020</td>\n",
       "    </tr>\n",
       "    <tr>\n",
       "      <th>698</th>\n",
       "      <td>United States</td>\n",
       "      <td>White Chocolate Macadamia Nut</td>\n",
       "      <td>2460</td>\n",
       "      <td>14760</td>\n",
       "      <td>6765</td>\n",
       "      <td>7995</td>\n",
       "      <td>7/1/2020</td>\n",
       "    </tr>\n",
       "    <tr>\n",
       "      <th>699</th>\n",
       "      <td>United States</td>\n",
       "      <td>White Chocolate Macadamia Nut</td>\n",
       "      <td>914</td>\n",
       "      <td>5484</td>\n",
       "      <td>2514</td>\n",
       "      <td>2971</td>\n",
       "      <td>12/1/2020</td>\n",
       "    </tr>\n",
       "  </tbody>\n",
       "</table>\n",
       "<p>700 rows × 7 columns</p>\n",
       "</div>"
      ],
      "text/plain": [
       "           Country                          Product  Units Sold  Revenue  \\\n",
       "0            India                  Chocolate Chip         1725     8625   \n",
       "1            India                  Chocolate Chip         2152    10760   \n",
       "2            India                  Chocolate Chip         2349    11745   \n",
       "3            India                  Chocolate Chip         1228     6140   \n",
       "4            India                  Chocolate Chip         1389     6945   \n",
       "..             ...                              ...         ...      ...   \n",
       "695  United States   White Chocolate Macadamia Nut         1596     9576   \n",
       "696  United States   White Chocolate Macadamia Nut          986     5916   \n",
       "697  United States   White Chocolate Macadamia Nut          606     3636   \n",
       "698  United States   White Chocolate Macadamia Nut         2460    14760   \n",
       "699  United States   White Chocolate Macadamia Nut          914     5484   \n",
       "\n",
       "     Cost  Profit       Date  \n",
       "0    3450    5175  11/1/2019  \n",
       "1    4304    6456  12/1/2019  \n",
       "2    4698    7047   9/1/2019  \n",
       "3    2456    3684  10/1/2019  \n",
       "4    2778    4167  10/1/2019  \n",
       "..    ...     ...        ...  \n",
       "695  4389    5187   9/1/2020  \n",
       "696  2712    3205  10/1/2020  \n",
       "697  1667    1970   4/1/2020  \n",
       "698  6765    7995   7/1/2020  \n",
       "699  2514    2971  12/1/2020  \n",
       "\n",
       "[700 rows x 7 columns]"
      ]
     },
     "execution_count": 82,
     "metadata": {},
     "output_type": "execute_result"
    }
   ],
   "source": [
    "#importing dataset\n",
    "df = pd.read_csv('https://raw.githubusercontent.com/ram30098singh/Excel-Dashboard-/main/Kevin%20Cookie.csv')\n",
    "df"
   ]
  },
  {
   "cell_type": "code",
   "execution_count": 42,
   "id": "56fa2f70",
   "metadata": {},
   "outputs": [
    {
     "data": {
      "text/plain": [
       "(700, 7)"
      ]
     },
     "execution_count": 42,
     "metadata": {},
     "output_type": "execute_result"
    }
   ],
   "source": [
    "#fidning the shape of dataset\n",
    "df.shape"
   ]
  },
  {
   "cell_type": "code",
   "execution_count": 43,
   "id": "bad0e585",
   "metadata": {},
   "outputs": [
    {
     "data": {
      "text/plain": [
       "Country       0\n",
       "Product       0\n",
       "Units Sold    0\n",
       "Revenue       0\n",
       "Cost          0\n",
       "Profit        0\n",
       "Date          0\n",
       "dtype: int64"
      ]
     },
     "execution_count": 43,
     "metadata": {},
     "output_type": "execute_result"
    }
   ],
   "source": [
    "#to count the no. of null cells in each column\n",
    "df.isnull().sum()"
   ]
  },
  {
   "cell_type": "markdown",
   "id": "f6d71992",
   "metadata": {},
   "source": [
    "## 1. Data Analysis : Descriptive Statistics"
   ]
  },
  {
   "cell_type": "code",
   "execution_count": 44,
   "id": "03aa4693",
   "metadata": {},
   "outputs": [
    {
     "name": "stdout",
     "output_type": "stream",
     "text": [
      "<class 'pandas.core.frame.DataFrame'>\n",
      "RangeIndex: 700 entries, 0 to 699\n",
      "Data columns (total 7 columns):\n",
      " #   Column      Non-Null Count  Dtype \n",
      "---  ------      --------------  ----- \n",
      " 0   Country     700 non-null    object\n",
      " 1   Product     700 non-null    object\n",
      " 2   Units Sold  700 non-null    int64 \n",
      " 3   Revenue     700 non-null    int64 \n",
      " 4   Cost        700 non-null    int64 \n",
      " 5   Profit      700 non-null    int64 \n",
      " 6   Date        700 non-null    object\n",
      "dtypes: int64(4), object(3)\n",
      "memory usage: 38.4+ KB\n"
     ]
    }
   ],
   "source": [
    "df.info()    "
   ]
  },
  {
   "cell_type": "code",
   "execution_count": 45,
   "id": "79ad6dbc",
   "metadata": {},
   "outputs": [
    {
     "data": {
      "text/html": [
       "<div>\n",
       "<style scoped>\n",
       "    .dataframe tbody tr th:only-of-type {\n",
       "        vertical-align: middle;\n",
       "    }\n",
       "\n",
       "    .dataframe tbody tr th {\n",
       "        vertical-align: top;\n",
       "    }\n",
       "\n",
       "    .dataframe thead th {\n",
       "        text-align: right;\n",
       "    }\n",
       "</style>\n",
       "<table border=\"1\" class=\"dataframe\">\n",
       "  <thead>\n",
       "    <tr style=\"text-align: right;\">\n",
       "      <th></th>\n",
       "      <th>Units Sold</th>\n",
       "      <th>Revenue</th>\n",
       "      <th>Cost</th>\n",
       "      <th>Profit</th>\n",
       "    </tr>\n",
       "  </thead>\n",
       "  <tbody>\n",
       "    <tr>\n",
       "      <th>count</th>\n",
       "      <td>700.000000</td>\n",
       "      <td>700.000000</td>\n",
       "      <td>700.000000</td>\n",
       "      <td>700.000000</td>\n",
       "    </tr>\n",
       "    <tr>\n",
       "      <th>mean</th>\n",
       "      <td>1608.320000</td>\n",
       "      <td>6700.455714</td>\n",
       "      <td>2752.868571</td>\n",
       "      <td>3947.734286</td>\n",
       "    </tr>\n",
       "    <tr>\n",
       "      <th>std</th>\n",
       "      <td>867.449766</td>\n",
       "      <td>4623.900732</td>\n",
       "      <td>2037.016446</td>\n",
       "      <td>2615.818560</td>\n",
       "    </tr>\n",
       "    <tr>\n",
       "      <th>min</th>\n",
       "      <td>200.000000</td>\n",
       "      <td>200.000000</td>\n",
       "      <td>40.000000</td>\n",
       "      <td>160.000000</td>\n",
       "    </tr>\n",
       "    <tr>\n",
       "      <th>25%</th>\n",
       "      <td>905.000000</td>\n",
       "      <td>2854.000000</td>\n",
       "      <td>1113.750000</td>\n",
       "      <td>1848.250000</td>\n",
       "    </tr>\n",
       "    <tr>\n",
       "      <th>50%</th>\n",
       "      <td>1542.500000</td>\n",
       "      <td>5871.500000</td>\n",
       "      <td>2423.500000</td>\n",
       "      <td>3424.500000</td>\n",
       "    </tr>\n",
       "    <tr>\n",
       "      <th>75%</th>\n",
       "      <td>2229.500000</td>\n",
       "      <td>9580.000000</td>\n",
       "      <td>3926.000000</td>\n",
       "      <td>5566.750000</td>\n",
       "    </tr>\n",
       "    <tr>\n",
       "      <th>max</th>\n",
       "      <td>4493.000000</td>\n",
       "      <td>23988.000000</td>\n",
       "      <td>10995.000000</td>\n",
       "      <td>13479.000000</td>\n",
       "    </tr>\n",
       "  </tbody>\n",
       "</table>\n",
       "</div>"
      ],
      "text/plain": [
       "        Units Sold       Revenue          Cost        Profit\n",
       "count   700.000000    700.000000    700.000000    700.000000\n",
       "mean   1608.320000   6700.455714   2752.868571   3947.734286\n",
       "std     867.449766   4623.900732   2037.016446   2615.818560\n",
       "min     200.000000    200.000000     40.000000    160.000000\n",
       "25%     905.000000   2854.000000   1113.750000   1848.250000\n",
       "50%    1542.500000   5871.500000   2423.500000   3424.500000\n",
       "75%    2229.500000   9580.000000   3926.000000   5566.750000\n",
       "max    4493.000000  23988.000000  10995.000000  13479.000000"
      ]
     },
     "execution_count": 45,
     "metadata": {},
     "output_type": "execute_result"
    }
   ],
   "source": [
    "df.describe()  "
   ]
  },
  {
   "cell_type": "code",
   "execution_count": 46,
   "id": "0d759f67",
   "metadata": {},
   "outputs": [
    {
     "data": {
      "text/html": [
       "<div>\n",
       "<style scoped>\n",
       "    .dataframe tbody tr th:only-of-type {\n",
       "        vertical-align: middle;\n",
       "    }\n",
       "\n",
       "    .dataframe tbody tr th {\n",
       "        vertical-align: top;\n",
       "    }\n",
       "\n",
       "    .dataframe thead th {\n",
       "        text-align: right;\n",
       "    }\n",
       "</style>\n",
       "<table border=\"1\" class=\"dataframe\">\n",
       "  <thead>\n",
       "    <tr style=\"text-align: right;\">\n",
       "      <th></th>\n",
       "      <th>Country</th>\n",
       "      <th>Product</th>\n",
       "      <th>Date</th>\n",
       "    </tr>\n",
       "  </thead>\n",
       "  <tbody>\n",
       "    <tr>\n",
       "      <th>count</th>\n",
       "      <td>700</td>\n",
       "      <td>700</td>\n",
       "      <td>700</td>\n",
       "    </tr>\n",
       "    <tr>\n",
       "      <th>unique</th>\n",
       "      <td>5</td>\n",
       "      <td>6</td>\n",
       "      <td>16</td>\n",
       "    </tr>\n",
       "    <tr>\n",
       "      <th>top</th>\n",
       "      <td>India</td>\n",
       "      <td>Chocolate Chip</td>\n",
       "      <td>10/1/2019</td>\n",
       "    </tr>\n",
       "    <tr>\n",
       "      <th>freq</th>\n",
       "      <td>140</td>\n",
       "      <td>202</td>\n",
       "      <td>70</td>\n",
       "    </tr>\n",
       "  </tbody>\n",
       "</table>\n",
       "</div>"
      ],
      "text/plain": [
       "       Country           Product       Date\n",
       "count      700               700        700\n",
       "unique       5                 6         16\n",
       "top      India   Chocolate Chip   10/1/2019\n",
       "freq       140               202         70"
      ]
     },
     "execution_count": 46,
     "metadata": {},
     "output_type": "execute_result"
    }
   ],
   "source": [
    "df.describe(include=['object'])"
   ]
  },
  {
   "cell_type": "code",
   "execution_count": 47,
   "id": "8e121225",
   "metadata": {},
   "outputs": [
    {
     "data": {
      "text/html": [
       "<div>\n",
       "<style scoped>\n",
       "    .dataframe tbody tr th:only-of-type {\n",
       "        vertical-align: middle;\n",
       "    }\n",
       "\n",
       "    .dataframe tbody tr th {\n",
       "        vertical-align: top;\n",
       "    }\n",
       "\n",
       "    .dataframe thead th {\n",
       "        text-align: right;\n",
       "    }\n",
       "</style>\n",
       "<table border=\"1\" class=\"dataframe\">\n",
       "  <thead>\n",
       "    <tr style=\"text-align: right;\">\n",
       "      <th></th>\n",
       "      <th>Country</th>\n",
       "      <th>Product</th>\n",
       "      <th>Units Sold</th>\n",
       "      <th>Revenue</th>\n",
       "      <th>Cost</th>\n",
       "      <th>Profit</th>\n",
       "      <th>Date</th>\n",
       "    </tr>\n",
       "  </thead>\n",
       "  <tbody>\n",
       "    <tr>\n",
       "      <th>count</th>\n",
       "      <td>700</td>\n",
       "      <td>700</td>\n",
       "      <td>700.000000</td>\n",
       "      <td>700.000000</td>\n",
       "      <td>700.000000</td>\n",
       "      <td>700.000000</td>\n",
       "      <td>700</td>\n",
       "    </tr>\n",
       "    <tr>\n",
       "      <th>unique</th>\n",
       "      <td>5</td>\n",
       "      <td>6</td>\n",
       "      <td>NaN</td>\n",
       "      <td>NaN</td>\n",
       "      <td>NaN</td>\n",
       "      <td>NaN</td>\n",
       "      <td>16</td>\n",
       "    </tr>\n",
       "    <tr>\n",
       "      <th>top</th>\n",
       "      <td>India</td>\n",
       "      <td>Chocolate Chip</td>\n",
       "      <td>NaN</td>\n",
       "      <td>NaN</td>\n",
       "      <td>NaN</td>\n",
       "      <td>NaN</td>\n",
       "      <td>10/1/2019</td>\n",
       "    </tr>\n",
       "    <tr>\n",
       "      <th>freq</th>\n",
       "      <td>140</td>\n",
       "      <td>202</td>\n",
       "      <td>NaN</td>\n",
       "      <td>NaN</td>\n",
       "      <td>NaN</td>\n",
       "      <td>NaN</td>\n",
       "      <td>70</td>\n",
       "    </tr>\n",
       "    <tr>\n",
       "      <th>mean</th>\n",
       "      <td>NaN</td>\n",
       "      <td>NaN</td>\n",
       "      <td>1608.320000</td>\n",
       "      <td>6700.455714</td>\n",
       "      <td>2752.868571</td>\n",
       "      <td>3947.734286</td>\n",
       "      <td>NaN</td>\n",
       "    </tr>\n",
       "    <tr>\n",
       "      <th>std</th>\n",
       "      <td>NaN</td>\n",
       "      <td>NaN</td>\n",
       "      <td>867.449766</td>\n",
       "      <td>4623.900732</td>\n",
       "      <td>2037.016446</td>\n",
       "      <td>2615.818560</td>\n",
       "      <td>NaN</td>\n",
       "    </tr>\n",
       "    <tr>\n",
       "      <th>min</th>\n",
       "      <td>NaN</td>\n",
       "      <td>NaN</td>\n",
       "      <td>200.000000</td>\n",
       "      <td>200.000000</td>\n",
       "      <td>40.000000</td>\n",
       "      <td>160.000000</td>\n",
       "      <td>NaN</td>\n",
       "    </tr>\n",
       "    <tr>\n",
       "      <th>25%</th>\n",
       "      <td>NaN</td>\n",
       "      <td>NaN</td>\n",
       "      <td>905.000000</td>\n",
       "      <td>2854.000000</td>\n",
       "      <td>1113.750000</td>\n",
       "      <td>1848.250000</td>\n",
       "      <td>NaN</td>\n",
       "    </tr>\n",
       "    <tr>\n",
       "      <th>50%</th>\n",
       "      <td>NaN</td>\n",
       "      <td>NaN</td>\n",
       "      <td>1542.500000</td>\n",
       "      <td>5871.500000</td>\n",
       "      <td>2423.500000</td>\n",
       "      <td>3424.500000</td>\n",
       "      <td>NaN</td>\n",
       "    </tr>\n",
       "    <tr>\n",
       "      <th>75%</th>\n",
       "      <td>NaN</td>\n",
       "      <td>NaN</td>\n",
       "      <td>2229.500000</td>\n",
       "      <td>9580.000000</td>\n",
       "      <td>3926.000000</td>\n",
       "      <td>5566.750000</td>\n",
       "      <td>NaN</td>\n",
       "    </tr>\n",
       "    <tr>\n",
       "      <th>max</th>\n",
       "      <td>NaN</td>\n",
       "      <td>NaN</td>\n",
       "      <td>4493.000000</td>\n",
       "      <td>23988.000000</td>\n",
       "      <td>10995.000000</td>\n",
       "      <td>13479.000000</td>\n",
       "      <td>NaN</td>\n",
       "    </tr>\n",
       "  </tbody>\n",
       "</table>\n",
       "</div>"
      ],
      "text/plain": [
       "       Country           Product   Units Sold       Revenue          Cost  \\\n",
       "count      700               700   700.000000    700.000000    700.000000   \n",
       "unique       5                 6          NaN           NaN           NaN   \n",
       "top      India   Chocolate Chip           NaN           NaN           NaN   \n",
       "freq       140               202          NaN           NaN           NaN   \n",
       "mean       NaN               NaN  1608.320000   6700.455714   2752.868571   \n",
       "std        NaN               NaN   867.449766   4623.900732   2037.016446   \n",
       "min        NaN               NaN   200.000000    200.000000     40.000000   \n",
       "25%        NaN               NaN   905.000000   2854.000000   1113.750000   \n",
       "50%        NaN               NaN  1542.500000   5871.500000   2423.500000   \n",
       "75%        NaN               NaN  2229.500000   9580.000000   3926.000000   \n",
       "max        NaN               NaN  4493.000000  23988.000000  10995.000000   \n",
       "\n",
       "              Profit       Date  \n",
       "count     700.000000        700  \n",
       "unique           NaN         16  \n",
       "top              NaN  10/1/2019  \n",
       "freq             NaN         70  \n",
       "mean     3947.734286        NaN  \n",
       "std      2615.818560        NaN  \n",
       "min       160.000000        NaN  \n",
       "25%      1848.250000        NaN  \n",
       "50%      3424.500000        NaN  \n",
       "75%      5566.750000        NaN  \n",
       "max     13479.000000        NaN  "
      ]
     },
     "execution_count": 47,
     "metadata": {},
     "output_type": "execute_result"
    }
   ],
   "source": [
    "df.describe(include=\"all\")"
   ]
  },
  {
   "cell_type": "code",
   "execution_count": 48,
   "id": "fd795924",
   "metadata": {},
   "outputs": [
    {
     "data": {
      "text/plain": [
       "<AxesSubplot:xlabel='Product', ylabel='Units Sold'>"
      ]
     },
     "execution_count": 48,
     "metadata": {},
     "output_type": "execute_result"
    },
    {
     "data": {
      "image/png": "[encoded data removed]",
      "text/plain": [
       "<Figure size 640x480 with 1 Axes>"
      ]
     },
     "metadata": {},
     "output_type": "display_data"
    }
   ],
   "source": [
    "# relationship between \"Units Sold\" and \"Product\"\n",
    "\n",
    "import seaborn as sns\n",
    "sns.boxplot(x=\"Product\", y=\"Units Sold\", data=df )"
   ]
  },
  {
   "cell_type": "code",
   "execution_count": 49,
   "id": "59d3aa0a",
   "metadata": {},
   "outputs": [
    {
     "data": {
      "text/plain": [
       "<AxesSubplot:xlabel='Country', ylabel='Units Sold'>"
      ]
     },
     "execution_count": 49,
     "metadata": {},
     "output_type": "execute_result"
    },
    {
     "data": {
      "image/png": "[encoded data removed]",
      "text/plain": [
       "<Figure size 640x480 with 1 Axes>"
      ]
     },
     "metadata": {},
     "output_type": "display_data"
    }
   ],
   "source": [
    "# relationship between \"Units Sold\" and \"Country\"\n",
    "\n",
    "import seaborn as sns\n",
    "sns.boxplot(x=\"Country\", y=\"Units Sold\", data=df)"
   ]
  },
  {
   "cell_type": "code",
   "execution_count": 50,
   "id": "e37b4b6a",
   "metadata": {},
   "outputs": [
    {
     "data": {
      "text/plain": [
       "<AxesSubplot:xlabel='Country', ylabel='Revenue'>"
      ]
     },
     "execution_count": 50,
     "metadata": {},
     "output_type": "execute_result"
    },
    {
     "data": {
      "image/png": "[encoded data removed]",
      "text/plain": [
       "<Figure size 640x480 with 1 Axes>"
      ]
     },
     "metadata": {},
     "output_type": "display_data"
    }
   ],
   "source": [
    "# relationship between \"Revenue\" and \"Country\"\n",
    "\n",
    "import seaborn as sns\n",
    "sns.boxplot(x=\"Country\", y=\"Revenue\", data=df)"
   ]
  },
  {
   "cell_type": "code",
   "execution_count": 51,
   "id": "303dff86",
   "metadata": {},
   "outputs": [
    {
     "data": {
      "text/plain": [
       "Text(0.5, 1.0, 'Price distribution')"
      ]
     },
     "execution_count": 51,
     "metadata": {},
     "output_type": "execute_result"
    },
    {
     "data": {
      "image/png": "[encoded data removed]",
      "text/plain": [
       "<Figure size 640x480 with 1 Axes>"
      ]
     },
     "metadata": {},
     "output_type": "display_data"
    }
   ],
   "source": [
    "plt.pyplot.hist(df[\"Units Sold\"])\n",
    "\n",
    "# set x/y labels and plot title\n",
    "plt.pyplot.xlabel(\"Units Sold\")\n",
    "plt.pyplot.ylabel(\"No. of Times\")\n",
    "plt.pyplot.title(\"Price distribution\")"
   ]
  },
  {
   "cell_type": "code",
   "execution_count": 52,
   "id": "044fcc5c",
   "metadata": {},
   "outputs": [
    {
     "data": {
      "text/plain": [
       "Text(0.5, 1.0, 'Profit distribution')"
      ]
     },
     "execution_count": 52,
     "metadata": {},
     "output_type": "execute_result"
    },
    {
     "data": {
      "image/png": "[encoded data removed]",
      "text/plain": [
       "<Figure size 640x480 with 1 Axes>"
      ]
     },
     "metadata": {},
     "output_type": "display_data"
    }
   ],
   "source": [
    "#to find the frequency of profit distribution using histrogram\n",
    "%matplotlib inline\n",
    "import matplotlib as plt\n",
    "from matplotlib import pyplot\n",
    "plt.pyplot.hist(df[\"Profit\"])\n",
    "\n",
    "# set x/y labels and plot title\n",
    "plt.pyplot.xlabel(\"Profit\")\n",
    "plt.pyplot.ylabel(\"count\")\n",
    "plt.pyplot.title(\"Profit distribution\")"
   ]
  },
  {
   "cell_type": "code",
   "execution_count": 53,
   "id": "51311a4f",
   "metadata": {},
   "outputs": [
    {
     "data": {
      "text/html": [
       "<div>\n",
       "<style scoped>\n",
       "    .dataframe tbody tr th:only-of-type {\n",
       "        vertical-align: middle;\n",
       "    }\n",
       "\n",
       "    .dataframe tbody tr th {\n",
       "        vertical-align: top;\n",
       "    }\n",
       "\n",
       "    .dataframe thead th {\n",
       "        text-align: right;\n",
       "    }\n",
       "</style>\n",
       "<table border=\"1\" class=\"dataframe\">\n",
       "  <thead>\n",
       "    <tr style=\"text-align: right;\">\n",
       "      <th></th>\n",
       "      <th>Country</th>\n",
       "      <th>Product</th>\n",
       "      <th>Revenue</th>\n",
       "    </tr>\n",
       "  </thead>\n",
       "  <tbody>\n",
       "    <tr>\n",
       "      <th>0</th>\n",
       "      <td>India</td>\n",
       "      <td>Chocolate Chip</td>\n",
       "      <td>8625</td>\n",
       "    </tr>\n",
       "    <tr>\n",
       "      <th>1</th>\n",
       "      <td>India</td>\n",
       "      <td>Chocolate Chip</td>\n",
       "      <td>10760</td>\n",
       "    </tr>\n",
       "    <tr>\n",
       "      <th>2</th>\n",
       "      <td>India</td>\n",
       "      <td>Chocolate Chip</td>\n",
       "      <td>11745</td>\n",
       "    </tr>\n",
       "    <tr>\n",
       "      <th>3</th>\n",
       "      <td>India</td>\n",
       "      <td>Chocolate Chip</td>\n",
       "      <td>6140</td>\n",
       "    </tr>\n",
       "    <tr>\n",
       "      <th>4</th>\n",
       "      <td>India</td>\n",
       "      <td>Chocolate Chip</td>\n",
       "      <td>6945</td>\n",
       "    </tr>\n",
       "    <tr>\n",
       "      <th>...</th>\n",
       "      <td>...</td>\n",
       "      <td>...</td>\n",
       "      <td>...</td>\n",
       "    </tr>\n",
       "    <tr>\n",
       "      <th>695</th>\n",
       "      <td>United States</td>\n",
       "      <td>White Chocolate Macadamia Nut</td>\n",
       "      <td>9576</td>\n",
       "    </tr>\n",
       "    <tr>\n",
       "      <th>696</th>\n",
       "      <td>United States</td>\n",
       "      <td>White Chocolate Macadamia Nut</td>\n",
       "      <td>5916</td>\n",
       "    </tr>\n",
       "    <tr>\n",
       "      <th>697</th>\n",
       "      <td>United States</td>\n",
       "      <td>White Chocolate Macadamia Nut</td>\n",
       "      <td>3636</td>\n",
       "    </tr>\n",
       "    <tr>\n",
       "      <th>698</th>\n",
       "      <td>United States</td>\n",
       "      <td>White Chocolate Macadamia Nut</td>\n",
       "      <td>14760</td>\n",
       "    </tr>\n",
       "    <tr>\n",
       "      <th>699</th>\n",
       "      <td>United States</td>\n",
       "      <td>White Chocolate Macadamia Nut</td>\n",
       "      <td>5484</td>\n",
       "    </tr>\n",
       "  </tbody>\n",
       "</table>\n",
       "<p>700 rows × 3 columns</p>\n",
       "</div>"
      ],
      "text/plain": [
       "           Country                          Product  Revenue\n",
       "0            India                  Chocolate Chip      8625\n",
       "1            India                  Chocolate Chip     10760\n",
       "2            India                  Chocolate Chip     11745\n",
       "3            India                  Chocolate Chip      6140\n",
       "4            India                  Chocolate Chip      6945\n",
       "..             ...                              ...      ...\n",
       "695  United States   White Chocolate Macadamia Nut      9576\n",
       "696  United States   White Chocolate Macadamia Nut      5916\n",
       "697  United States   White Chocolate Macadamia Nut      3636\n",
       "698  United States   White Chocolate Macadamia Nut     14760\n",
       "699  United States   White Chocolate Macadamia Nut      5484\n",
       "\n",
       "[700 rows x 3 columns]"
      ]
     },
     "execution_count": 53,
     "metadata": {},
     "output_type": "execute_result"
    }
   ],
   "source": [
    "#finding country and product specific revenue \n",
    "df_group_one = df[['Country','Product','Revenue']]\n",
    "df_group_one"
   ]
  },
  {
   "cell_type": "code",
   "execution_count": 54,
   "id": "6a014c9d",
   "metadata": {},
   "outputs": [
    {
     "data": {
      "text/html": [
       "<div>\n",
       "<style scoped>\n",
       "    .dataframe tbody tr th:only-of-type {\n",
       "        vertical-align: middle;\n",
       "    }\n",
       "\n",
       "    .dataframe tbody tr th {\n",
       "        vertical-align: top;\n",
       "    }\n",
       "\n",
       "    .dataframe thead th {\n",
       "        text-align: right;\n",
       "    }\n",
       "</style>\n",
       "<table border=\"1\" class=\"dataframe\">\n",
       "  <thead>\n",
       "    <tr style=\"text-align: right;\">\n",
       "      <th></th>\n",
       "      <th>Country</th>\n",
       "      <th>Revenue</th>\n",
       "    </tr>\n",
       "  </thead>\n",
       "  <tbody>\n",
       "    <tr>\n",
       "      <th>0</th>\n",
       "      <td>India</td>\n",
       "      <td>7331.250000</td>\n",
       "    </tr>\n",
       "    <tr>\n",
       "      <th>1</th>\n",
       "      <td>Malaysia</td>\n",
       "      <td>5976.192857</td>\n",
       "    </tr>\n",
       "    <tr>\n",
       "      <th>2</th>\n",
       "      <td>Philippines</td>\n",
       "      <td>5993.392857</td>\n",
       "    </tr>\n",
       "    <tr>\n",
       "      <th>3</th>\n",
       "      <td>United Kingdom</td>\n",
       "      <td>7218.242857</td>\n",
       "    </tr>\n",
       "    <tr>\n",
       "      <th>4</th>\n",
       "      <td>United States</td>\n",
       "      <td>6983.200000</td>\n",
       "    </tr>\n",
       "  </tbody>\n",
       "</table>\n",
       "</div>"
      ],
      "text/plain": [
       "          Country      Revenue\n",
       "0           India  7331.250000\n",
       "1        Malaysia  5976.192857\n",
       "2     Philippines  5993.392857\n",
       "3  United Kingdom  7218.242857\n",
       "4   United States  6983.200000"
      ]
     },
     "execution_count": 54,
     "metadata": {},
     "output_type": "execute_result"
    }
   ],
   "source": [
    "df_group_one = df_group_one.groupby(['Country'],as_index=False).mean()\n",
    "df_group_one"
   ]
  },
  {
   "cell_type": "markdown",
   "id": "df248ec2",
   "metadata": {},
   "source": [
    "#\n",
    "From our df_group_one, it seems that:\n",
    "1. Revenue generated from India on an average is highest = 7331.25\n",
    "2. Revenue generated from Malaysia on an average is lowest = 5976.19"
   ]
  },
  {
   "cell_type": "code",
   "execution_count": 113,
   "id": "db487574",
   "metadata": {},
   "outputs": [
    {
     "data": {
      "text/html": [
       "<div>\n",
       "<style scoped>\n",
       "    .dataframe tbody tr th:only-of-type {\n",
       "        vertical-align: middle;\n",
       "    }\n",
       "\n",
       "    .dataframe tbody tr th {\n",
       "        vertical-align: top;\n",
       "    }\n",
       "\n",
       "    .dataframe thead th {\n",
       "        text-align: right;\n",
       "    }\n",
       "</style>\n",
       "<table border=\"1\" class=\"dataframe\">\n",
       "  <thead>\n",
       "    <tr style=\"text-align: right;\">\n",
       "      <th></th>\n",
       "      <th>Country</th>\n",
       "      <th>Product</th>\n",
       "      <th>Revenue</th>\n",
       "      <th>Units Sold</th>\n",
       "    </tr>\n",
       "  </thead>\n",
       "  <tbody>\n",
       "    <tr>\n",
       "      <th>0</th>\n",
       "      <td>India</td>\n",
       "      <td>Chocolate Chip</td>\n",
       "      <td>9308.571429</td>\n",
       "      <td>1861.714286</td>\n",
       "    </tr>\n",
       "    <tr>\n",
       "      <th>1</th>\n",
       "      <td>India</td>\n",
       "      <td>Fortune Cookie</td>\n",
       "      <td>1749.444444</td>\n",
       "      <td>1749.444444</td>\n",
       "    </tr>\n",
       "    <tr>\n",
       "      <th>2</th>\n",
       "      <td>India</td>\n",
       "      <td>Oatmeal Raisin</td>\n",
       "      <td>8120.277778</td>\n",
       "      <td>1624.055556</td>\n",
       "    </tr>\n",
       "    <tr>\n",
       "      <th>3</th>\n",
       "      <td>India</td>\n",
       "      <td>Snickerdoodle</td>\n",
       "      <td>6961.000000</td>\n",
       "      <td>1740.250000</td>\n",
       "    </tr>\n",
       "    <tr>\n",
       "      <th>4</th>\n",
       "      <td>India</td>\n",
       "      <td>Sugar</td>\n",
       "      <td>5625.000000</td>\n",
       "      <td>1875.000000</td>\n",
       "    </tr>\n",
       "    <tr>\n",
       "      <th>5</th>\n",
       "      <td>India</td>\n",
       "      <td>White Chocolate Macadamia Nut</td>\n",
       "      <td>9739.500000</td>\n",
       "      <td>1623.250000</td>\n",
       "    </tr>\n",
       "    <tr>\n",
       "      <th>6</th>\n",
       "      <td>Malaysia</td>\n",
       "      <td>Chocolate Chip</td>\n",
       "      <td>7910.250000</td>\n",
       "      <td>1582.050000</td>\n",
       "    </tr>\n",
       "    <tr>\n",
       "      <th>7</th>\n",
       "      <td>Malaysia</td>\n",
       "      <td>Fortune Cookie</td>\n",
       "      <td>1587.700000</td>\n",
       "      <td>1587.700000</td>\n",
       "    </tr>\n",
       "    <tr>\n",
       "      <th>8</th>\n",
       "      <td>Malaysia</td>\n",
       "      <td>Oatmeal Raisin</td>\n",
       "      <td>7099.000000</td>\n",
       "      <td>1419.800000</td>\n",
       "    </tr>\n",
       "    <tr>\n",
       "      <th>9</th>\n",
       "      <td>Malaysia</td>\n",
       "      <td>Snickerdoodle</td>\n",
       "      <td>6049.777778</td>\n",
       "      <td>1512.444444</td>\n",
       "    </tr>\n",
       "    <tr>\n",
       "      <th>10</th>\n",
       "      <td>Malaysia</td>\n",
       "      <td>Sugar</td>\n",
       "      <td>3919.350000</td>\n",
       "      <td>1306.450000</td>\n",
       "    </tr>\n",
       "    <tr>\n",
       "      <th>11</th>\n",
       "      <td>Malaysia</td>\n",
       "      <td>White Chocolate Macadamia Nut</td>\n",
       "      <td>7238.181818</td>\n",
       "      <td>1206.363636</td>\n",
       "    </tr>\n",
       "    <tr>\n",
       "      <th>12</th>\n",
       "      <td>Philippines</td>\n",
       "      <td>Chocolate Chip</td>\n",
       "      <td>6961.750000</td>\n",
       "      <td>1392.350000</td>\n",
       "    </tr>\n",
       "    <tr>\n",
       "      <th>13</th>\n",
       "      <td>Philippines</td>\n",
       "      <td>Fortune Cookie</td>\n",
       "      <td>1558.944444</td>\n",
       "      <td>1558.944444</td>\n",
       "    </tr>\n",
       "    <tr>\n",
       "      <th>14</th>\n",
       "      <td>Philippines</td>\n",
       "      <td>Oatmeal Raisin</td>\n",
       "      <td>8504.166667</td>\n",
       "      <td>1700.833333</td>\n",
       "    </tr>\n",
       "    <tr>\n",
       "      <th>15</th>\n",
       "      <td>Philippines</td>\n",
       "      <td>Snickerdoodle</td>\n",
       "      <td>4988.800000</td>\n",
       "      <td>1247.200000</td>\n",
       "    </tr>\n",
       "    <tr>\n",
       "      <th>16</th>\n",
       "      <td>Philippines</td>\n",
       "      <td>Sugar</td>\n",
       "      <td>4245.136364</td>\n",
       "      <td>1415.045455</td>\n",
       "    </tr>\n",
       "    <tr>\n",
       "      <th>17</th>\n",
       "      <td>Philippines</td>\n",
       "      <td>White Chocolate Macadamia Nut</td>\n",
       "      <td>8468.181818</td>\n",
       "      <td>1411.363636</td>\n",
       "    </tr>\n",
       "    <tr>\n",
       "      <th>18</th>\n",
       "      <td>United Kingdom</td>\n",
       "      <td>Chocolate Chip</td>\n",
       "      <td>8950.875000</td>\n",
       "      <td>1790.175000</td>\n",
       "    </tr>\n",
       "    <tr>\n",
       "      <th>19</th>\n",
       "      <td>United Kingdom</td>\n",
       "      <td>Fortune Cookie</td>\n",
       "      <td>1564.150000</td>\n",
       "      <td>1564.150000</td>\n",
       "    </tr>\n",
       "    <tr>\n",
       "      <th>20</th>\n",
       "      <td>United Kingdom</td>\n",
       "      <td>Oatmeal Raisin</td>\n",
       "      <td>8778.888889</td>\n",
       "      <td>1755.777778</td>\n",
       "    </tr>\n",
       "    <tr>\n",
       "      <th>21</th>\n",
       "      <td>United Kingdom</td>\n",
       "      <td>Snickerdoodle</td>\n",
       "      <td>7568.222222</td>\n",
       "      <td>1892.055556</td>\n",
       "    </tr>\n",
       "    <tr>\n",
       "      <th>22</th>\n",
       "      <td>United Kingdom</td>\n",
       "      <td>Sugar</td>\n",
       "      <td>4878.545455</td>\n",
       "      <td>1626.181818</td>\n",
       "    </tr>\n",
       "    <tr>\n",
       "      <th>23</th>\n",
       "      <td>United Kingdom</td>\n",
       "      <td>White Chocolate Macadamia Nut</td>\n",
       "      <td>9984.545455</td>\n",
       "      <td>1664.090909</td>\n",
       "    </tr>\n",
       "    <tr>\n",
       "      <th>24</th>\n",
       "      <td>United States</td>\n",
       "      <td>Chocolate Chip</td>\n",
       "      <td>8683.500000</td>\n",
       "      <td>1736.700000</td>\n",
       "    </tr>\n",
       "    <tr>\n",
       "      <th>25</th>\n",
       "      <td>United States</td>\n",
       "      <td>Fortune Cookie</td>\n",
       "      <td>1859.588235</td>\n",
       "      <td>1859.588235</td>\n",
       "    </tr>\n",
       "    <tr>\n",
       "      <th>26</th>\n",
       "      <td>United States</td>\n",
       "      <td>Oatmeal Raisin</td>\n",
       "      <td>8867.500000</td>\n",
       "      <td>1773.500000</td>\n",
       "    </tr>\n",
       "    <tr>\n",
       "      <th>27</th>\n",
       "      <td>United States</td>\n",
       "      <td>Snickerdoodle</td>\n",
       "      <td>6075.058824</td>\n",
       "      <td>1518.764706</td>\n",
       "    </tr>\n",
       "    <tr>\n",
       "      <th>28</th>\n",
       "      <td>United States</td>\n",
       "      <td>Sugar</td>\n",
       "      <td>4500.130435</td>\n",
       "      <td>1500.043478</td>\n",
       "    </tr>\n",
       "    <tr>\n",
       "      <th>29</th>\n",
       "      <td>United States</td>\n",
       "      <td>White Chocolate Macadamia Nut</td>\n",
       "      <td>9328.956522</td>\n",
       "      <td>1554.826087</td>\n",
       "    </tr>\n",
       "  </tbody>\n",
       "</table>\n",
       "</div>"
      ],
      "text/plain": [
       "           Country                          Product      Revenue   Units Sold\n",
       "0            India                  Chocolate Chip   9308.571429  1861.714286\n",
       "1            India                  Fortune Cookie   1749.444444  1749.444444\n",
       "2            India                  Oatmeal Raisin   8120.277778  1624.055556\n",
       "3            India                   Snickerdoodle   6961.000000  1740.250000\n",
       "4            India                           Sugar   5625.000000  1875.000000\n",
       "5            India   White Chocolate Macadamia Nut   9739.500000  1623.250000\n",
       "6         Malaysia                  Chocolate Chip   7910.250000  1582.050000\n",
       "7         Malaysia                  Fortune Cookie   1587.700000  1587.700000\n",
       "8         Malaysia                  Oatmeal Raisin   7099.000000  1419.800000\n",
       "9         Malaysia                   Snickerdoodle   6049.777778  1512.444444\n",
       "10        Malaysia                           Sugar   3919.350000  1306.450000\n",
       "11        Malaysia   White Chocolate Macadamia Nut   7238.181818  1206.363636\n",
       "12     Philippines                  Chocolate Chip   6961.750000  1392.350000\n",
       "13     Philippines                  Fortune Cookie   1558.944444  1558.944444\n",
       "14     Philippines                  Oatmeal Raisin   8504.166667  1700.833333\n",
       "15     Philippines                   Snickerdoodle   4988.800000  1247.200000\n",
       "16     Philippines                           Sugar   4245.136364  1415.045455\n",
       "17     Philippines   White Chocolate Macadamia Nut   8468.181818  1411.363636\n",
       "18  United Kingdom                  Chocolate Chip   8950.875000  1790.175000\n",
       "19  United Kingdom                  Fortune Cookie   1564.150000  1564.150000\n",
       "20  United Kingdom                  Oatmeal Raisin   8778.888889  1755.777778\n",
       "21  United Kingdom                   Snickerdoodle   7568.222222  1892.055556\n",
       "22  United Kingdom                           Sugar   4878.545455  1626.181818\n",
       "23  United Kingdom   White Chocolate Macadamia Nut   9984.545455  1664.090909\n",
       "24   United States                  Chocolate Chip   8683.500000  1736.700000\n",
       "25   United States                  Fortune Cookie   1859.588235  1859.588235\n",
       "26   United States                  Oatmeal Raisin   8867.500000  1773.500000\n",
       "27   United States                   Snickerdoodle   6075.058824  1518.764706\n",
       "28   United States                           Sugar   4500.130435  1500.043478\n",
       "29   United States   White Chocolate Macadamia Nut   9328.956522  1554.826087"
      ]
     },
     "execution_count": 113,
     "metadata": {},
     "output_type": "execute_result"
    }
   ],
   "source": [
    "# grouping results\n",
    "df_gptest = df[['Country','Product','Revenue','Units Sold']]\n",
    "grouped_test1 = df_gptest.groupby(['Country','Product'],as_index=False).mean()\n",
    "grouped_test1"
   ]
  },
  {
   "cell_type": "code",
   "execution_count": 56,
   "id": "dadf3634",
   "metadata": {},
   "outputs": [
    {
     "data": {
      "text/html": [
       "<div>\n",
       "<style scoped>\n",
       "    .dataframe tbody tr th:only-of-type {\n",
       "        vertical-align: middle;\n",
       "    }\n",
       "\n",
       "    .dataframe tbody tr th {\n",
       "        vertical-align: top;\n",
       "    }\n",
       "\n",
       "    .dataframe thead tr th {\n",
       "        text-align: left;\n",
       "    }\n",
       "\n",
       "    .dataframe thead tr:last-of-type th {\n",
       "        text-align: right;\n",
       "    }\n",
       "</style>\n",
       "<table border=\"1\" class=\"dataframe\">\n",
       "  <thead>\n",
       "    <tr>\n",
       "      <th></th>\n",
       "      <th colspan=\"6\" halign=\"left\">Revenue</th>\n",
       "    </tr>\n",
       "    <tr>\n",
       "      <th>Product</th>\n",
       "      <th>Chocolate Chip</th>\n",
       "      <th>Fortune Cookie</th>\n",
       "      <th>Oatmeal Raisin</th>\n",
       "      <th>Snickerdoodle</th>\n",
       "      <th>Sugar</th>\n",
       "      <th>White Chocolate Macadamia Nut</th>\n",
       "    </tr>\n",
       "    <tr>\n",
       "      <th>Country</th>\n",
       "      <th></th>\n",
       "      <th></th>\n",
       "      <th></th>\n",
       "      <th></th>\n",
       "      <th></th>\n",
       "      <th></th>\n",
       "    </tr>\n",
       "  </thead>\n",
       "  <tbody>\n",
       "    <tr>\n",
       "      <th>India</th>\n",
       "      <td>9308.571429</td>\n",
       "      <td>1749.444444</td>\n",
       "      <td>8120.277778</td>\n",
       "      <td>6961.000000</td>\n",
       "      <td>5625.000000</td>\n",
       "      <td>9739.500000</td>\n",
       "    </tr>\n",
       "    <tr>\n",
       "      <th>Malaysia</th>\n",
       "      <td>7910.250000</td>\n",
       "      <td>1587.700000</td>\n",
       "      <td>7099.000000</td>\n",
       "      <td>6049.777778</td>\n",
       "      <td>3919.350000</td>\n",
       "      <td>7238.181818</td>\n",
       "    </tr>\n",
       "    <tr>\n",
       "      <th>Philippines</th>\n",
       "      <td>6961.750000</td>\n",
       "      <td>1558.944444</td>\n",
       "      <td>8504.166667</td>\n",
       "      <td>4988.800000</td>\n",
       "      <td>4245.136364</td>\n",
       "      <td>8468.181818</td>\n",
       "    </tr>\n",
       "    <tr>\n",
       "      <th>United Kingdom</th>\n",
       "      <td>8950.875000</td>\n",
       "      <td>1564.150000</td>\n",
       "      <td>8778.888889</td>\n",
       "      <td>7568.222222</td>\n",
       "      <td>4878.545455</td>\n",
       "      <td>9984.545455</td>\n",
       "    </tr>\n",
       "    <tr>\n",
       "      <th>United States</th>\n",
       "      <td>8683.500000</td>\n",
       "      <td>1859.588235</td>\n",
       "      <td>8867.500000</td>\n",
       "      <td>6075.058824</td>\n",
       "      <td>4500.130435</td>\n",
       "      <td>9328.956522</td>\n",
       "    </tr>\n",
       "  </tbody>\n",
       "</table>\n",
       "</div>"
      ],
      "text/plain": [
       "                        Revenue                                    \\\n",
       "Product         Chocolate Chip   Fortune Cookie   Oatmeal Raisin    \n",
       "Country                                                             \n",
       "India               9308.571429      1749.444444      8120.277778   \n",
       "Malaysia            7910.250000      1587.700000      7099.000000   \n",
       "Philippines         6961.750000      1558.944444      8504.166667   \n",
       "United Kingdom      8950.875000      1564.150000      8778.888889   \n",
       "United States       8683.500000      1859.588235      8867.500000   \n",
       "\n",
       "                                                                             \n",
       "Product         Snickerdoodle        Sugar   White Chocolate Macadamia Nut   \n",
       "Country                                                                      \n",
       "India              6961.000000  5625.000000                     9739.500000  \n",
       "Malaysia           6049.777778  3919.350000                     7238.181818  \n",
       "Philippines        4988.800000  4245.136364                     8468.181818  \n",
       "United Kingdom     7568.222222  4878.545455                     9984.545455  \n",
       "United States      6075.058824  4500.130435                     9328.956522  "
      ]
     },
     "execution_count": 56,
     "metadata": {},
     "output_type": "execute_result"
    }
   ],
   "source": [
    "grouped_pivot = grouped_test1.pivot(index='Country',columns='Product')\n",
    "grouped_pivot"
   ]
  },
  {
   "cell_type": "markdown",
   "id": "ca110ae7",
   "metadata": {},
   "source": [
    "## Heat map to visualize the relationship between Country and Product vs. Revenue"
   ]
  },
  {
   "cell_type": "code",
   "execution_count": 57,
   "id": "bdb16a2d",
   "metadata": {},
   "outputs": [],
   "source": [
    "import matplotlib.pyplot as plt\n",
    "%matplotlib inline "
   ]
  },
  {
   "cell_type": "code",
   "execution_count": 58,
   "id": "4fde8bf0",
   "metadata": {},
   "outputs": [
    {
     "data": {
      "image/png": "[encoded data removed]",
      "text/plain": [
       "<Figure size 640x480 with 2 Axes>"
      ]
     },
     "metadata": {},
     "output_type": "display_data"
    }
   ],
   "source": [
    "fig, ax = plt.subplots()\n",
    "im = ax.pcolor(grouped_pivot, cmap='RdBu')\n",
    "\n",
    "#label names\n",
    "row_labels = grouped_pivot.columns.levels[1]\n",
    "col_labels = grouped_pivot.index\n",
    "\n",
    "#move ticks and labels to the center\n",
    "ax.set_xticks(np.arange(grouped_pivot.shape[1]) + 0.5, minor=False)\n",
    "ax.set_yticks(np.arange(grouped_pivot.shape[0]) + 0.5, minor=False)\n",
    "\n",
    "#insert labels\n",
    "ax.set_xticklabels(row_labels, minor=False)\n",
    "ax.set_yticklabels(col_labels, minor=False)\n",
    "\n",
    "#rotate label if too long\n",
    "plt.xticks(rotation=90)\n",
    "\n",
    "fig.colorbar(im)\n",
    "plt.show()"
   ]
  },
  {
   "cell_type": "code",
   "execution_count": 59,
   "id": "8f0c154a",
   "metadata": {},
   "outputs": [
    {
     "data": {
      "application/vnd.plotly.v1+json": {
       "config": {
        "plotlyServerURL": "https://plot.ly"
       },
       "data": [
        {
         "colorbar": {
          "title": {
           "text": "Units Sold"
          }
         },
         "colorscale": [
          [
           0,
           "rgb(0,0,131)"
          ],
          [
           0.2,
           "rgb(0,60,170)"
          ],
          [
           0.4,
           "rgb(5,255,255)"
          ],
          [
           0.6,
           "rgb(255,255,0)"
          ],
          [
           0.8,
           "rgb(250,0,0)"
          ],
          [
           1,
           "rgb(128,0,0)"
          ]
         ],
         "locationmode": "country names",
         "locations": [
          "India",
          "India",
          "India",
          "India",
          "India",
          "India",
          "India",
          "India",
          "India",
          "India",
          "India",
          "India",
          "India",
          "India",
          "India",
          "India",
          "India",
          "India",
          "India",
          "India",
          "India",
          "India",
          "India",
          "India",
          "India",
          "India",
          "India",
          "India",
          "India",
          "India",
          "India",
          "India",
          "India",
          "India",
          "India",
          "United Kingdom",
          "United Kingdom",
          "United Kingdom",
          "United Kingdom",
          "United Kingdom",
          "United Kingdom",
          "United Kingdom",
          "United Kingdom",
          "United Kingdom",
          "United Kingdom",
          "United Kingdom",
          "United Kingdom",
          "United Kingdom",
          "United Kingdom",
          "United Kingdom",
          "United Kingdom",
          "United Kingdom",
          "United Kingdom",
          "United Kingdom",
          "United Kingdom",
          "United Kingdom",
          "United Kingdom",
          "United Kingdom",
          "United Kingdom",
          "United Kingdom",
          "United Kingdom",
          "United Kingdom",
          "United Kingdom",
          "United Kingdom",
          "United Kingdom",
          "United Kingdom",
          "United Kingdom",
          "United Kingdom",
          "United Kingdom",
          "United Kingdom",
          "Philippines",
          "Philippines",
          "Philippines",
          "Philippines",
          "Philippines",
          "Philippines",
          "Philippines",
          "Philippines",
          "Philippines",
          "Philippines",
          "Philippines",
          "Philippines",
          "Philippines",
          "Philippines",
          "Philippines",
          "Philippines",
          "Philippines",
          "Philippines",
          "Philippines",
          "Philippines",
          "Philippines",
          "Philippines",
          "Philippines",
          "Philippines",
          "Philippines",
          "Philippines",
          "Philippines",
          "Philippines",
          "Philippines",
          "Philippines",
          "Philippines",
          "Philippines",
          "Philippines",
          "Philippines",
          "Philippines",
          "Malaysia",
          "Malaysia",
          "Malaysia",
          "Malaysia",
          "Malaysia",
          "Malaysia",
          "Malaysia",
          "Malaysia",
          "Malaysia",
          "Malaysia",
          "Malaysia",
          "Malaysia",
          "Malaysia",
          "Malaysia",
          "Malaysia",
          "Malaysia",
          "Malaysia",
          "Malaysia",
          "Malaysia",
          "Malaysia",
          "Malaysia",
          "Malaysia",
          "Malaysia",
          "Malaysia",
          "Malaysia",
          "Malaysia",
          "Malaysia",
          "Malaysia",
          "Malaysia",
          "Malaysia",
          "Malaysia",
          "Malaysia",
          "Malaysia",
          "Malaysia",
          "Malaysia",
          "United States",
          "United States",
          "United States",
          "United States",
          "United States",
          "United States",
          "United States",
          "United States",
          "United States",
          "United States",
          "United States",
          "United States",
          "United States",
          "United States",
          "United States",
          "United States",
          "United States",
          "United States",
          "United States",
          "United States",
          "United States",
          "United States",
          "United States",
          "United States",
          "United States",
          "United States",
          "United States",
          "United States",
          "United States",
          "United States",
          "United States",
          "United States",
          "United States",
          "United States",
          "United States",
          "India",
          "India",
          "India",
          "India",
          "India",
          "India",
          "India",
          "India",
          "India",
          "India",
          "India",
          "India",
          "India",
          "India",
          "India",
          "India",
          "India",
          "India",
          "India",
          "India",
          "India",
          "India",
          "India",
          "India",
          "India",
          "India",
          "India",
          "India",
          "India",
          "India",
          "India",
          "India",
          "India",
          "India",
          "India",
          "India",
          "India",
          "India",
          "India",
          "India",
          "India",
          "India",
          "India",
          "India",
          "India",
          "India",
          "India",
          "India",
          "India",
          "India",
          "India",
          "India",
          "India",
          "India",
          "India",
          "India",
          "India",
          "India",
          "India",
          "India",
          "India",
          "India",
          "India",
          "India",
          "India",
          "India",
          "India",
          "India",
          "India",
          "India",
          "India",
          "India",
          "India",
          "India",
          "India",
          "India",
          "India",
          "India",
          "India",
          "India",
          "India",
          "India",
          "India",
          "India",
          "India",
          "India",
          "India",
          "India",
          "India",
          "India",
          "India",
          "India",
          "India",
          "India",
          "India",
          "India",
          "India",
          "India",
          "India",
          "India",
          "India",
          "India",
          "India",
          "India",
          "India",
          "United Kingdom",
          "United Kingdom",
          "United Kingdom",
          "United Kingdom",
          "United Kingdom",
          "United Kingdom",
          "United Kingdom",
          "United Kingdom",
          "United Kingdom",
          "United Kingdom",
          "United Kingdom",
          "United Kingdom",
          "United Kingdom",
          "United Kingdom",
          "United Kingdom",
          "United Kingdom",
          "United Kingdom",
          "United Kingdom",
          "United Kingdom",
          "United Kingdom",
          "United Kingdom",
          "United Kingdom",
          "United Kingdom",
          "United Kingdom",
          "United Kingdom",
          "United Kingdom",
          "United Kingdom",
          "United Kingdom",
          "United Kingdom",
          "United Kingdom",
          "United Kingdom",
          "United Kingdom",
          "United Kingdom",
          "United Kingdom",
          "United Kingdom",
          "United Kingdom",
          "United Kingdom",
          "United Kingdom",
          "United Kingdom",
          "United Kingdom",
          "United Kingdom",
          "United Kingdom",
          "United Kingdom",
          "United Kingdom",
          "United Kingdom",
          "United Kingdom",
          "United Kingdom",
          "United Kingdom",
          "United Kingdom",
          "United Kingdom",
          "United Kingdom",
          "United Kingdom",
          "United Kingdom",
          "United Kingdom",
          "United Kingdom",
          "United Kingdom",
          "United Kingdom",
          "United Kingdom",
          "United Kingdom",
          "United Kingdom",
          "United Kingdom",
          "United Kingdom",
          "United Kingdom",
          "United Kingdom",
          "United Kingdom",
          "United Kingdom",
          "United Kingdom",
          "United Kingdom",
          "United Kingdom",
          "United Kingdom",
          "United Kingdom",
          "United Kingdom",
          "United Kingdom",
          "United Kingdom",
          "United Kingdom",
          "United Kingdom",
          "United Kingdom",
          "United Kingdom",
          "United Kingdom",
          "United Kingdom",
          "United Kingdom",
          "United Kingdom",
          "United Kingdom",
          "United Kingdom",
          "United Kingdom",
          "United Kingdom",
          "United Kingdom",
          "United Kingdom",
          "United Kingdom",
          "United Kingdom",
          "United Kingdom",
          "United Kingdom",
          "United Kingdom",
          "United Kingdom",
          "United Kingdom",
          "United Kingdom",
          "United Kingdom",
          "United Kingdom",
          "United Kingdom",
          "United Kingdom",
          "United Kingdom",
          "United Kingdom",
          "United Kingdom",
          "United Kingdom",
          "United Kingdom",
          "Philippines",
          "Philippines",
          "Philippines",
          "Philippines",
          "Philippines",
          "Philippines",
          "Philippines",
          "Philippines",
          "Philippines",
          "Philippines",
          "Philippines",
          "Philippines",
          "Philippines",
          "Philippines",
          "Philippines",
          "Philippines",
          "Philippines",
          "Philippines",
          "Philippines",
          "Philippines",
          "Philippines",
          "Philippines",
          "Philippines",
          "Philippines",
          "Philippines",
          "Philippines",
          "Philippines",
          "Philippines",
          "Philippines",
          "Philippines",
          "Philippines",
          "Philippines",
          "Philippines",
          "Philippines",
          "Philippines",
          "Philippines",
          "Philippines",
          "Philippines",
          "Philippines",
          "Philippines",
          "Philippines",
          "Philippines",
          "Philippines",
          "Philippines",
          "Philippines",
          "Philippines",
          "Philippines",
          "Philippines",
          "Philippines",
          "Philippines",
          "Philippines",
          "Philippines",
          "Philippines",
          "Philippines",
          "Philippines",
          "Philippines",
          "Philippines",
          "Philippines",
          "Philippines",
          "Philippines",
          "Philippines",
          "Philippines",
          "Philippines",
          "Philippines",
          "Philippines",
          "Philippines",
          "Philippines",
          "Philippines",
          "Philippines",
          "Philippines",
          "Philippines",
          "Philippines",
          "Philippines",
          "Philippines",
          "Philippines",
          "Philippines",
          "Philippines",
          "Philippines",
          "Philippines",
          "Philippines",
          "Philippines",
          "Philippines",
          "Philippines",
          "Philippines",
          "Philippines",
          "Philippines",
          "Philippines",
          "Philippines",
          "Philippines",
          "Philippines",
          "Philippines",
          "Philippines",
          "Philippines",
          "Philippines",
          "Philippines",
          "Philippines",
          "Philippines",
          "Philippines",
          "Philippines",
          "Philippines",
          "Philippines",
          "Philippines",
          "Philippines",
          "Philippines",
          "Philippines",
          "Malaysia",
          "Malaysia",
          "Malaysia",
          "Malaysia",
          "Malaysia",
          "Malaysia",
          "Malaysia",
          "Malaysia",
          "Malaysia",
          "Malaysia",
          "Malaysia",
          "Malaysia",
          "Malaysia",
          "Malaysia",
          "Malaysia",
          "Malaysia",
          "Malaysia",
          "Malaysia",
          "Malaysia",
          "Malaysia",
          "Malaysia",
          "Malaysia",
          "Malaysia",
          "Malaysia",
          "Malaysia",
          "Malaysia",
          "Malaysia",
          "Malaysia",
          "Malaysia",
          "Malaysia",
          "Malaysia",
          "Malaysia",
          "Malaysia",
          "Malaysia",
          "Malaysia",
          "Malaysia",
          "Malaysia",
          "Malaysia",
          "Malaysia",
          "Malaysia",
          "Malaysia",
          "Malaysia",
          "Malaysia",
          "Malaysia",
          "Malaysia",
          "Malaysia",
          "Malaysia",
          "Malaysia",
          "Malaysia",
          "Malaysia",
          "Malaysia",
          "Malaysia",
          "Malaysia",
          "Malaysia",
          "Malaysia",
          "Malaysia",
          "Malaysia",
          "Malaysia",
          "Malaysia",
          "Malaysia",
          "Malaysia",
          "Malaysia",
          "Malaysia",
          "Malaysia",
          "Malaysia",
          "Malaysia",
          "Malaysia",
          "Malaysia",
          "Malaysia",
          "Malaysia",
          "Malaysia",
          "Malaysia",
          "Malaysia",
          "Malaysia",
          "Malaysia",
          "Malaysia",
          "Malaysia",
          "Malaysia",
          "Malaysia",
          "Malaysia",
          "Malaysia",
          "Malaysia",
          "Malaysia",
          "Malaysia",
          "Malaysia",
          "Malaysia",
          "Malaysia",
          "Malaysia",
          "Malaysia",
          "Malaysia",
          "Malaysia",
          "Malaysia",
          "Malaysia",
          "Malaysia",
          "Malaysia",
          "Malaysia",
          "Malaysia",
          "Malaysia",
          "Malaysia",
          "Malaysia",
          "Malaysia",
          "Malaysia",
          "Malaysia",
          "Malaysia",
          "Malaysia",
          "United States",
          "United States",
          "United States",
          "United States",
          "United States",
          "United States",
          "United States",
          "United States",
          "United States",
          "United States",
          "United States",
          "United States",
          "United States",
          "United States",
          "United States",
          "United States",
          "United States",
          "United States",
          "United States",
          "United States",
          "United States",
          "United States",
          "United States",
          "United States",
          "United States",
          "United States",
          "United States",
          "United States",
          "United States",
          "United States",
          "United States",
          "United States",
          "United States",
          "United States",
          "United States",
          "United States",
          "United States",
          "United States",
          "United States",
          "United States",
          "United States",
          "United States",
          "United States",
          "United States",
          "United States",
          "United States",
          "United States",
          "United States",
          "United States",
          "United States",
          "United States",
          "United States",
          "United States",
          "United States",
          "United States",
          "United States",
          "United States",
          "United States",
          "United States",
          "United States",
          "United States",
          "United States",
          "United States",
          "United States",
          "United States",
          "United States",
          "United States",
          "United States",
          "United States",
          "United States",
          "United States",
          "United States",
          "United States",
          "United States",
          "United States",
          "United States",
          "United States",
          "United States",
          "United States",
          "United States",
          "United States",
          "United States",
          "United States",
          "United States",
          "United States",
          "United States",
          "United States",
          "United States",
          "United States",
          "United States",
          "United States",
          "United States",
          "United States",
          "United States",
          "United States",
          "United States",
          "United States",
          "United States",
          "United States",
          "United States",
          "United States",
          "United States",
          "United States",
          "United States",
          "United States"
         ],
         "type": "choropleth",
         "z": [
          1725,
          2152,
          2349,
          1228,
          1389,
          1802,
          2299,
          1404,
          2470,
          1743,
          2222,
          345,
          2851,
          1283,
          1611,
          1778,
          1228,
          2761,
          1743,
          908,
          2851,
          2299,
          1560,
          2416,
          1389,
          2436,
          2935,
          623,
          269,
          2954,
          345,
          2092,
          2646,
          1916,
          269,
          549,
          1785,
          2261,
          704,
          2136,
          1757,
          1031,
          2167,
          1198,
          1922,
          1403,
          1757,
          322,
          1857,
          1186,
          321,
          1403,
          2076,
          306,
          2145,
          1482,
          1198,
          1023,
          1527,
          1221,
          2234,
          2682,
          2167,
          1281,
          704,
          1033,
          1221,
          2076,
          386,
          2805,
          766,
          809,
          1945,
          2116,
          1123,
          2125,
          2409,
          2146,
          1775,
          2992,
          1797,
          1159,
          2500,
          334,
          2992,
          2966,
          1159,
          994,
          970,
          1770,
          766,
          214,
          1016,
          887,
          442,
          214,
          1945,
          2297,
          2215,
          1870,
          2966,
          809,
          588,
          660,
          2536,
          788,
          2145,
          1760,
          1514,
          2763,
          1946,
          367,
          1715,
          380,
          2151,
          1660,
          720,
          1100,
          1715,
          1727,
          1375,
          947,
          344,
          1727,
          1870,
          494,
          1834,
          367,
          2706,
          2821,
          494,
          1940,
          1514,
          1123,
          1005,
          2145,
          544,
          655,
          344,
          2605,
          912,
          1925,
          2013,
          671,
          727,
          2931,
          386,
          380,
          267,
          2007,
          2498,
          663,
          1804,
          2996,
          1989,
          671,
          727,
          2548,
          2015,
          330,
          263,
          386,
          2996,
          266,
          349,
          1265,
          808,
          2294,
          267,
          663,
          736,
          1421,
          2294,
          2574,
          2438,
          292,
          2518,
          1817,
          2363,
          1295,
          1916,
          2852,
          2729,
          1774,
          2009,
          4251,
          218,
          2074,
          2431,
          1702,
          257,
          1094,
          873,
          2105,
          4026,
          2394,
          1366,
          2632,
          1583,
          1565,
          1249,
          2428,
          700,
          1614,
          2559,
          723,
          2518,
          2666,
          1830,
          1967,
          488,
          708,
          3803,
          2321,
          2734,
          1249,
          2228,
          200,
          388,
          2300,
          1916,
          552,
          1135,
          1645,
          1118,
          708,
          1269,
          1631,
          2240,
          3521,
          707,
          2734,
          1659,
          888,
          1619,
          1445,
          743,
          1295,
          2852,
          831,
          2844,
          1884,
          1094,
          819,
          1937,
          2689,
          923,
          1496,
          2300,
          2001,
          1817,
          1326,
          944,
          2729,
          1874,
          2844,
          1582,
          3245,
          2134,
          2529,
          2109,
          1583,
          1565,
          1496,
          866,
          923,
          2009,
          3851,
          2431,
          952,
          1262,
          1135,
          1582,
          598,
          3794,
          567,
          1269,
          384,
          1808,
          2632,
          3945,
          2296,
          1030,
          787,
          2155,
          918,
          1055,
          2435,
          1901,
          1287,
          2988,
          1303,
          2385,
          2620,
          3801,
          1496,
          448,
          2101,
          1535,
          1227,
          1324,
          1954,
          2532,
          2426,
          2441,
          1594,
          2696,
          1393,
          1731,
          293,
          1899,
          1376,
          1901,
          544,
          1287,
          1385,
          2342,
          1976,
          2181,
          2501,
          1562,
          1666,
          2072,
          1773,
          293,
          2750,
          1899,
          941,
          1988,
          2876,
          2072,
          853,
          1433,
          3422,
          1190,
          1393,
          2475,
          1731,
          2475,
          2178,
          2671,
          2155,
          4244,
          1865,
          1563,
          2487,
          448,
          2181,
          490,
          2441,
          2522,
          1790,
          1174,
          2178,
          2151,
          787,
          1744,
          866,
          2177,
          2487,
          1739,
          959,
          575,
          381,
          1227,
          1734,
          3875,
          1491,
          293,
          1804,
          639,
          3864,
          1055,
          2177,
          1579,
          1496,
          1659,
          1976,
          1967,
          639,
          853,
          3998,
          1190,
          2826,
          663,
          1006,
          367,
          1513,
          747,
          1728,
          689,
          1570,
          1706,
          795,
          1415,
          1372,
          1743,
          3513,
          1259,
          1095,
          1366,
          1598,
          1934,
          360,
          241,
          1359,
          1531,
          807,
          2708,
          357,
          1013,
          278,
          1158,
          1085,
          1175,
          921,
          1545,
          2146,
          1958,
          1706,
          1859,
          2021,
          2342,
          1460,
          645,
          711,
          766,
          1199,
          4220,
          1686,
          259,
          2276,
          1907,
          1350,
          1250,
          1366,
          1520,
          711,
          2574,
          472,
          3165,
          1321,
          888,
          1513,
          2580,
          689,
          2021,
          1116,
          663,
          1580,
          792,
          2811,
          280,
          1513,
          2767,
          1085,
          2838,
          888,
          263,
          986,
          2877,
          1570,
          2479,
          2338,
          422,
          2659,
          880,
          360,
          1531,
          280,
          492,
          1175,
          552,
          2161,
          1006,
          1545,
          2877,
          807,
          1250,
          1530,
          1001,
          2087,
          2338,
          1307,
          681,
          510,
          241,
          2665,
          472,
          1013,
          974,
          883,
          2472,
          1823,
          662,
          1084,
          2031,
          1138,
          2689,
          1607,
          1114,
          2460,
          2993,
          1362,
          2565,
          2417,
          1038,
          591,
          1122,
          1984,
          886,
          2156,
          905,
          2150,
          1197,
          1233,
          571,
          260,
          2535,
          2851,
          2470,
          958,
          2214,
          690,
          2031,
          1138,
          980,
          2340,
          2157,
          2420,
          2661,
          604,
          2255,
          546,
          1368,
          1101,
          1865,
          1074,
          1683,
          1123,
          1679,
          2460,
          635,
          1694,
          1038,
          2039,
          2629,
          2157,
          410,
          546,
          2470,
          1210,
          1397,
          2791,
          562,
          727,
          1540,
          1362,
          521,
          886,
          2156,
          2579,
          801,
          1397,
          662,
          1916,
          1642,
          2689,
          1498,
          2747,
          877,
          521,
          341,
          641,
          432,
          554,
          1233,
          2903,
          1493,
          362,
          1084,
          2861,
          1498,
          1333,
          609,
          635,
          245,
          2110,
          2628,
          1395,
          905,
          604,
          410,
          1575,
          500,
          1143,
          1514,
          4493,
          727,
          2905,
          1142,
          1370,
          2918,
          3450,
          1056,
          274,
          2992,
          2327,
          991,
          602,
          861,
          2663,
          2198,
          1153,
          678,
          3675,
          2797,
          973,
          3495,
          1439,
          2641,
          1767,
          2914,
          1177,
          914,
          615,
          2301,
          1142,
          1566,
          3627,
          2723,
          1282,
          2797,
          2328,
          2313,
          677,
          983,
          1298,
          1953,
          2141,
          1143,
          615,
          1236,
          1372,
          1282,
          2907,
          2071,
          579,
          2993,
          3200,
          270,
          2844,
          2914,
          1858,
          2529,
          1947,
          274,
          991,
          570,
          1118,
          2030,
          1761,
          3446,
          2567,
          1743,
          1010,
          727,
          2844,
          2663,
          570,
          1153,
          437,
          1956,
          1352,
          1867,
          2807,
          1579,
          986,
          2387,
          2567,
          2541,
          1010,
          1806,
          2821,
          1566,
          1465,
          555,
          602,
          2832,
          861,
          2755,
          547,
          1372,
          2907,
          790,
          1596,
          986,
          606,
          2460,
          914
         ]
        }
       ],
       "layout": {
        "template": {
         "data": {
          "candlestick": [
           {
            "decreasing": {
             "line": {
              "color": "#000033"
             }
            },
            "increasing": {
             "line": {
              "color": "#000032"
             }
            },
            "type": "candlestick"
           }
          ],
          "contour": [
           {
            "colorscale": [
             [
              0,
              "#000011"
             ],
             [
              0.1111111111111111,
              "#000012"
             ],
             [
              0.2222222222222222,
              "#000013"
             ],
             [
              0.3333333333333333,
              "#000014"
             ],
             [
              0.4444444444444444,
              "#000015"
             ],
             [
              0.5555555555555556,
              "#000016"
             ],
             [
              0.6666666666666666,
              "#000017"
             ],
             [
              0.7777777777777778,
              "#000018"
             ],
             [
              0.8888888888888888,
              "#000019"
             ],
             [
              1,
              "#000020"
             ]
            ],
            "type": "contour"
           }
          ],
          "contourcarpet": [
           {
            "colorscale": [
             [
              0,
              "#000011"
             ],
             [
              0.1111111111111111,
              "#000012"
             ],
             [
              0.2222222222222222,
              "#000013"
             ],
             [
              0.3333333333333333,
              "#000014"
             ],
             [
              0.4444444444444444,
              "#000015"
             ],
             [
              0.5555555555555556,
              "#000016"
             ],
             [
              0.6666666666666666,
              "#000017"
             ],
             [
              0.7777777777777778,
              "#000018"
             ],
             [
              0.8888888888888888,
              "#000019"
             ],
             [
              1,
              "#000020"
             ]
            ],
            "type": "contourcarpet"
           }
          ],
          "heatmap": [
           {
            "colorscale": [
             [
              0,
              "#000011"
             ],
             [
              0.1111111111111111,
              "#000012"
             ],
             [
              0.2222222222222222,
              "#000013"
             ],
             [
              0.3333333333333333,
              "#000014"
             ],
             [
              0.4444444444444444,
              "#000015"
             ],
             [
              0.5555555555555556,
              "#000016"
             ],
             [
              0.6666666666666666,
              "#000017"
             ],
             [
              0.7777777777777778,
              "#000018"
             ],
             [
              0.8888888888888888,
              "#000019"
             ],
             [
              1,
              "#000020"
             ]
            ],
            "type": "heatmap"
           }
          ],
          "histogram2d": [
           {
            "colorscale": [
             [
              0,
              "#000011"
             ],
             [
              0.1111111111111111,
              "#000012"
             ],
             [
              0.2222222222222222,
              "#000013"
             ],
             [
              0.3333333333333333,
              "#000014"
             ],
             [
              0.4444444444444444,
              "#000015"
             ],
             [
              0.5555555555555556,
              "#000016"
             ],
             [
              0.6666666666666666,
              "#000017"
             ],
             [
              0.7777777777777778,
              "#000018"
             ],
             [
              0.8888888888888888,
              "#000019"
             ],
             [
              1,
              "#000020"
             ]
            ],
            "type": "histogram2d"
           }
          ],
          "icicle": [
           {
            "textfont": {
             "color": "white"
            },
            "type": "icicle"
           }
          ],
          "sankey": [
           {
            "textfont": {
             "color": "#000036"
            },
            "type": "sankey"
           }
          ],
          "scatter": [
           {
            "marker": {
             "line": {
              "width": 0
             }
            },
            "type": "scatter"
           }
          ],
          "table": [
           {
            "cells": {
             "fill": {
              "color": "#000038"
             },
             "font": {
              "color": "#000037"
             },
             "line": {
              "color": "#000039"
             }
            },
            "header": {
             "fill": {
              "color": "#000040"
             },
             "font": {
              "color": "#000036"
             },
             "line": {
              "color": "#000039"
             }
            },
            "type": "table"
           }
          ],
          "waterfall": [
           {
            "connector": {
             "line": {
              "color": "#000036",
              "width": 2
             }
            },
            "decreasing": {
             "marker": {
              "color": "#000033"
             }
            },
            "increasing": {
             "marker": {
              "color": "#000032"
             }
            },
            "totals": {
             "marker": {
              "color": "#000034"
             }
            },
            "type": "waterfall"
           }
          ]
         },
         "layout": {
          "coloraxis": {
           "colorscale": [
            [
             0,
             "#000011"
            ],
            [
             0.1111111111111111,
             "#000012"
            ],
            [
             0.2222222222222222,
             "#000013"
            ],
            [
             0.3333333333333333,
             "#000014"
            ],
            [
             0.4444444444444444,
             "#000015"
            ],
            [
             0.5555555555555556,
             "#000016"
            ],
            [
             0.6666666666666666,
             "#000017"
            ],
            [
             0.7777777777777778,
             "#000018"
            ],
            [
             0.8888888888888888,
             "#000019"
            ],
            [
             1,
             "#000020"
            ]
           ]
          },
          "colorscale": {
           "diverging": [
            [
             0,
             "#000021"
            ],
            [
             0.1,
             "#000022"
            ],
            [
             0.2,
             "#000023"
            ],
            [
             0.3,
             "#000024"
            ],
            [
             0.4,
             "#000025"
            ],
            [
             0.5,
             "#000026"
            ],
            [
             0.6,
             "#000027"
            ],
            [
             0.7,
             "#000028"
            ],
            [
             0.8,
             "#000029"
            ],
            [
             0.9,
             "#000030"
            ],
            [
             1,
             "#000031"
            ]
           ],
           "sequential": [
            [
             0,
             "#000011"
            ],
            [
             0.1111111111111111,
             "#000012"
            ],
            [
             0.2222222222222222,
             "#000013"
            ],
            [
             0.3333333333333333,
             "#000014"
            ],
            [
             0.4444444444444444,
             "#000015"
            ],
            [
             0.5555555555555556,
             "#000016"
            ],
            [
             0.6666666666666666,
             "#000017"
            ],
            [
             0.7777777777777778,
             "#000018"
            ],
            [
             0.8888888888888888,
             "#000019"
            ],
            [
             1,
             "#000020"
            ]
           ],
           "sequentialminus": [
            [
             0,
             "#000011"
            ],
            [
             0.1111111111111111,
             "#000012"
            ],
            [
             0.2222222222222222,
             "#000013"
            ],
            [
             0.3333333333333333,
             "#000014"
            ],
            [
             0.4444444444444444,
             "#000015"
            ],
            [
             0.5555555555555556,
             "#000016"
            ],
            [
             0.6666666666666666,
             "#000017"
            ],
            [
             0.7777777777777778,
             "#000018"
            ],
            [
             0.8888888888888888,
             "#000019"
            ],
            [
             1,
             "#000020"
            ]
           ]
          },
          "colorway": [
           "#000001",
           "#000002",
           "#000003",
           "#000004",
           "#000005",
           "#000006",
           "#000007",
           "#000008",
           "#000009",
           "#000010"
          ]
         }
        },
        "title": {
         "text": "<b>Countries Population Growth Rate</b>",
         "x": 0.5
        }
       }
      },
      "text/html": [
       "<div>                            <div id=\"89872487-65b2-4bb1-a072-87fb84d9b9ad\" class=\"plotly-graph-div\" style=\"height:525px; width:100%;\"></div>            <script type=\"text/javascript\">                require([\"plotly\"], function(Plotly) {                    window.PLOTLYENV=window.PLOTLYENV || {};                                    if (document.getElementById(\"89872487-65b2-4bb1-a072-87fb84d9b9ad\")) {                    Plotly.newPlot(                        \"89872487-65b2-4bb1-a072-87fb84d9b9ad\",                        [{\"colorbar\":{\"title\":{\"text\":\"Units Sold\"}},\"colorscale\":[[0.0,\"rgb(0,0,131)\"],[0.2,\"rgb(0,60,170)\"],[0.4,\"rgb(5,255,255)\"],[0.6,\"rgb(255,255,0)\"],[0.8,\"rgb(250,0,0)\"],[1.0,\"rgb(128,0,0)\"]],\"locationmode\":\"country names\",\"locations\":[\"India\",\"India\",\"India\",\"India\",\"India\",\"India\",\"India\",\"India\",\"India\",\"India\",\"India\",\"India\",\"India\",\"India\",\"India\",\"India\",\"India\",\"India\",\"India\",\"India\",\"India\",\"India\",\"India\",\"India\",\"India\",\"India\",\"India\",\"India\",\"India\",\"India\",\"India\",\"India\",\"India\",\"India\",\"India\",\"United Kingdom\",\"United Kingdom\",\"United Kingdom\",\"United Kingdom\",\"United Kingdom\",\"United Kingdom\",\"United Kingdom\",\"United Kingdom\",\"United Kingdom\",\"United Kingdom\",\"United Kingdom\",\"United Kingdom\",\"United Kingdom\",\"United Kingdom\",\"United Kingdom\",\"United Kingdom\",\"United Kingdom\",\"United Kingdom\",\"United Kingdom\",\"United Kingdom\",\"United Kingdom\",\"United Kingdom\",\"United Kingdom\",\"United Kingdom\",\"United Kingdom\",\"United Kingdom\",\"United Kingdom\",\"United Kingdom\",\"United Kingdom\",\"United Kingdom\",\"United Kingdom\",\"United Kingdom\",\"United Kingdom\",\"United Kingdom\",\"United Kingdom\",\"Philippines\",\"Philippines\",\"Philippines\",\"Philippines\",\"Philippines\",\"Philippines\",\"Philippines\",\"Philippines\",\"Philippines\",\"Philippines\",\"Philippines\",\"Philippines\",\"Philippines\",\"Philippines\",\"Philippines\",\"Philippines\",\"Philippines\",\"Philippines\",\"Philippines\",\"Philippines\",\"Philippines\",\"Philippines\",\"Philippines\",\"Philippines\",\"Philippines\",\"Philippines\",\"Philippines\",\"Philippines\",\"Philippines\",\"Philippines\",\"Philippines\",\"Philippines\",\"Philippines\",\"Philippines\",\"Philippines\",\"Malaysia\",\"Malaysia\",\"Malaysia\",\"Malaysia\",\"Malaysia\",\"Malaysia\",\"Malaysia\",\"Malaysia\",\"Malaysia\",\"Malaysia\",\"Malaysia\",\"Malaysia\",\"Malaysia\",\"Malaysia\",\"Malaysia\",\"Malaysia\",\"Malaysia\",\"Malaysia\",\"Malaysia\",\"Malaysia\",\"Malaysia\",\"Malaysia\",\"Malaysia\",\"Malaysia\",\"Malaysia\",\"Malaysia\",\"Malaysia\",\"Malaysia\",\"Malaysia\",\"Malaysia\",\"Malaysia\",\"Malaysia\",\"Malaysia\",\"Malaysia\",\"Malaysia\",\"United States\",\"United States\",\"United States\",\"United States\",\"United States\",\"United States\",\"United States\",\"United States\",\"United States\",\"United States\",\"United States\",\"United States\",\"United States\",\"United States\",\"United States\",\"United States\",\"United States\",\"United States\",\"United States\",\"United States\",\"United States\",\"United States\",\"United States\",\"United States\",\"United States\",\"United States\",\"United States\",\"United States\",\"United States\",\"United States\",\"United States\",\"United States\",\"United States\",\"United States\",\"United States\",\"India\",\"India\",\"India\",\"India\",\"India\",\"India\",\"India\",\"India\",\"India\",\"India\",\"India\",\"India\",\"India\",\"India\",\"India\",\"India\",\"India\",\"India\",\"India\",\"India\",\"India\",\"India\",\"India\",\"India\",\"India\",\"India\",\"India\",\"India\",\"India\",\"India\",\"India\",\"India\",\"India\",\"India\",\"India\",\"India\",\"India\",\"India\",\"India\",\"India\",\"India\",\"India\",\"India\",\"India\",\"India\",\"India\",\"India\",\"India\",\"India\",\"India\",\"India\",\"India\",\"India\",\"India\",\"India\",\"India\",\"India\",\"India\",\"India\",\"India\",\"India\",\"India\",\"India\",\"India\",\"India\",\"India\",\"India\",\"India\",\"India\",\"India\",\"India\",\"India\",\"India\",\"India\",\"India\",\"India\",\"India\",\"India\",\"India\",\"India\",\"India\",\"India\",\"India\",\"India\",\"India\",\"India\",\"India\",\"India\",\"India\",\"India\",\"India\",\"India\",\"India\",\"India\",\"India\",\"India\",\"India\",\"India\",\"India\",\"India\",\"India\",\"India\",\"India\",\"India\",\"India\",\"United Kingdom\",\"United Kingdom\",\"United Kingdom\",\"United Kingdom\",\"United Kingdom\",\"United Kingdom\",\"United Kingdom\",\"United Kingdom\",\"United Kingdom\",\"United Kingdom\",\"United Kingdom\",\"United Kingdom\",\"United Kingdom\",\"United Kingdom\",\"United Kingdom\",\"United Kingdom\",\"United Kingdom\",\"United Kingdom\",\"United Kingdom\",\"United Kingdom\",\"United Kingdom\",\"United Kingdom\",\"United Kingdom\",\"United Kingdom\",\"United Kingdom\",\"United Kingdom\",\"United Kingdom\",\"United Kingdom\",\"United Kingdom\",\"United Kingdom\",\"United Kingdom\",\"United Kingdom\",\"United Kingdom\",\"United Kingdom\",\"United Kingdom\",\"United Kingdom\",\"United Kingdom\",\"United Kingdom\",\"United Kingdom\",\"United Kingdom\",\"United Kingdom\",\"United Kingdom\",\"United Kingdom\",\"United Kingdom\",\"United Kingdom\",\"United Kingdom\",\"United Kingdom\",\"United Kingdom\",\"United Kingdom\",\"United Kingdom\",\"United Kingdom\",\"United Kingdom\",\"United Kingdom\",\"United Kingdom\",\"United Kingdom\",\"United Kingdom\",\"United Kingdom\",\"United Kingdom\",\"United Kingdom\",\"United Kingdom\",\"United Kingdom\",\"United Kingdom\",\"United Kingdom\",\"United Kingdom\",\"United Kingdom\",\"United Kingdom\",\"United Kingdom\",\"United Kingdom\",\"United Kingdom\",\"United Kingdom\",\"United Kingdom\",\"United Kingdom\",\"United Kingdom\",\"United Kingdom\",\"United Kingdom\",\"United Kingdom\",\"United Kingdom\",\"United Kingdom\",\"United Kingdom\",\"United Kingdom\",\"United Kingdom\",\"United Kingdom\",\"United Kingdom\",\"United Kingdom\",\"United Kingdom\",\"United Kingdom\",\"United Kingdom\",\"United Kingdom\",\"United Kingdom\",\"United Kingdom\",\"United Kingdom\",\"United Kingdom\",\"United Kingdom\",\"United Kingdom\",\"United Kingdom\",\"United Kingdom\",\"United Kingdom\",\"United Kingdom\",\"United Kingdom\",\"United Kingdom\",\"United Kingdom\",\"United Kingdom\",\"United Kingdom\",\"United Kingdom\",\"United Kingdom\",\"Philippines\",\"Philippines\",\"Philippines\",\"Philippines\",\"Philippines\",\"Philippines\",\"Philippines\",\"Philippines\",\"Philippines\",\"Philippines\",\"Philippines\",\"Philippines\",\"Philippines\",\"Philippines\",\"Philippines\",\"Philippines\",\"Philippines\",\"Philippines\",\"Philippines\",\"Philippines\",\"Philippines\",\"Philippines\",\"Philippines\",\"Philippines\",\"Philippines\",\"Philippines\",\"Philippines\",\"Philippines\",\"Philippines\",\"Philippines\",\"Philippines\",\"Philippines\",\"Philippines\",\"Philippines\",\"Philippines\",\"Philippines\",\"Philippines\",\"Philippines\",\"Philippines\",\"Philippines\",\"Philippines\",\"Philippines\",\"Philippines\",\"Philippines\",\"Philippines\",\"Philippines\",\"Philippines\",\"Philippines\",\"Philippines\",\"Philippines\",\"Philippines\",\"Philippines\",\"Philippines\",\"Philippines\",\"Philippines\",\"Philippines\",\"Philippines\",\"Philippines\",\"Philippines\",\"Philippines\",\"Philippines\",\"Philippines\",\"Philippines\",\"Philippines\",\"Philippines\",\"Philippines\",\"Philippines\",\"Philippines\",\"Philippines\",\"Philippines\",\"Philippines\",\"Philippines\",\"Philippines\",\"Philippines\",\"Philippines\",\"Philippines\",\"Philippines\",\"Philippines\",\"Philippines\",\"Philippines\",\"Philippines\",\"Philippines\",\"Philippines\",\"Philippines\",\"Philippines\",\"Philippines\",\"Philippines\",\"Philippines\",\"Philippines\",\"Philippines\",\"Philippines\",\"Philippines\",\"Philippines\",\"Philippines\",\"Philippines\",\"Philippines\",\"Philippines\",\"Philippines\",\"Philippines\",\"Philippines\",\"Philippines\",\"Philippines\",\"Philippines\",\"Philippines\",\"Philippines\",\"Malaysia\",\"Malaysia\",\"Malaysia\",\"Malaysia\",\"Malaysia\",\"Malaysia\",\"Malaysia\",\"Malaysia\",\"Malaysia\",\"Malaysia\",\"Malaysia\",\"Malaysia\",\"Malaysia\",\"Malaysia\",\"Malaysia\",\"Malaysia\",\"Malaysia\",\"Malaysia\",\"Malaysia\",\"Malaysia\",\"Malaysia\",\"Malaysia\",\"Malaysia\",\"Malaysia\",\"Malaysia\",\"Malaysia\",\"Malaysia\",\"Malaysia\",\"Malaysia\",\"Malaysia\",\"Malaysia\",\"Malaysia\",\"Malaysia\",\"Malaysia\",\"Malaysia\",\"Malaysia\",\"Malaysia\",\"Malaysia\",\"Malaysia\",\"Malaysia\",\"Malaysia\",\"Malaysia\",\"Malaysia\",\"Malaysia\",\"Malaysia\",\"Malaysia\",\"Malaysia\",\"Malaysia\",\"Malaysia\",\"Malaysia\",\"Malaysia\",\"Malaysia\",\"Malaysia\",\"Malaysia\",\"Malaysia\",\"Malaysia\",\"Malaysia\",\"Malaysia\",\"Malaysia\",\"Malaysia\",\"Malaysia\",\"Malaysia\",\"Malaysia\",\"Malaysia\",\"Malaysia\",\"Malaysia\",\"Malaysia\",\"Malaysia\",\"Malaysia\",\"Malaysia\",\"Malaysia\",\"Malaysia\",\"Malaysia\",\"Malaysia\",\"Malaysia\",\"Malaysia\",\"Malaysia\",\"Malaysia\",\"Malaysia\",\"Malaysia\",\"Malaysia\",\"Malaysia\",\"Malaysia\",\"Malaysia\",\"Malaysia\",\"Malaysia\",\"Malaysia\",\"Malaysia\",\"Malaysia\",\"Malaysia\",\"Malaysia\",\"Malaysia\",\"Malaysia\",\"Malaysia\",\"Malaysia\",\"Malaysia\",\"Malaysia\",\"Malaysia\",\"Malaysia\",\"Malaysia\",\"Malaysia\",\"Malaysia\",\"Malaysia\",\"Malaysia\",\"Malaysia\",\"United States\",\"United States\",\"United States\",\"United States\",\"United States\",\"United States\",\"United States\",\"United States\",\"United States\",\"United States\",\"United States\",\"United States\",\"United States\",\"United States\",\"United States\",\"United States\",\"United States\",\"United States\",\"United States\",\"United States\",\"United States\",\"United States\",\"United States\",\"United States\",\"United States\",\"United States\",\"United States\",\"United States\",\"United States\",\"United States\",\"United States\",\"United States\",\"United States\",\"United States\",\"United States\",\"United States\",\"United States\",\"United States\",\"United States\",\"United States\",\"United States\",\"United States\",\"United States\",\"United States\",\"United States\",\"United States\",\"United States\",\"United States\",\"United States\",\"United States\",\"United States\",\"United States\",\"United States\",\"United States\",\"United States\",\"United States\",\"United States\",\"United States\",\"United States\",\"United States\",\"United States\",\"United States\",\"United States\",\"United States\",\"United States\",\"United States\",\"United States\",\"United States\",\"United States\",\"United States\",\"United States\",\"United States\",\"United States\",\"United States\",\"United States\",\"United States\",\"United States\",\"United States\",\"United States\",\"United States\",\"United States\",\"United States\",\"United States\",\"United States\",\"United States\",\"United States\",\"United States\",\"United States\",\"United States\",\"United States\",\"United States\",\"United States\",\"United States\",\"United States\",\"United States\",\"United States\",\"United States\",\"United States\",\"United States\",\"United States\",\"United States\",\"United States\",\"United States\",\"United States\",\"United States\"],\"z\":[1725,2152,2349,1228,1389,1802,2299,1404,2470,1743,2222,345,2851,1283,1611,1778,1228,2761,1743,908,2851,2299,1560,2416,1389,2436,2935,623,269,2954,345,2092,2646,1916,269,549,1785,2261,704,2136,1757,1031,2167,1198,1922,1403,1757,322,1857,1186,321,1403,2076,306,2145,1482,1198,1023,1527,1221,2234,2682,2167,1281,704,1033,1221,2076,386,2805,766,809,1945,2116,1123,2125,2409,2146,1775,2992,1797,1159,2500,334,2992,2966,1159,994,970,1770,766,214,1016,887,442,214,1945,2297,2215,1870,2966,809,588,660,2536,788,2145,1760,1514,2763,1946,367,1715,380,2151,1660,720,1100,1715,1727,1375,947,344,1727,1870,494,1834,367,2706,2821,494,1940,1514,1123,1005,2145,544,655,344,2605,912,1925,2013,671,727,2931,386,380,267,2007,2498,663,1804,2996,1989,671,727,2548,2015,330,263,386,2996,266,349,1265,808,2294,267,663,736,1421,2294,2574,2438,292,2518,1817,2363,1295,1916,2852,2729,1774,2009,4251,218,2074,2431,1702,257,1094,873,2105,4026,2394,1366,2632,1583,1565,1249,2428,700,1614,2559,723,2518,2666,1830,1967,488,708,3803,2321,2734,1249,2228,200,388,2300,1916,552,1135,1645,1118,708,1269,1631,2240,3521,707,2734,1659,888,1619,1445,743,1295,2852,831,2844,1884,1094,819,1937,2689,923,1496,2300,2001,1817,1326,944,2729,1874,2844,1582,3245,2134,2529,2109,1583,1565,1496,866,923,2009,3851,2431,952,1262,1135,1582,598,3794,567,1269,384,1808,2632,3945,2296,1030,787,2155,918,1055,2435,1901,1287,2988,1303,2385,2620,3801,1496,448,2101,1535,1227,1324,1954,2532,2426,2441,1594,2696,1393,1731,293,1899,1376,1901,544,1287,1385,2342,1976,2181,2501,1562,1666,2072,1773,293,2750,1899,941,1988,2876,2072,853,1433,3422,1190,1393,2475,1731,2475,2178,2671,2155,4244,1865,1563,2487,448,2181,490,2441,2522,1790,1174,2178,2151,787,1744,866,2177,2487,1739,959,575,381,1227,1734,3875,1491,293,1804,639,3864,1055,2177,1579,1496,1659,1976,1967,639,853,3998,1190,2826,663,1006,367,1513,747,1728,689,1570,1706,795,1415,1372,1743,3513,1259,1095,1366,1598,1934,360,241,1359,1531,807,2708,357,1013,278,1158,1085,1175,921,1545,2146,1958,1706,1859,2021,2342,1460,645,711,766,1199,4220,1686,259,2276,1907,1350,1250,1366,1520,711,2574,472,3165,1321,888,1513,2580,689,2021,1116,663,1580,792,2811,280,1513,2767,1085,2838,888,263,986,2877,1570,2479,2338,422,2659,880,360,1531,280,492,1175,552,2161,1006,1545,2877,807,1250,1530,1001,2087,2338,1307,681,510,241,2665,472,1013,974,883,2472,1823,662,1084,2031,1138,2689,1607,1114,2460,2993,1362,2565,2417,1038,591,1122,1984,886,2156,905,2150,1197,1233,571,260,2535,2851,2470,958,2214,690,2031,1138,980,2340,2157,2420,2661,604,2255,546,1368,1101,1865,1074,1683,1123,1679,2460,635,1694,1038,2039,2629,2157,410,546,2470,1210,1397,2791,562,727,1540,1362,521,886,2156,2579,801,1397,662,1916,1642,2689,1498,2747,877,521,341,641,432,554,1233,2903,1493,362,1084,2861,1498,1333,609,635,245,2110,2628,1395,905,604,410,1575,500,1143,1514,4493,727,2905,1142,1370,2918,3450,1056,274,2992,2327,991,602,861,2663,2198,1153,678,3675,2797,973,3495,1439,2641,1767,2914,1177,914,615,2301,1142,1566,3627,2723,1282,2797,2328,2313,677,983,1298,1953,2141,1143,615,1236,1372,1282,2907,2071,579,2993,3200,270,2844,2914,1858,2529,1947,274,991,570,1118,2030,1761,3446,2567,1743,1010,727,2844,2663,570,1153,437,1956,1352,1867,2807,1579,986,2387,2567,2541,1010,1806,2821,1566,1465,555,602,2832,861,2755,547,1372,2907,790,1596,986,606,2460,914],\"type\":\"choropleth\"}],                        {\"template\":{\"data\":{\"candlestick\":[{\"decreasing\":{\"line\":{\"color\":\"#000033\"}},\"increasing\":{\"line\":{\"color\":\"#000032\"}},\"type\":\"candlestick\"}],\"contourcarpet\":[{\"colorscale\":[[0.0,\"#000011\"],[0.1111111111111111,\"#000012\"],[0.2222222222222222,\"#000013\"],[0.3333333333333333,\"#000014\"],[0.4444444444444444,\"#000015\"],[0.5555555555555556,\"#000016\"],[0.6666666666666666,\"#000017\"],[0.7777777777777778,\"#000018\"],[0.8888888888888888,\"#000019\"],[1.0,\"#000020\"]],\"type\":\"contourcarpet\"}],\"contour\":[{\"colorscale\":[[0.0,\"#000011\"],[0.1111111111111111,\"#000012\"],[0.2222222222222222,\"#000013\"],[0.3333333333333333,\"#000014\"],[0.4444444444444444,\"#000015\"],[0.5555555555555556,\"#000016\"],[0.6666666666666666,\"#000017\"],[0.7777777777777778,\"#000018\"],[0.8888888888888888,\"#000019\"],[1.0,\"#000020\"]],\"type\":\"contour\"}],\"heatmap\":[{\"colorscale\":[[0.0,\"#000011\"],[0.1111111111111111,\"#000012\"],[0.2222222222222222,\"#000013\"],[0.3333333333333333,\"#000014\"],[0.4444444444444444,\"#000015\"],[0.5555555555555556,\"#000016\"],[0.6666666666666666,\"#000017\"],[0.7777777777777778,\"#000018\"],[0.8888888888888888,\"#000019\"],[1.0,\"#000020\"]],\"type\":\"heatmap\"}],\"histogram2d\":[{\"colorscale\":[[0.0,\"#000011\"],[0.1111111111111111,\"#000012\"],[0.2222222222222222,\"#000013\"],[0.3333333333333333,\"#000014\"],[0.4444444444444444,\"#000015\"],[0.5555555555555556,\"#000016\"],[0.6666666666666666,\"#000017\"],[0.7777777777777778,\"#000018\"],[0.8888888888888888,\"#000019\"],[1.0,\"#000020\"]],\"type\":\"histogram2d\"}],\"icicle\":[{\"textfont\":{\"color\":\"white\"},\"type\":\"icicle\"}],\"sankey\":[{\"textfont\":{\"color\":\"#000036\"},\"type\":\"sankey\"}],\"scatter\":[{\"marker\":{\"line\":{\"width\":0}},\"type\":\"scatter\"}],\"table\":[{\"cells\":{\"fill\":{\"color\":\"#000038\"},\"font\":{\"color\":\"#000037\"},\"line\":{\"color\":\"#000039\"}},\"header\":{\"fill\":{\"color\":\"#000040\"},\"font\":{\"color\":\"#000036\"},\"line\":{\"color\":\"#000039\"}},\"type\":\"table\"}],\"waterfall\":[{\"connector\":{\"line\":{\"color\":\"#000036\",\"width\":2}},\"decreasing\":{\"marker\":{\"color\":\"#000033\"}},\"increasing\":{\"marker\":{\"color\":\"#000032\"}},\"totals\":{\"marker\":{\"color\":\"#000034\"}},\"type\":\"waterfall\"}]},\"layout\":{\"coloraxis\":{\"colorscale\":[[0.0,\"#000011\"],[0.1111111111111111,\"#000012\"],[0.2222222222222222,\"#000013\"],[0.3333333333333333,\"#000014\"],[0.4444444444444444,\"#000015\"],[0.5555555555555556,\"#000016\"],[0.6666666666666666,\"#000017\"],[0.7777777777777778,\"#000018\"],[0.8888888888888888,\"#000019\"],[1.0,\"#000020\"]]},\"colorscale\":{\"diverging\":[[0.0,\"#000021\"],[0.1,\"#000022\"],[0.2,\"#000023\"],[0.3,\"#000024\"],[0.4,\"#000025\"],[0.5,\"#000026\"],[0.6,\"#000027\"],[0.7,\"#000028\"],[0.8,\"#000029\"],[0.9,\"#000030\"],[1.0,\"#000031\"]],\"sequential\":[[0.0,\"#000011\"],[0.1111111111111111,\"#000012\"],[0.2222222222222222,\"#000013\"],[0.3333333333333333,\"#000014\"],[0.4444444444444444,\"#000015\"],[0.5555555555555556,\"#000016\"],[0.6666666666666666,\"#000017\"],[0.7777777777777778,\"#000018\"],[0.8888888888888888,\"#000019\"],[1.0,\"#000020\"]],\"sequentialminus\":[[0.0,\"#000011\"],[0.1111111111111111,\"#000012\"],[0.2222222222222222,\"#000013\"],[0.3333333333333333,\"#000014\"],[0.4444444444444444,\"#000015\"],[0.5555555555555556,\"#000016\"],[0.6666666666666666,\"#000017\"],[0.7777777777777778,\"#000018\"],[0.8888888888888888,\"#000019\"],[1.0,\"#000020\"]]},\"colorway\":[\"#000001\",\"#000002\",\"#000003\",\"#000004\",\"#000005\",\"#000006\",\"#000007\",\"#000008\",\"#000009\",\"#000010\"]}},\"title\":{\"text\":\"<b>Countries Population Growth Rate</b>\",\"x\":0.5}},                        {\"responsive\": true}                    ).then(function(){\n",
       "                            \n",
       "var gd = document.getElementById('89872487-65b2-4bb1-a072-87fb84d9b9ad');\n",
       "var x = new MutationObserver(function (mutations, observer) {{\n",
       "        var display = window.getComputedStyle(gd).display;\n",
       "        if (!display || display === 'none') {{\n",
       "            console.log([gd, 'removed!']);\n",
       "            Plotly.purge(gd);\n",
       "            observer.disconnect();\n",
       "        }}\n",
       "}});\n",
       "\n",
       "// Listen for the removal of the full notebook cells\n",
       "var notebookContainer = gd.closest('#notebook-container');\n",
       "if (notebookContainer) {{\n",
       "    x.observe(notebookContainer, {childList: true});\n",
       "}}\n",
       "\n",
       "// Listen for the clearing of the current output cell\n",
       "var outputEl = gd.closest('.output');\n",
       "if (outputEl) {{\n",
       "    x.observe(outputEl, {childList: true});\n",
       "}}\n",
       "\n",
       "                        })                };                });            </script>        </div>"
      ]
     },
     "metadata": {},
     "output_type": "display_data"
    }
   ],
   "source": [
    "fig = go.Figure(data=go.Choropleth(\n",
    "    locations=df['Country'],\n",
    "    z = df['Units Sold'],\n",
    "    locationmode = 'country names', \n",
    "    colorscale = 'jet',\n",
    "    colorbar_title = \"Units Sold\",\n",
    "))\n",
    "\n",
    "fig.update_layout(\n",
    "    title = dict(text = '<b>Countries Population Growth Rate</b>',\n",
    "    x = 0.5)\n",
    ")\n",
    "\n",
    "fig.show()"
   ]
  },
  {
   "cell_type": "markdown",
   "id": "ebebdcbc",
   "metadata": {},
   "source": [
    "## This world map shows:\n",
    "India is the top country by profit generation among \n",
    "Malaysia,\t\n",
    "Philippines,\t\n",
    "United Kingdom,\t\n",
    "United States"
   ]
  },
  {
   "cell_type": "code",
   "execution_count": 60,
   "id": "35632265",
   "metadata": {},
   "outputs": [
    {
     "data": {
      "text/html": [
       "<div>\n",
       "<style scoped>\n",
       "    .dataframe tbody tr th:only-of-type {\n",
       "        vertical-align: middle;\n",
       "    }\n",
       "\n",
       "    .dataframe tbody tr th {\n",
       "        vertical-align: top;\n",
       "    }\n",
       "\n",
       "    .dataframe thead th {\n",
       "        text-align: right;\n",
       "    }\n",
       "</style>\n",
       "<table border=\"1\" class=\"dataframe\">\n",
       "  <thead>\n",
       "    <tr style=\"text-align: right;\">\n",
       "      <th></th>\n",
       "      <th>Units Sold</th>\n",
       "    </tr>\n",
       "    <tr>\n",
       "      <th>Product</th>\n",
       "      <th></th>\n",
       "    </tr>\n",
       "  </thead>\n",
       "  <tbody>\n",
       "    <tr>\n",
       "      <th>Chocolate Chip</th>\n",
       "      <td>338243</td>\n",
       "    </tr>\n",
       "    <tr>\n",
       "      <th>Sugar</th>\n",
       "      <td>168787</td>\n",
       "    </tr>\n",
       "    <tr>\n",
       "      <th>White Chocolate Macadamia Nut</th>\n",
       "      <td>162426</td>\n",
       "    </tr>\n",
       "    <tr>\n",
       "      <th>Oatmeal Raisin</th>\n",
       "      <td>155318</td>\n",
       "    </tr>\n",
       "    <tr>\n",
       "      <th>Fortune Cookie</th>\n",
       "      <td>154201</td>\n",
       "    </tr>\n",
       "    <tr>\n",
       "      <th>Snickerdoodle</th>\n",
       "      <td>146849</td>\n",
       "    </tr>\n",
       "  </tbody>\n",
       "</table>\n",
       "</div>"
      ],
      "text/plain": [
       "                                 Units Sold\n",
       "Product                                    \n",
       " Chocolate Chip                      338243\n",
       " Sugar                               168787\n",
       " White Chocolate Macadamia Nut       162426\n",
       " Oatmeal Raisin                      155318\n",
       " Fortune Cookie                      154201\n",
       " Snickerdoodle                       146849"
      ]
     },
     "execution_count": 60,
     "metadata": {},
     "output_type": "execute_result"
    }
   ],
   "source": [
    "cont_Units_Sold = df.groupby('Product',)[['Units Sold']].sum().sort_values(by = 'Units Sold', ascending = False)\n",
    "cont_Units_Sold"
   ]
  },
  {
   "cell_type": "code",
   "execution_count": 61,
   "id": "484b8bcb",
   "metadata": {},
   "outputs": [
    {
     "data": {
      "application/vnd.plotly.v1+json": {
       "config": {
        "linkText": "Export to plot.ly",
        "plotlyServerURL": "https://plot.ly",
        "showLink": false
       },
       "data": [
        {
         "hole": 0.4,
         "hoverinfo": "label",
         "labels": [
          " Chocolate Chip ",
          " Sugar ",
          " White Chocolate Macadamia Nut ",
          " Oatmeal Raisin ",
          " Fortune Cookie ",
          " Snickerdoodle "
         ],
         "marker": {
          "colors": [
           "red",
           "green",
           "blue"
          ],
          "line": {
           "color": "white",
           "width": 2
          }
         },
         "textfont": {
          "size": 18
         },
         "textposition": "auto",
         "type": "pie",
         "values": [
          338243,
          168787,
          162426,
          155318,
          154201,
          146849
         ]
        }
       ],
       "layout": {
        "height": 600,
        "legend": {
         "bgcolor": "white",
         "bordercolor": "Black",
         "borderwidth": 2.5,
         "font": {
          "color": "black",
          "family": "Courier",
          "size": 20
         },
         "title": {
          "font": {
           "family": "Times New Roman"
          }
         }
        },
        "template": {
         "data": {
          "pie": [
           {
            "automargin": true,
            "type": "pie"
           }
          ]
         },
         "layout": {
          "xaxis": {
           "showgrid": false,
           "title": {
            "standoff": 15
           }
          },
          "yaxis": {
           "title": {
            "standoff": 15
           }
          }
         }
        },
        "title": {
         "text": "<b>Percent of product category in unit sold</b>",
         "x": 0.21
        },
        "width": 900
       }
      },
      "text/html": [
       "<div>                            <div id=\"090c6844-abf9-4593-9ca9-6eb17ad8c63c\" class=\"plotly-graph-div\" style=\"height:600px; width:900px;\"></div>            <script type=\"text/javascript\">                require([\"plotly\"], function(Plotly) {                    window.PLOTLYENV=window.PLOTLYENV || {};                                    if (document.getElementById(\"090c6844-abf9-4593-9ca9-6eb17ad8c63c\")) {                    Plotly.newPlot(                        \"090c6844-abf9-4593-9ca9-6eb17ad8c63c\",                        [{\"hole\":0.4,\"hoverinfo\":\"label\",\"labels\":[\" Chocolate Chip \",\" Sugar \",\" White Chocolate Macadamia Nut \",\" Oatmeal Raisin \",\" Fortune Cookie \",\" Snickerdoodle \"],\"marker\":{\"colors\":[\"red\",\"green\",\"blue\"],\"line\":{\"color\":\"white\",\"width\":2}},\"textfont\":{\"size\":18},\"textposition\":\"auto\",\"values\":[338243,168787,162426,155318,154201,146849],\"type\":\"pie\"}],                        {\"height\":600,\"legend\":{\"bgcolor\":\"white\",\"bordercolor\":\"Black\",\"borderwidth\":2.5,\"font\":{\"color\":\"black\",\"family\":\"Courier\",\"size\":20},\"title\":{\"font\":{\"family\":\"Times New Roman\"}}},\"template\":{\"data\":{\"pie\":[{\"automargin\":true,\"type\":\"pie\"}]},\"layout\":{\"xaxis\":{\"showgrid\":false,\"title\":{\"standoff\":15}},\"yaxis\":{\"title\":{\"standoff\":15}}}},\"title\":{\"text\":\"<b>Percent of product category in unit sold</b>\",\"x\":0.21},\"width\":900},                        {\"responsive\": true}                    ).then(function(){\n",
       "                            \n",
       "var gd = document.getElementById('090c6844-abf9-4593-9ca9-6eb17ad8c63c');\n",
       "var x = new MutationObserver(function (mutations, observer) {{\n",
       "        var display = window.getComputedStyle(gd).display;\n",
       "        if (!display || display === 'none') {{\n",
       "            console.log([gd, 'removed!']);\n",
       "            Plotly.purge(gd);\n",
       "            observer.disconnect();\n",
       "        }}\n",
       "}});\n",
       "\n",
       "// Listen for the removal of the full notebook cells\n",
       "var notebookContainer = gd.closest('#notebook-container');\n",
       "if (notebookContainer) {{\n",
       "    x.observe(notebookContainer, {childList: true});\n",
       "}}\n",
       "\n",
       "// Listen for the clearing of the current output cell\n",
       "var outputEl = gd.closest('.output');\n",
       "if (outputEl) {{\n",
       "    x.observe(outputEl, {childList: true});\n",
       "}}\n",
       "\n",
       "                        })                };                });            </script>        </div>"
      ]
     },
     "metadata": {},
     "output_type": "display_data"
    }
   ],
   "source": [
    "import plotly.offline as pyo\n",
    "import plotly.graph_objs as go\n",
    "\n",
    "fig = go.Figure(data = go.Pie(labels = cont_Units_Sold.index, values = cont_Units_Sold['Units Sold'].values))\n",
    "fig.update_traces(hoverinfo='label',\n",
    "                  hole = 0.4,\n",
    "                  textfont_size = 18,\n",
    "                  textposition ='auto',\n",
    "                  marker=dict(colors = ['red', 'green', 'blue']\n",
    ",\n",
    "                              line = dict(color = 'white',\n",
    "                                          width = 2)))\n",
    "fig.update_layout(title ={'text' : '<b>Percent of product category in unit sold</b>', \n",
    "                          'x' : 0.21},\n",
    "                          template = 'xgridoff',\n",
    "                          width = 900, height = 600,\n",
    "                     legend=dict(\n",
    "                        title_font_family=\"Times New Roman\",\n",
    "                        font=dict(\n",
    "                        family=\"Courier\",\n",
    "                        size=20,\n",
    "                        color=\"black\" \n",
    "                        ),\n",
    "                        bgcolor=\"white\",\n",
    "                        bordercolor=\"Black\",\n",
    "                        borderwidth=2.5)\n",
    "                 )\n",
    "iplot(fig)"
   ]
  },
  {
   "cell_type": "code",
   "execution_count": 62,
   "id": "b28fc261",
   "metadata": {},
   "outputs": [
    {
     "data": {
      "text/html": [
       "<div>\n",
       "<style scoped>\n",
       "    .dataframe tbody tr th:only-of-type {\n",
       "        vertical-align: middle;\n",
       "    }\n",
       "\n",
       "    .dataframe tbody tr th {\n",
       "        vertical-align: top;\n",
       "    }\n",
       "\n",
       "    .dataframe thead th {\n",
       "        text-align: right;\n",
       "    }\n",
       "</style>\n",
       "<table border=\"1\" class=\"dataframe\">\n",
       "  <thead>\n",
       "    <tr style=\"text-align: right;\">\n",
       "      <th></th>\n",
       "      <th>Revenue</th>\n",
       "    </tr>\n",
       "    <tr>\n",
       "      <th>Country</th>\n",
       "      <th></th>\n",
       "    </tr>\n",
       "  </thead>\n",
       "  <tbody>\n",
       "    <tr>\n",
       "      <th>India</th>\n",
       "      <td>1026375</td>\n",
       "    </tr>\n",
       "    <tr>\n",
       "      <th>United Kingdom</th>\n",
       "      <td>1010554</td>\n",
       "    </tr>\n",
       "    <tr>\n",
       "      <th>United States</th>\n",
       "      <td>977648</td>\n",
       "    </tr>\n",
       "    <tr>\n",
       "      <th>Philippines</th>\n",
       "      <td>839075</td>\n",
       "    </tr>\n",
       "    <tr>\n",
       "      <th>Malaysia</th>\n",
       "      <td>836667</td>\n",
       "    </tr>\n",
       "  </tbody>\n",
       "</table>\n",
       "</div>"
      ],
      "text/plain": [
       "                Revenue\n",
       "Country                \n",
       "India           1026375\n",
       "United Kingdom  1010554\n",
       "United States    977648\n",
       "Philippines      839075\n",
       "Malaysia         836667"
      ]
     },
     "execution_count": 62,
     "metadata": {},
     "output_type": "execute_result"
    }
   ],
   "source": [
    "cont_Revenue = df.groupby('Country',)[['Revenue']].sum().sort_values(by = 'Revenue', ascending = False)\n",
    "cont_Revenue"
   ]
  },
  {
   "cell_type": "code",
   "execution_count": 63,
   "id": "724c213f",
   "metadata": {},
   "outputs": [
    {
     "data": {
      "application/vnd.plotly.v1+json": {
       "config": {
        "linkText": "Export to plot.ly",
        "plotlyServerURL": "https://plot.ly",
        "showLink": false
       },
       "data": [
        {
         "marker": {
          "line": {
           "color": "red",
           "width": 2
          },
          "opacity": 0.7
         },
         "text": [
          1026375,
          1010554,
          977648,
          839075,
          836667
         ],
         "textfont": {
          "color": "green",
          "size": 12
         },
         "textposition": "outside",
         "type": "bar",
         "x": [
          "India",
          "United Kingdom",
          "United States",
          "Philippines",
          "Malaysia"
         ],
         "y": [
          1026375,
          1010554,
          977648,
          839075,
          836667
         ]
        }
       ],
       "layout": {
        "height": 600,
        "template": {
         "data": {
          "bar": [
           {
            "error_x": {
             "color": "#2a3f5f"
            },
            "error_y": {
             "color": "#2a3f5f"
            },
            "marker": {
             "line": {
              "color": "white",
              "width": 0.5
             },
             "pattern": {
              "fillmode": "overlay",
              "size": 10,
              "solidity": 0.2
             }
            },
            "type": "bar"
           }
          ],
          "barpolar": [
           {
            "marker": {
             "line": {
              "color": "white",
              "width": 0.5
             },
             "pattern": {
              "fillmode": "overlay",
              "size": 10,
              "solidity": 0.2
             }
            },
            "type": "barpolar"
           }
          ],
          "carpet": [
           {
            "aaxis": {
             "endlinecolor": "#2a3f5f",
             "gridcolor": "#C8D4E3",
             "linecolor": "#C8D4E3",
             "minorgridcolor": "#C8D4E3",
             "startlinecolor": "#2a3f5f"
            },
            "baxis": {
             "endlinecolor": "#2a3f5f",
             "gridcolor": "#C8D4E3",
             "linecolor": "#C8D4E3",
             "minorgridcolor": "#C8D4E3",
             "startlinecolor": "#2a3f5f"
            },
            "type": "carpet"
           }
          ],
          "choropleth": [
           {
            "colorbar": {
             "outlinewidth": 0,
             "ticks": ""
            },
            "type": "choropleth"
           }
          ],
          "contour": [
           {
            "colorbar": {
             "outlinewidth": 0,
             "ticks": ""
            },
            "colorscale": [
             [
              0,
              "#0d0887"
             ],
             [
              0.1111111111111111,
              "#46039f"
             ],
             [
              0.2222222222222222,
              "#7201a8"
             ],
             [
              0.3333333333333333,
              "#9c179e"
             ],
             [
              0.4444444444444444,
              "#bd3786"
             ],
             [
              0.5555555555555556,
              "#d8576b"
             ],
             [
              0.6666666666666666,
              "#ed7953"
             ],
             [
              0.7777777777777778,
              "#fb9f3a"
             ],
             [
              0.8888888888888888,
              "#fdca26"
             ],
             [
              1,
              "#f0f921"
             ]
            ],
            "type": "contour"
           }
          ],
          "contourcarpet": [
           {
            "colorbar": {
             "outlinewidth": 0,
             "ticks": ""
            },
            "type": "contourcarpet"
           }
          ],
          "heatmap": [
           {
            "colorbar": {
             "outlinewidth": 0,
             "ticks": ""
            },
            "colorscale": [
             [
              0,
              "#0d0887"
             ],
             [
              0.1111111111111111,
              "#46039f"
             ],
             [
              0.2222222222222222,
              "#7201a8"
             ],
             [
              0.3333333333333333,
              "#9c179e"
             ],
             [
              0.4444444444444444,
              "#bd3786"
             ],
             [
              0.5555555555555556,
              "#d8576b"
             ],
             [
              0.6666666666666666,
              "#ed7953"
             ],
             [
              0.7777777777777778,
              "#fb9f3a"
             ],
             [
              0.8888888888888888,
              "#fdca26"
             ],
             [
              1,
              "#f0f921"
             ]
            ],
            "type": "heatmap"
           }
          ],
          "heatmapgl": [
           {
            "colorbar": {
             "outlinewidth": 0,
             "ticks": ""
            },
            "colorscale": [
             [
              0,
              "#0d0887"
             ],
             [
              0.1111111111111111,
              "#46039f"
             ],
             [
              0.2222222222222222,
              "#7201a8"
             ],
             [
              0.3333333333333333,
              "#9c179e"
             ],
             [
              0.4444444444444444,
              "#bd3786"
             ],
             [
              0.5555555555555556,
              "#d8576b"
             ],
             [
              0.6666666666666666,
              "#ed7953"
             ],
             [
              0.7777777777777778,
              "#fb9f3a"
             ],
             [
              0.8888888888888888,
              "#fdca26"
             ],
             [
              1,
              "#f0f921"
             ]
            ],
            "type": "heatmapgl"
           }
          ],
          "histogram": [
           {
            "marker": {
             "pattern": {
              "fillmode": "overlay",
              "size": 10,
              "solidity": 0.2
             }
            },
            "type": "histogram"
           }
          ],
          "histogram2d": [
           {
            "colorbar": {
             "outlinewidth": 0,
             "ticks": ""
            },
            "colorscale": [
             [
              0,
              "#0d0887"
             ],
             [
              0.1111111111111111,
              "#46039f"
             ],
             [
              0.2222222222222222,
              "#7201a8"
             ],
             [
              0.3333333333333333,
              "#9c179e"
             ],
             [
              0.4444444444444444,
              "#bd3786"
             ],
             [
              0.5555555555555556,
              "#d8576b"
             ],
             [
              0.6666666666666666,
              "#ed7953"
             ],
             [
              0.7777777777777778,
              "#fb9f3a"
             ],
             [
              0.8888888888888888,
              "#fdca26"
             ],
             [
              1,
              "#f0f921"
             ]
            ],
            "type": "histogram2d"
           }
          ],
          "histogram2dcontour": [
           {
            "colorbar": {
             "outlinewidth": 0,
             "ticks": ""
            },
            "colorscale": [
             [
              0,
              "#0d0887"
             ],
             [
              0.1111111111111111,
              "#46039f"
             ],
             [
              0.2222222222222222,
              "#7201a8"
             ],
             [
              0.3333333333333333,
              "#9c179e"
             ],
             [
              0.4444444444444444,
              "#bd3786"
             ],
             [
              0.5555555555555556,
              "#d8576b"
             ],
             [
              0.6666666666666666,
              "#ed7953"
             ],
             [
              0.7777777777777778,
              "#fb9f3a"
             ],
             [
              0.8888888888888888,
              "#fdca26"
             ],
             [
              1,
              "#f0f921"
             ]
            ],
            "type": "histogram2dcontour"
           }
          ],
          "mesh3d": [
           {
            "colorbar": {
             "outlinewidth": 0,
             "ticks": ""
            },
            "type": "mesh3d"
           }
          ],
          "parcoords": [
           {
            "line": {
             "colorbar": {
              "outlinewidth": 0,
              "ticks": ""
             }
            },
            "type": "parcoords"
           }
          ],
          "pie": [
           {
            "automargin": true,
            "type": "pie"
           }
          ],
          "scatter": [
           {
            "fillpattern": {
             "fillmode": "overlay",
             "size": 10,
             "solidity": 0.2
            },
            "type": "scatter"
           }
          ],
          "scatter3d": [
           {
            "line": {
             "colorbar": {
              "outlinewidth": 0,
              "ticks": ""
             }
            },
            "marker": {
             "colorbar": {
              "outlinewidth": 0,
              "ticks": ""
             }
            },
            "type": "scatter3d"
           }
          ],
          "scattercarpet": [
           {
            "marker": {
             "colorbar": {
              "outlinewidth": 0,
              "ticks": ""
             }
            },
            "type": "scattercarpet"
           }
          ],
          "scattergeo": [
           {
            "marker": {
             "colorbar": {
              "outlinewidth": 0,
              "ticks": ""
             }
            },
            "type": "scattergeo"
           }
          ],
          "scattergl": [
           {
            "marker": {
             "colorbar": {
              "outlinewidth": 0,
              "ticks": ""
             }
            },
            "type": "scattergl"
           }
          ],
          "scattermapbox": [
           {
            "marker": {
             "colorbar": {
              "outlinewidth": 0,
              "ticks": ""
             }
            },
            "type": "scattermapbox"
           }
          ],
          "scatterpolar": [
           {
            "marker": {
             "colorbar": {
              "outlinewidth": 0,
              "ticks": ""
             }
            },
            "type": "scatterpolar"
           }
          ],
          "scatterpolargl": [
           {
            "marker": {
             "colorbar": {
              "outlinewidth": 0,
              "ticks": ""
             }
            },
            "type": "scatterpolargl"
           }
          ],
          "scatterternary": [
           {
            "marker": {
             "colorbar": {
              "outlinewidth": 0,
              "ticks": ""
             }
            },
            "type": "scatterternary"
           }
          ],
          "surface": [
           {
            "colorbar": {
             "outlinewidth": 0,
             "ticks": ""
            },
            "colorscale": [
             [
              0,
              "#0d0887"
             ],
             [
              0.1111111111111111,
              "#46039f"
             ],
             [
              0.2222222222222222,
              "#7201a8"
             ],
             [
              0.3333333333333333,
              "#9c179e"
             ],
             [
              0.4444444444444444,
              "#bd3786"
             ],
             [
              0.5555555555555556,
              "#d8576b"
             ],
             [
              0.6666666666666666,
              "#ed7953"
             ],
             [
              0.7777777777777778,
              "#fb9f3a"
             ],
             [
              0.8888888888888888,
              "#fdca26"
             ],
             [
              1,
              "#f0f921"
             ]
            ],
            "type": "surface"
           }
          ],
          "table": [
           {
            "cells": {
             "fill": {
              "color": "#EBF0F8"
             },
             "line": {
              "color": "white"
             }
            },
            "header": {
             "fill": {
              "color": "#C8D4E3"
             },
             "line": {
              "color": "white"
             }
            },
            "type": "table"
           }
          ]
         },
         "layout": {
          "annotationdefaults": {
           "arrowcolor": "#2a3f5f",
           "arrowhead": 0,
           "arrowwidth": 1
          },
          "autotypenumbers": "strict",
          "coloraxis": {
           "colorbar": {
            "outlinewidth": 0,
            "ticks": ""
           }
          },
          "colorscale": {
           "diverging": [
            [
             0,
             "#8e0152"
            ],
            [
             0.1,
             "#c51b7d"
            ],
            [
             0.2,
             "#de77ae"
            ],
            [
             0.3,
             "#f1b6da"
            ],
            [
             0.4,
             "#fde0ef"
            ],
            [
             0.5,
             "#f7f7f7"
            ],
            [
             0.6,
             "#e6f5d0"
            ],
            [
             0.7,
             "#b8e186"
            ],
            [
             0.8,
             "#7fbc41"
            ],
            [
             0.9,
             "#4d9221"
            ],
            [
             1,
             "#276419"
            ]
           ],
           "sequential": [
            [
             0,
             "#0d0887"
            ],
            [
             0.1111111111111111,
             "#46039f"
            ],
            [
             0.2222222222222222,
             "#7201a8"
            ],
            [
             0.3333333333333333,
             "#9c179e"
            ],
            [
             0.4444444444444444,
             "#bd3786"
            ],
            [
             0.5555555555555556,
             "#d8576b"
            ],
            [
             0.6666666666666666,
             "#ed7953"
            ],
            [
             0.7777777777777778,
             "#fb9f3a"
            ],
            [
             0.8888888888888888,
             "#fdca26"
            ],
            [
             1,
             "#f0f921"
            ]
           ],
           "sequentialminus": [
            [
             0,
             "#0d0887"
            ],
            [
             0.1111111111111111,
             "#46039f"
            ],
            [
             0.2222222222222222,
             "#7201a8"
            ],
            [
             0.3333333333333333,
             "#9c179e"
            ],
            [
             0.4444444444444444,
             "#bd3786"
            ],
            [
             0.5555555555555556,
             "#d8576b"
            ],
            [
             0.6666666666666666,
             "#ed7953"
            ],
            [
             0.7777777777777778,
             "#fb9f3a"
            ],
            [
             0.8888888888888888,
             "#fdca26"
            ],
            [
             1,
             "#f0f921"
            ]
           ]
          },
          "colorway": [
           "#636efa",
           "#EF553B",
           "#00cc96",
           "#ab63fa",
           "#FFA15A",
           "#19d3f3",
           "#FF6692",
           "#B6E880",
           "#FF97FF",
           "#FECB52"
          ],
          "font": {
           "color": "#2a3f5f"
          },
          "geo": {
           "bgcolor": "white",
           "lakecolor": "white",
           "landcolor": "white",
           "showlakes": true,
           "showland": true,
           "subunitcolor": "#C8D4E3"
          },
          "hoverlabel": {
           "align": "left"
          },
          "hovermode": "closest",
          "mapbox": {
           "style": "light"
          },
          "paper_bgcolor": "white",
          "plot_bgcolor": "white",
          "polar": {
           "angularaxis": {
            "gridcolor": "#EBF0F8",
            "linecolor": "#EBF0F8",
            "ticks": ""
           },
           "bgcolor": "white",
           "radialaxis": {
            "gridcolor": "#EBF0F8",
            "linecolor": "#EBF0F8",
            "ticks": ""
           }
          },
          "scene": {
           "xaxis": {
            "backgroundcolor": "white",
            "gridcolor": "#DFE8F3",
            "gridwidth": 2,
            "linecolor": "#EBF0F8",
            "showbackground": true,
            "ticks": "",
            "zerolinecolor": "#EBF0F8"
           },
           "yaxis": {
            "backgroundcolor": "white",
            "gridcolor": "#DFE8F3",
            "gridwidth": 2,
            "linecolor": "#EBF0F8",
            "showbackground": true,
            "ticks": "",
            "zerolinecolor": "#EBF0F8"
           },
           "zaxis": {
            "backgroundcolor": "white",
            "gridcolor": "#DFE8F3",
            "gridwidth": 2,
            "linecolor": "#EBF0F8",
            "showbackground": true,
            "ticks": "",
            "zerolinecolor": "#EBF0F8"
           }
          },
          "shapedefaults": {
           "line": {
            "color": "#2a3f5f"
           }
          },
          "ternary": {
           "aaxis": {
            "gridcolor": "#DFE8F3",
            "linecolor": "#A2B1C6",
            "ticks": ""
           },
           "baxis": {
            "gridcolor": "#DFE8F3",
            "linecolor": "#A2B1C6",
            "ticks": ""
           },
           "bgcolor": "white",
           "caxis": {
            "gridcolor": "#DFE8F3",
            "linecolor": "#A2B1C6",
            "ticks": ""
           }
          },
          "title": {
           "x": 0.05
          },
          "xaxis": {
           "automargin": true,
           "gridcolor": "#EBF0F8",
           "linecolor": "#EBF0F8",
           "ticks": "",
           "title": {
            "standoff": 15
           },
           "zerolinecolor": "#EBF0F8",
           "zerolinewidth": 2
          },
          "yaxis": {
           "automargin": true,
           "gridcolor": "#EBF0F8",
           "linecolor": "#EBF0F8",
           "ticks": "",
           "title": {
            "standoff": 15
           },
           "zerolinecolor": "#EBF0F8",
           "zerolinewidth": 2
          }
         }
        },
        "title": {
         "text": "<b>Country Wise Revenue</b>",
         "x": 0.5,
         "xanchor": "center"
        },
        "width": 900,
        "xaxis": {
         "title": {
          "text": "<b>Country</b>"
         }
        },
        "yaxis": {
         "title": {
          "text": "<b>Revenue</b>"
         }
        }
       }
      },
      "text/html": [
       "<div>                            <div id=\"6ab46eea-08be-45e1-9c05-e700f6c484c9\" class=\"plotly-graph-div\" style=\"height:600px; width:900px;\"></div>            <script type=\"text/javascript\">                require([\"plotly\"], function(Plotly) {                    window.PLOTLYENV=window.PLOTLYENV || {};                                    if (document.getElementById(\"6ab46eea-08be-45e1-9c05-e700f6c484c9\")) {                    Plotly.newPlot(                        \"6ab46eea-08be-45e1-9c05-e700f6c484c9\",                        [{\"marker\":{\"line\":{\"color\":\"red\",\"width\":2},\"opacity\":0.7},\"text\":[1026375.0,1010554.0,977648.0,839075.0,836667.0],\"textfont\":{\"color\":\"green\",\"size\":12},\"textposition\":\"outside\",\"x\":[\"India\",\"United Kingdom\",\"United States\",\"Philippines\",\"Malaysia\"],\"y\":[1026375,1010554,977648,839075,836667],\"type\":\"bar\"}],                        {\"height\":600,\"template\":{\"data\":{\"barpolar\":[{\"marker\":{\"line\":{\"color\":\"white\",\"width\":0.5},\"pattern\":{\"fillmode\":\"overlay\",\"size\":10,\"solidity\":0.2}},\"type\":\"barpolar\"}],\"bar\":[{\"error_x\":{\"color\":\"#2a3f5f\"},\"error_y\":{\"color\":\"#2a3f5f\"},\"marker\":{\"line\":{\"color\":\"white\",\"width\":0.5},\"pattern\":{\"fillmode\":\"overlay\",\"size\":10,\"solidity\":0.2}},\"type\":\"bar\"}],\"carpet\":[{\"aaxis\":{\"endlinecolor\":\"#2a3f5f\",\"gridcolor\":\"#C8D4E3\",\"linecolor\":\"#C8D4E3\",\"minorgridcolor\":\"#C8D4E3\",\"startlinecolor\":\"#2a3f5f\"},\"baxis\":{\"endlinecolor\":\"#2a3f5f\",\"gridcolor\":\"#C8D4E3\",\"linecolor\":\"#C8D4E3\",\"minorgridcolor\":\"#C8D4E3\",\"startlinecolor\":\"#2a3f5f\"},\"type\":\"carpet\"}],\"choropleth\":[{\"colorbar\":{\"outlinewidth\":0,\"ticks\":\"\"},\"type\":\"choropleth\"}],\"contourcarpet\":[{\"colorbar\":{\"outlinewidth\":0,\"ticks\":\"\"},\"type\":\"contourcarpet\"}],\"contour\":[{\"colorbar\":{\"outlinewidth\":0,\"ticks\":\"\"},\"colorscale\":[[0.0,\"#0d0887\"],[0.1111111111111111,\"#46039f\"],[0.2222222222222222,\"#7201a8\"],[0.3333333333333333,\"#9c179e\"],[0.4444444444444444,\"#bd3786\"],[0.5555555555555556,\"#d8576b\"],[0.6666666666666666,\"#ed7953\"],[0.7777777777777778,\"#fb9f3a\"],[0.8888888888888888,\"#fdca26\"],[1.0,\"#f0f921\"]],\"type\":\"contour\"}],\"heatmapgl\":[{\"colorbar\":{\"outlinewidth\":0,\"ticks\":\"\"},\"colorscale\":[[0.0,\"#0d0887\"],[0.1111111111111111,\"#46039f\"],[0.2222222222222222,\"#7201a8\"],[0.3333333333333333,\"#9c179e\"],[0.4444444444444444,\"#bd3786\"],[0.5555555555555556,\"#d8576b\"],[0.6666666666666666,\"#ed7953\"],[0.7777777777777778,\"#fb9f3a\"],[0.8888888888888888,\"#fdca26\"],[1.0,\"#f0f921\"]],\"type\":\"heatmapgl\"}],\"heatmap\":[{\"colorbar\":{\"outlinewidth\":0,\"ticks\":\"\"},\"colorscale\":[[0.0,\"#0d0887\"],[0.1111111111111111,\"#46039f\"],[0.2222222222222222,\"#7201a8\"],[0.3333333333333333,\"#9c179e\"],[0.4444444444444444,\"#bd3786\"],[0.5555555555555556,\"#d8576b\"],[0.6666666666666666,\"#ed7953\"],[0.7777777777777778,\"#fb9f3a\"],[0.8888888888888888,\"#fdca26\"],[1.0,\"#f0f921\"]],\"type\":\"heatmap\"}],\"histogram2dcontour\":[{\"colorbar\":{\"outlinewidth\":0,\"ticks\":\"\"},\"colorscale\":[[0.0,\"#0d0887\"],[0.1111111111111111,\"#46039f\"],[0.2222222222222222,\"#7201a8\"],[0.3333333333333333,\"#9c179e\"],[0.4444444444444444,\"#bd3786\"],[0.5555555555555556,\"#d8576b\"],[0.6666666666666666,\"#ed7953\"],[0.7777777777777778,\"#fb9f3a\"],[0.8888888888888888,\"#fdca26\"],[1.0,\"#f0f921\"]],\"type\":\"histogram2dcontour\"}],\"histogram2d\":[{\"colorbar\":{\"outlinewidth\":0,\"ticks\":\"\"},\"colorscale\":[[0.0,\"#0d0887\"],[0.1111111111111111,\"#46039f\"],[0.2222222222222222,\"#7201a8\"],[0.3333333333333333,\"#9c179e\"],[0.4444444444444444,\"#bd3786\"],[0.5555555555555556,\"#d8576b\"],[0.6666666666666666,\"#ed7953\"],[0.7777777777777778,\"#fb9f3a\"],[0.8888888888888888,\"#fdca26\"],[1.0,\"#f0f921\"]],\"type\":\"histogram2d\"}],\"histogram\":[{\"marker\":{\"pattern\":{\"fillmode\":\"overlay\",\"size\":10,\"solidity\":0.2}},\"type\":\"histogram\"}],\"mesh3d\":[{\"colorbar\":{\"outlinewidth\":0,\"ticks\":\"\"},\"type\":\"mesh3d\"}],\"parcoords\":[{\"line\":{\"colorbar\":{\"outlinewidth\":0,\"ticks\":\"\"}},\"type\":\"parcoords\"}],\"pie\":[{\"automargin\":true,\"type\":\"pie\"}],\"scatter3d\":[{\"line\":{\"colorbar\":{\"outlinewidth\":0,\"ticks\":\"\"}},\"marker\":{\"colorbar\":{\"outlinewidth\":0,\"ticks\":\"\"}},\"type\":\"scatter3d\"}],\"scattercarpet\":[{\"marker\":{\"colorbar\":{\"outlinewidth\":0,\"ticks\":\"\"}},\"type\":\"scattercarpet\"}],\"scattergeo\":[{\"marker\":{\"colorbar\":{\"outlinewidth\":0,\"ticks\":\"\"}},\"type\":\"scattergeo\"}],\"scattergl\":[{\"marker\":{\"colorbar\":{\"outlinewidth\":0,\"ticks\":\"\"}},\"type\":\"scattergl\"}],\"scattermapbox\":[{\"marker\":{\"colorbar\":{\"outlinewidth\":0,\"ticks\":\"\"}},\"type\":\"scattermapbox\"}],\"scatterpolargl\":[{\"marker\":{\"colorbar\":{\"outlinewidth\":0,\"ticks\":\"\"}},\"type\":\"scatterpolargl\"}],\"scatterpolar\":[{\"marker\":{\"colorbar\":{\"outlinewidth\":0,\"ticks\":\"\"}},\"type\":\"scatterpolar\"}],\"scatter\":[{\"fillpattern\":{\"fillmode\":\"overlay\",\"size\":10,\"solidity\":0.2},\"type\":\"scatter\"}],\"scatterternary\":[{\"marker\":{\"colorbar\":{\"outlinewidth\":0,\"ticks\":\"\"}},\"type\":\"scatterternary\"}],\"surface\":[{\"colorbar\":{\"outlinewidth\":0,\"ticks\":\"\"},\"colorscale\":[[0.0,\"#0d0887\"],[0.1111111111111111,\"#46039f\"],[0.2222222222222222,\"#7201a8\"],[0.3333333333333333,\"#9c179e\"],[0.4444444444444444,\"#bd3786\"],[0.5555555555555556,\"#d8576b\"],[0.6666666666666666,\"#ed7953\"],[0.7777777777777778,\"#fb9f3a\"],[0.8888888888888888,\"#fdca26\"],[1.0,\"#f0f921\"]],\"type\":\"surface\"}],\"table\":[{\"cells\":{\"fill\":{\"color\":\"#EBF0F8\"},\"line\":{\"color\":\"white\"}},\"header\":{\"fill\":{\"color\":\"#C8D4E3\"},\"line\":{\"color\":\"white\"}},\"type\":\"table\"}]},\"layout\":{\"annotationdefaults\":{\"arrowcolor\":\"#2a3f5f\",\"arrowhead\":0,\"arrowwidth\":1},\"autotypenumbers\":\"strict\",\"coloraxis\":{\"colorbar\":{\"outlinewidth\":0,\"ticks\":\"\"}},\"colorscale\":{\"diverging\":[[0,\"#8e0152\"],[0.1,\"#c51b7d\"],[0.2,\"#de77ae\"],[0.3,\"#f1b6da\"],[0.4,\"#fde0ef\"],[0.5,\"#f7f7f7\"],[0.6,\"#e6f5d0\"],[0.7,\"#b8e186\"],[0.8,\"#7fbc41\"],[0.9,\"#4d9221\"],[1,\"#276419\"]],\"sequential\":[[0.0,\"#0d0887\"],[0.1111111111111111,\"#46039f\"],[0.2222222222222222,\"#7201a8\"],[0.3333333333333333,\"#9c179e\"],[0.4444444444444444,\"#bd3786\"],[0.5555555555555556,\"#d8576b\"],[0.6666666666666666,\"#ed7953\"],[0.7777777777777778,\"#fb9f3a\"],[0.8888888888888888,\"#fdca26\"],[1.0,\"#f0f921\"]],\"sequentialminus\":[[0.0,\"#0d0887\"],[0.1111111111111111,\"#46039f\"],[0.2222222222222222,\"#7201a8\"],[0.3333333333333333,\"#9c179e\"],[0.4444444444444444,\"#bd3786\"],[0.5555555555555556,\"#d8576b\"],[0.6666666666666666,\"#ed7953\"],[0.7777777777777778,\"#fb9f3a\"],[0.8888888888888888,\"#fdca26\"],[1.0,\"#f0f921\"]]},\"colorway\":[\"#636efa\",\"#EF553B\",\"#00cc96\",\"#ab63fa\",\"#FFA15A\",\"#19d3f3\",\"#FF6692\",\"#B6E880\",\"#FF97FF\",\"#FECB52\"],\"font\":{\"color\":\"#2a3f5f\"},\"geo\":{\"bgcolor\":\"white\",\"lakecolor\":\"white\",\"landcolor\":\"white\",\"showlakes\":true,\"showland\":true,\"subunitcolor\":\"#C8D4E3\"},\"hoverlabel\":{\"align\":\"left\"},\"hovermode\":\"closest\",\"mapbox\":{\"style\":\"light\"},\"paper_bgcolor\":\"white\",\"plot_bgcolor\":\"white\",\"polar\":{\"angularaxis\":{\"gridcolor\":\"#EBF0F8\",\"linecolor\":\"#EBF0F8\",\"ticks\":\"\"},\"bgcolor\":\"white\",\"radialaxis\":{\"gridcolor\":\"#EBF0F8\",\"linecolor\":\"#EBF0F8\",\"ticks\":\"\"}},\"scene\":{\"xaxis\":{\"backgroundcolor\":\"white\",\"gridcolor\":\"#DFE8F3\",\"gridwidth\":2,\"linecolor\":\"#EBF0F8\",\"showbackground\":true,\"ticks\":\"\",\"zerolinecolor\":\"#EBF0F8\"},\"yaxis\":{\"backgroundcolor\":\"white\",\"gridcolor\":\"#DFE8F3\",\"gridwidth\":2,\"linecolor\":\"#EBF0F8\",\"showbackground\":true,\"ticks\":\"\",\"zerolinecolor\":\"#EBF0F8\"},\"zaxis\":{\"backgroundcolor\":\"white\",\"gridcolor\":\"#DFE8F3\",\"gridwidth\":2,\"linecolor\":\"#EBF0F8\",\"showbackground\":true,\"ticks\":\"\",\"zerolinecolor\":\"#EBF0F8\"}},\"shapedefaults\":{\"line\":{\"color\":\"#2a3f5f\"}},\"ternary\":{\"aaxis\":{\"gridcolor\":\"#DFE8F3\",\"linecolor\":\"#A2B1C6\",\"ticks\":\"\"},\"baxis\":{\"gridcolor\":\"#DFE8F3\",\"linecolor\":\"#A2B1C6\",\"ticks\":\"\"},\"bgcolor\":\"white\",\"caxis\":{\"gridcolor\":\"#DFE8F3\",\"linecolor\":\"#A2B1C6\",\"ticks\":\"\"}},\"title\":{\"x\":0.05},\"xaxis\":{\"automargin\":true,\"gridcolor\":\"#EBF0F8\",\"linecolor\":\"#EBF0F8\",\"ticks\":\"\",\"title\":{\"standoff\":15},\"zerolinecolor\":\"#EBF0F8\",\"zerolinewidth\":2},\"yaxis\":{\"automargin\":true,\"gridcolor\":\"#EBF0F8\",\"linecolor\":\"#EBF0F8\",\"ticks\":\"\",\"title\":{\"standoff\":15},\"zerolinecolor\":\"#EBF0F8\",\"zerolinewidth\":2}}},\"title\":{\"text\":\"<b>Country Wise Revenue</b>\",\"x\":0.5,\"xanchor\":\"center\"},\"width\":900,\"xaxis\":{\"title\":{\"text\":\"<b>Country</b>\"}},\"yaxis\":{\"title\":{\"text\":\"<b>Revenue</b>\"}}},                        {\"responsive\": true}                    ).then(function(){\n",
       "                            \n",
       "var gd = document.getElementById('6ab46eea-08be-45e1-9c05-e700f6c484c9');\n",
       "var x = new MutationObserver(function (mutations, observer) {{\n",
       "        var display = window.getComputedStyle(gd).display;\n",
       "        if (!display || display === 'none') {{\n",
       "            console.log([gd, 'removed!']);\n",
       "            Plotly.purge(gd);\n",
       "            observer.disconnect();\n",
       "        }}\n",
       "}});\n",
       "\n",
       "// Listen for the removal of the full notebook cells\n",
       "var notebookContainer = gd.closest('#notebook-container');\n",
       "if (notebookContainer) {{\n",
       "    x.observe(notebookContainer, {childList: true});\n",
       "}}\n",
       "\n",
       "// Listen for the clearing of the current output cell\n",
       "var outputEl = gd.closest('.output');\n",
       "if (outputEl) {{\n",
       "    x.observe(outputEl, {childList: true});\n",
       "}}\n",
       "\n",
       "                        })                };                });            </script>        </div>"
      ]
     },
     "metadata": {},
     "output_type": "display_data"
    }
   ],
   "source": [
    "data = go.Bar(x = cont_Revenue.index, y = cont_Revenue['Revenue'], text = cont_Revenue['Revenue'],textposition ='outside',\n",
    "              textfont = dict(size = 12,\n",
    "                             color = 'green'),\n",
    "              marker = dict(\n",
    "                            opacity = 0.7,\n",
    "                            line_color = 'red',\n",
    "                            line_width = 2))\n",
    "layout = go.Layout(title = {'text': \"<b>Country Wise Revenue</b>\",\n",
    "                           'x':0.5,\n",
    "                           'xanchor': 'center'},\n",
    "                   xaxis = dict(title='<b>Country</b>'),\n",
    "                   yaxis =dict(title='<b>Revenue</b>'),\n",
    "                   width = 900,\n",
    "                   height = 600,\n",
    "                   template = 'plotly_white')\n",
    "fig=go.Figure(data = data, layout = layout)\n",
    "\n",
    "iplot(fig)"
   ]
  },
  {
   "cell_type": "code",
   "execution_count": 64,
   "id": "6dacd8a5",
   "metadata": {},
   "outputs": [
    {
     "data": {
      "application/vnd.plotly.v1+json": {
       "config": {
        "plotlyServerURL": "https://plot.ly"
       },
       "data": [
        {
         "alignmentgroup": "True",
         "hovertemplate": "Units Sold=%{x}<br>Product=%{y}<extra></extra>",
         "legendgroup": "",
         "marker": {
          "color": "#0083B8",
          "pattern": {
           "shape": ""
          }
         },
         "name": "",
         "offsetgroup": "",
         "orientation": "h",
         "showlegend": false,
         "textposition": "auto",
         "type": "bar",
         "x": [
          146849,
          154201,
          155318,
          162426,
          168787,
          338243
         ],
         "xaxis": "x",
         "y": [
          " Snickerdoodle ",
          " Fortune Cookie ",
          " Oatmeal Raisin ",
          " White Chocolate Macadamia Nut ",
          " Sugar ",
          " Chocolate Chip "
         ],
         "yaxis": "y"
        }
       ],
       "layout": {
        "barmode": "relative",
        "legend": {
         "tracegroupgap": 0
        },
        "template": {
         "data": {
          "bar": [
           {
            "error_x": {
             "color": "#2a3f5f"
            },
            "error_y": {
             "color": "#2a3f5f"
            },
            "marker": {
             "line": {
              "color": "white",
              "width": 0.5
             },
             "pattern": {
              "fillmode": "overlay",
              "size": 10,
              "solidity": 0.2
             }
            },
            "type": "bar"
           }
          ],
          "barpolar": [
           {
            "marker": {
             "line": {
              "color": "white",
              "width": 0.5
             },
             "pattern": {
              "fillmode": "overlay",
              "size": 10,
              "solidity": 0.2
             }
            },
            "type": "barpolar"
           }
          ],
          "carpet": [
           {
            "aaxis": {
             "endlinecolor": "#2a3f5f",
             "gridcolor": "#C8D4E3",
             "linecolor": "#C8D4E3",
             "minorgridcolor": "#C8D4E3",
             "startlinecolor": "#2a3f5f"
            },
            "baxis": {
             "endlinecolor": "#2a3f5f",
             "gridcolor": "#C8D4E3",
             "linecolor": "#C8D4E3",
             "minorgridcolor": "#C8D4E3",
             "startlinecolor": "#2a3f5f"
            },
            "type": "carpet"
           }
          ],
          "choropleth": [
           {
            "colorbar": {
             "outlinewidth": 0,
             "ticks": ""
            },
            "type": "choropleth"
           }
          ],
          "contour": [
           {
            "colorbar": {
             "outlinewidth": 0,
             "ticks": ""
            },
            "colorscale": [
             [
              0,
              "#0d0887"
             ],
             [
              0.1111111111111111,
              "#46039f"
             ],
             [
              0.2222222222222222,
              "#7201a8"
             ],
             [
              0.3333333333333333,
              "#9c179e"
             ],
             [
              0.4444444444444444,
              "#bd3786"
             ],
             [
              0.5555555555555556,
              "#d8576b"
             ],
             [
              0.6666666666666666,
              "#ed7953"
             ],
             [
              0.7777777777777778,
              "#fb9f3a"
             ],
             [
              0.8888888888888888,
              "#fdca26"
             ],
             [
              1,
              "#f0f921"
             ]
            ],
            "type": "contour"
           }
          ],
          "contourcarpet": [
           {
            "colorbar": {
             "outlinewidth": 0,
             "ticks": ""
            },
            "type": "contourcarpet"
           }
          ],
          "heatmap": [
           {
            "colorbar": {
             "outlinewidth": 0,
             "ticks": ""
            },
            "colorscale": [
             [
              0,
              "#0d0887"
             ],
             [
              0.1111111111111111,
              "#46039f"
             ],
             [
              0.2222222222222222,
              "#7201a8"
             ],
             [
              0.3333333333333333,
              "#9c179e"
             ],
             [
              0.4444444444444444,
              "#bd3786"
             ],
             [
              0.5555555555555556,
              "#d8576b"
             ],
             [
              0.6666666666666666,
              "#ed7953"
             ],
             [
              0.7777777777777778,
              "#fb9f3a"
             ],
             [
              0.8888888888888888,
              "#fdca26"
             ],
             [
              1,
              "#f0f921"
             ]
            ],
            "type": "heatmap"
           }
          ],
          "heatmapgl": [
           {
            "colorbar": {
             "outlinewidth": 0,
             "ticks": ""
            },
            "colorscale": [
             [
              0,
              "#0d0887"
             ],
             [
              0.1111111111111111,
              "#46039f"
             ],
             [
              0.2222222222222222,
              "#7201a8"
             ],
             [
              0.3333333333333333,
              "#9c179e"
             ],
             [
              0.4444444444444444,
              "#bd3786"
             ],
             [
              0.5555555555555556,
              "#d8576b"
             ],
             [
              0.6666666666666666,
              "#ed7953"
             ],
             [
              0.7777777777777778,
              "#fb9f3a"
             ],
             [
              0.8888888888888888,
              "#fdca26"
             ],
             [
              1,
              "#f0f921"
             ]
            ],
            "type": "heatmapgl"
           }
          ],
          "histogram": [
           {
            "marker": {
             "pattern": {
              "fillmode": "overlay",
              "size": 10,
              "solidity": 0.2
             }
            },
            "type": "histogram"
           }
          ],
          "histogram2d": [
           {
            "colorbar": {
             "outlinewidth": 0,
             "ticks": ""
            },
            "colorscale": [
             [
              0,
              "#0d0887"
             ],
             [
              0.1111111111111111,
              "#46039f"
             ],
             [
              0.2222222222222222,
              "#7201a8"
             ],
             [
              0.3333333333333333,
              "#9c179e"
             ],
             [
              0.4444444444444444,
              "#bd3786"
             ],
             [
              0.5555555555555556,
              "#d8576b"
             ],
             [
              0.6666666666666666,
              "#ed7953"
             ],
             [
              0.7777777777777778,
              "#fb9f3a"
             ],
             [
              0.8888888888888888,
              "#fdca26"
             ],
             [
              1,
              "#f0f921"
             ]
            ],
            "type": "histogram2d"
           }
          ],
          "histogram2dcontour": [
           {
            "colorbar": {
             "outlinewidth": 0,
             "ticks": ""
            },
            "colorscale": [
             [
              0,
              "#0d0887"
             ],
             [
              0.1111111111111111,
              "#46039f"
             ],
             [
              0.2222222222222222,
              "#7201a8"
             ],
             [
              0.3333333333333333,
              "#9c179e"
             ],
             [
              0.4444444444444444,
              "#bd3786"
             ],
             [
              0.5555555555555556,
              "#d8576b"
             ],
             [
              0.6666666666666666,
              "#ed7953"
             ],
             [
              0.7777777777777778,
              "#fb9f3a"
             ],
             [
              0.8888888888888888,
              "#fdca26"
             ],
             [
              1,
              "#f0f921"
             ]
            ],
            "type": "histogram2dcontour"
           }
          ],
          "mesh3d": [
           {
            "colorbar": {
             "outlinewidth": 0,
             "ticks": ""
            },
            "type": "mesh3d"
           }
          ],
          "parcoords": [
           {
            "line": {
             "colorbar": {
              "outlinewidth": 0,
              "ticks": ""
             }
            },
            "type": "parcoords"
           }
          ],
          "pie": [
           {
            "automargin": true,
            "type": "pie"
           }
          ],
          "scatter": [
           {
            "fillpattern": {
             "fillmode": "overlay",
             "size": 10,
             "solidity": 0.2
            },
            "type": "scatter"
           }
          ],
          "scatter3d": [
           {
            "line": {
             "colorbar": {
              "outlinewidth": 0,
              "ticks": ""
             }
            },
            "marker": {
             "colorbar": {
              "outlinewidth": 0,
              "ticks": ""
             }
            },
            "type": "scatter3d"
           }
          ],
          "scattercarpet": [
           {
            "marker": {
             "colorbar": {
              "outlinewidth": 0,
              "ticks": ""
             }
            },
            "type": "scattercarpet"
           }
          ],
          "scattergeo": [
           {
            "marker": {
             "colorbar": {
              "outlinewidth": 0,
              "ticks": ""
             }
            },
            "type": "scattergeo"
           }
          ],
          "scattergl": [
           {
            "marker": {
             "colorbar": {
              "outlinewidth": 0,
              "ticks": ""
             }
            },
            "type": "scattergl"
           }
          ],
          "scattermapbox": [
           {
            "marker": {
             "colorbar": {
              "outlinewidth": 0,
              "ticks": ""
             }
            },
            "type": "scattermapbox"
           }
          ],
          "scatterpolar": [
           {
            "marker": {
             "colorbar": {
              "outlinewidth": 0,
              "ticks": ""
             }
            },
            "type": "scatterpolar"
           }
          ],
          "scatterpolargl": [
           {
            "marker": {
             "colorbar": {
              "outlinewidth": 0,
              "ticks": ""
             }
            },
            "type": "scatterpolargl"
           }
          ],
          "scatterternary": [
           {
            "marker": {
             "colorbar": {
              "outlinewidth": 0,
              "ticks": ""
             }
            },
            "type": "scatterternary"
           }
          ],
          "surface": [
           {
            "colorbar": {
             "outlinewidth": 0,
             "ticks": ""
            },
            "colorscale": [
             [
              0,
              "#0d0887"
             ],
             [
              0.1111111111111111,
              "#46039f"
             ],
             [
              0.2222222222222222,
              "#7201a8"
             ],
             [
              0.3333333333333333,
              "#9c179e"
             ],
             [
              0.4444444444444444,
              "#bd3786"
             ],
             [
              0.5555555555555556,
              "#d8576b"
             ],
             [
              0.6666666666666666,
              "#ed7953"
             ],
             [
              0.7777777777777778,
              "#fb9f3a"
             ],
             [
              0.8888888888888888,
              "#fdca26"
             ],
             [
              1,
              "#f0f921"
             ]
            ],
            "type": "surface"
           }
          ],
          "table": [
           {
            "cells": {
             "fill": {
              "color": "#EBF0F8"
             },
             "line": {
              "color": "white"
             }
            },
            "header": {
             "fill": {
              "color": "#C8D4E3"
             },
             "line": {
              "color": "white"
             }
            },
            "type": "table"
           }
          ]
         },
         "layout": {
          "annotationdefaults": {
           "arrowcolor": "#2a3f5f",
           "arrowhead": 0,
           "arrowwidth": 1
          },
          "autotypenumbers": "strict",
          "coloraxis": {
           "colorbar": {
            "outlinewidth": 0,
            "ticks": ""
           }
          },
          "colorscale": {
           "diverging": [
            [
             0,
             "#8e0152"
            ],
            [
             0.1,
             "#c51b7d"
            ],
            [
             0.2,
             "#de77ae"
            ],
            [
             0.3,
             "#f1b6da"
            ],
            [
             0.4,
             "#fde0ef"
            ],
            [
             0.5,
             "#f7f7f7"
            ],
            [
             0.6,
             "#e6f5d0"
            ],
            [
             0.7,
             "#b8e186"
            ],
            [
             0.8,
             "#7fbc41"
            ],
            [
             0.9,
             "#4d9221"
            ],
            [
             1,
             "#276419"
            ]
           ],
           "sequential": [
            [
             0,
             "#0d0887"
            ],
            [
             0.1111111111111111,
             "#46039f"
            ],
            [
             0.2222222222222222,
             "#7201a8"
            ],
            [
             0.3333333333333333,
             "#9c179e"
            ],
            [
             0.4444444444444444,
             "#bd3786"
            ],
            [
             0.5555555555555556,
             "#d8576b"
            ],
            [
             0.6666666666666666,
             "#ed7953"
            ],
            [
             0.7777777777777778,
             "#fb9f3a"
            ],
            [
             0.8888888888888888,
             "#fdca26"
            ],
            [
             1,
             "#f0f921"
            ]
           ],
           "sequentialminus": [
            [
             0,
             "#0d0887"
            ],
            [
             0.1111111111111111,
             "#46039f"
            ],
            [
             0.2222222222222222,
             "#7201a8"
            ],
            [
             0.3333333333333333,
             "#9c179e"
            ],
            [
             0.4444444444444444,
             "#bd3786"
            ],
            [
             0.5555555555555556,
             "#d8576b"
            ],
            [
             0.6666666666666666,
             "#ed7953"
            ],
            [
             0.7777777777777778,
             "#fb9f3a"
            ],
            [
             0.8888888888888888,
             "#fdca26"
            ],
            [
             1,
             "#f0f921"
            ]
           ]
          },
          "colorway": [
           "#636efa",
           "#EF553B",
           "#00cc96",
           "#ab63fa",
           "#FFA15A",
           "#19d3f3",
           "#FF6692",
           "#B6E880",
           "#FF97FF",
           "#FECB52"
          ],
          "font": {
           "color": "#2a3f5f"
          },
          "geo": {
           "bgcolor": "white",
           "lakecolor": "white",
           "landcolor": "white",
           "showlakes": true,
           "showland": true,
           "subunitcolor": "#C8D4E3"
          },
          "hoverlabel": {
           "align": "left"
          },
          "hovermode": "closest",
          "mapbox": {
           "style": "light"
          },
          "paper_bgcolor": "white",
          "plot_bgcolor": "white",
          "polar": {
           "angularaxis": {
            "gridcolor": "#EBF0F8",
            "linecolor": "#EBF0F8",
            "ticks": ""
           },
           "bgcolor": "white",
           "radialaxis": {
            "gridcolor": "#EBF0F8",
            "linecolor": "#EBF0F8",
            "ticks": ""
           }
          },
          "scene": {
           "xaxis": {
            "backgroundcolor": "white",
            "gridcolor": "#DFE8F3",
            "gridwidth": 2,
            "linecolor": "#EBF0F8",
            "showbackground": true,
            "ticks": "",
            "zerolinecolor": "#EBF0F8"
           },
           "yaxis": {
            "backgroundcolor": "white",
            "gridcolor": "#DFE8F3",
            "gridwidth": 2,
            "linecolor": "#EBF0F8",
            "showbackground": true,
            "ticks": "",
            "zerolinecolor": "#EBF0F8"
           },
           "zaxis": {
            "backgroundcolor": "white",
            "gridcolor": "#DFE8F3",
            "gridwidth": 2,
            "linecolor": "#EBF0F8",
            "showbackground": true,
            "ticks": "",
            "zerolinecolor": "#EBF0F8"
           }
          },
          "shapedefaults": {
           "line": {
            "color": "#2a3f5f"
           }
          },
          "ternary": {
           "aaxis": {
            "gridcolor": "#DFE8F3",
            "linecolor": "#A2B1C6",
            "ticks": ""
           },
           "baxis": {
            "gridcolor": "#DFE8F3",
            "linecolor": "#A2B1C6",
            "ticks": ""
           },
           "bgcolor": "white",
           "caxis": {
            "gridcolor": "#DFE8F3",
            "linecolor": "#A2B1C6",
            "ticks": ""
           }
          },
          "title": {
           "x": 0.05
          },
          "xaxis": {
           "automargin": true,
           "gridcolor": "#EBF0F8",
           "linecolor": "#EBF0F8",
           "ticks": "",
           "title": {
            "standoff": 15
           },
           "zerolinecolor": "#EBF0F8",
           "zerolinewidth": 2
          },
          "yaxis": {
           "automargin": true,
           "gridcolor": "#EBF0F8",
           "linecolor": "#EBF0F8",
           "ticks": "",
           "title": {
            "standoff": 15
           },
           "zerolinecolor": "#EBF0F8",
           "zerolinewidth": 2
          }
         }
        },
        "title": {
         "text": "<b>Sales by Product</b>"
        },
        "xaxis": {
         "anchor": "y",
         "domain": [
          0,
          1
         ],
         "title": {
          "text": "Units Sold"
         }
        },
        "yaxis": {
         "anchor": "x",
         "domain": [
          0,
          1
         ],
         "title": {
          "text": "Product"
         }
        }
       }
      },
      "text/html": [
       "<div>                            <div id=\"3878f5fe-e9b8-4b98-91c3-ac851c14d186\" class=\"plotly-graph-div\" style=\"height:525px; width:100%;\"></div>            <script type=\"text/javascript\">                require([\"plotly\"], function(Plotly) {                    window.PLOTLYENV=window.PLOTLYENV || {};                                    if (document.getElementById(\"3878f5fe-e9b8-4b98-91c3-ac851c14d186\")) {                    Plotly.newPlot(                        \"3878f5fe-e9b8-4b98-91c3-ac851c14d186\",                        [{\"alignmentgroup\":\"True\",\"hovertemplate\":\"Units Sold=%{x}<br>Product=%{y}<extra></extra>\",\"legendgroup\":\"\",\"marker\":{\"color\":\"#0083B8\",\"pattern\":{\"shape\":\"\"}},\"name\":\"\",\"offsetgroup\":\"\",\"orientation\":\"h\",\"showlegend\":false,\"textposition\":\"auto\",\"x\":[146849,154201,155318,162426,168787,338243],\"xaxis\":\"x\",\"y\":[\" Snickerdoodle \",\" Fortune Cookie \",\" Oatmeal Raisin \",\" White Chocolate Macadamia Nut \",\" Sugar \",\" Chocolate Chip \"],\"yaxis\":\"y\",\"type\":\"bar\"}],                        {\"template\":{\"data\":{\"barpolar\":[{\"marker\":{\"line\":{\"color\":\"white\",\"width\":0.5},\"pattern\":{\"fillmode\":\"overlay\",\"size\":10,\"solidity\":0.2}},\"type\":\"barpolar\"}],\"bar\":[{\"error_x\":{\"color\":\"#2a3f5f\"},\"error_y\":{\"color\":\"#2a3f5f\"},\"marker\":{\"line\":{\"color\":\"white\",\"width\":0.5},\"pattern\":{\"fillmode\":\"overlay\",\"size\":10,\"solidity\":0.2}},\"type\":\"bar\"}],\"carpet\":[{\"aaxis\":{\"endlinecolor\":\"#2a3f5f\",\"gridcolor\":\"#C8D4E3\",\"linecolor\":\"#C8D4E3\",\"minorgridcolor\":\"#C8D4E3\",\"startlinecolor\":\"#2a3f5f\"},\"baxis\":{\"endlinecolor\":\"#2a3f5f\",\"gridcolor\":\"#C8D4E3\",\"linecolor\":\"#C8D4E3\",\"minorgridcolor\":\"#C8D4E3\",\"startlinecolor\":\"#2a3f5f\"},\"type\":\"carpet\"}],\"choropleth\":[{\"colorbar\":{\"outlinewidth\":0,\"ticks\":\"\"},\"type\":\"choropleth\"}],\"contourcarpet\":[{\"colorbar\":{\"outlinewidth\":0,\"ticks\":\"\"},\"type\":\"contourcarpet\"}],\"contour\":[{\"colorbar\":{\"outlinewidth\":0,\"ticks\":\"\"},\"colorscale\":[[0.0,\"#0d0887\"],[0.1111111111111111,\"#46039f\"],[0.2222222222222222,\"#7201a8\"],[0.3333333333333333,\"#9c179e\"],[0.4444444444444444,\"#bd3786\"],[0.5555555555555556,\"#d8576b\"],[0.6666666666666666,\"#ed7953\"],[0.7777777777777778,\"#fb9f3a\"],[0.8888888888888888,\"#fdca26\"],[1.0,\"#f0f921\"]],\"type\":\"contour\"}],\"heatmapgl\":[{\"colorbar\":{\"outlinewidth\":0,\"ticks\":\"\"},\"colorscale\":[[0.0,\"#0d0887\"],[0.1111111111111111,\"#46039f\"],[0.2222222222222222,\"#7201a8\"],[0.3333333333333333,\"#9c179e\"],[0.4444444444444444,\"#bd3786\"],[0.5555555555555556,\"#d8576b\"],[0.6666666666666666,\"#ed7953\"],[0.7777777777777778,\"#fb9f3a\"],[0.8888888888888888,\"#fdca26\"],[1.0,\"#f0f921\"]],\"type\":\"heatmapgl\"}],\"heatmap\":[{\"colorbar\":{\"outlinewidth\":0,\"ticks\":\"\"},\"colorscale\":[[0.0,\"#0d0887\"],[0.1111111111111111,\"#46039f\"],[0.2222222222222222,\"#7201a8\"],[0.3333333333333333,\"#9c179e\"],[0.4444444444444444,\"#bd3786\"],[0.5555555555555556,\"#d8576b\"],[0.6666666666666666,\"#ed7953\"],[0.7777777777777778,\"#fb9f3a\"],[0.8888888888888888,\"#fdca26\"],[1.0,\"#f0f921\"]],\"type\":\"heatmap\"}],\"histogram2dcontour\":[{\"colorbar\":{\"outlinewidth\":0,\"ticks\":\"\"},\"colorscale\":[[0.0,\"#0d0887\"],[0.1111111111111111,\"#46039f\"],[0.2222222222222222,\"#7201a8\"],[0.3333333333333333,\"#9c179e\"],[0.4444444444444444,\"#bd3786\"],[0.5555555555555556,\"#d8576b\"],[0.6666666666666666,\"#ed7953\"],[0.7777777777777778,\"#fb9f3a\"],[0.8888888888888888,\"#fdca26\"],[1.0,\"#f0f921\"]],\"type\":\"histogram2dcontour\"}],\"histogram2d\":[{\"colorbar\":{\"outlinewidth\":0,\"ticks\":\"\"},\"colorscale\":[[0.0,\"#0d0887\"],[0.1111111111111111,\"#46039f\"],[0.2222222222222222,\"#7201a8\"],[0.3333333333333333,\"#9c179e\"],[0.4444444444444444,\"#bd3786\"],[0.5555555555555556,\"#d8576b\"],[0.6666666666666666,\"#ed7953\"],[0.7777777777777778,\"#fb9f3a\"],[0.8888888888888888,\"#fdca26\"],[1.0,\"#f0f921\"]],\"type\":\"histogram2d\"}],\"histogram\":[{\"marker\":{\"pattern\":{\"fillmode\":\"overlay\",\"size\":10,\"solidity\":0.2}},\"type\":\"histogram\"}],\"mesh3d\":[{\"colorbar\":{\"outlinewidth\":0,\"ticks\":\"\"},\"type\":\"mesh3d\"}],\"parcoords\":[{\"line\":{\"colorbar\":{\"outlinewidth\":0,\"ticks\":\"\"}},\"type\":\"parcoords\"}],\"pie\":[{\"automargin\":true,\"type\":\"pie\"}],\"scatter3d\":[{\"line\":{\"colorbar\":{\"outlinewidth\":0,\"ticks\":\"\"}},\"marker\":{\"colorbar\":{\"outlinewidth\":0,\"ticks\":\"\"}},\"type\":\"scatter3d\"}],\"scattercarpet\":[{\"marker\":{\"colorbar\":{\"outlinewidth\":0,\"ticks\":\"\"}},\"type\":\"scattercarpet\"}],\"scattergeo\":[{\"marker\":{\"colorbar\":{\"outlinewidth\":0,\"ticks\":\"\"}},\"type\":\"scattergeo\"}],\"scattergl\":[{\"marker\":{\"colorbar\":{\"outlinewidth\":0,\"ticks\":\"\"}},\"type\":\"scattergl\"}],\"scattermapbox\":[{\"marker\":{\"colorbar\":{\"outlinewidth\":0,\"ticks\":\"\"}},\"type\":\"scattermapbox\"}],\"scatterpolargl\":[{\"marker\":{\"colorbar\":{\"outlinewidth\":0,\"ticks\":\"\"}},\"type\":\"scatterpolargl\"}],\"scatterpolar\":[{\"marker\":{\"colorbar\":{\"outlinewidth\":0,\"ticks\":\"\"}},\"type\":\"scatterpolar\"}],\"scatter\":[{\"fillpattern\":{\"fillmode\":\"overlay\",\"size\":10,\"solidity\":0.2},\"type\":\"scatter\"}],\"scatterternary\":[{\"marker\":{\"colorbar\":{\"outlinewidth\":0,\"ticks\":\"\"}},\"type\":\"scatterternary\"}],\"surface\":[{\"colorbar\":{\"outlinewidth\":0,\"ticks\":\"\"},\"colorscale\":[[0.0,\"#0d0887\"],[0.1111111111111111,\"#46039f\"],[0.2222222222222222,\"#7201a8\"],[0.3333333333333333,\"#9c179e\"],[0.4444444444444444,\"#bd3786\"],[0.5555555555555556,\"#d8576b\"],[0.6666666666666666,\"#ed7953\"],[0.7777777777777778,\"#fb9f3a\"],[0.8888888888888888,\"#fdca26\"],[1.0,\"#f0f921\"]],\"type\":\"surface\"}],\"table\":[{\"cells\":{\"fill\":{\"color\":\"#EBF0F8\"},\"line\":{\"color\":\"white\"}},\"header\":{\"fill\":{\"color\":\"#C8D4E3\"},\"line\":{\"color\":\"white\"}},\"type\":\"table\"}]},\"layout\":{\"annotationdefaults\":{\"arrowcolor\":\"#2a3f5f\",\"arrowhead\":0,\"arrowwidth\":1},\"autotypenumbers\":\"strict\",\"coloraxis\":{\"colorbar\":{\"outlinewidth\":0,\"ticks\":\"\"}},\"colorscale\":{\"diverging\":[[0,\"#8e0152\"],[0.1,\"#c51b7d\"],[0.2,\"#de77ae\"],[0.3,\"#f1b6da\"],[0.4,\"#fde0ef\"],[0.5,\"#f7f7f7\"],[0.6,\"#e6f5d0\"],[0.7,\"#b8e186\"],[0.8,\"#7fbc41\"],[0.9,\"#4d9221\"],[1,\"#276419\"]],\"sequential\":[[0.0,\"#0d0887\"],[0.1111111111111111,\"#46039f\"],[0.2222222222222222,\"#7201a8\"],[0.3333333333333333,\"#9c179e\"],[0.4444444444444444,\"#bd3786\"],[0.5555555555555556,\"#d8576b\"],[0.6666666666666666,\"#ed7953\"],[0.7777777777777778,\"#fb9f3a\"],[0.8888888888888888,\"#fdca26\"],[1.0,\"#f0f921\"]],\"sequentialminus\":[[0.0,\"#0d0887\"],[0.1111111111111111,\"#46039f\"],[0.2222222222222222,\"#7201a8\"],[0.3333333333333333,\"#9c179e\"],[0.4444444444444444,\"#bd3786\"],[0.5555555555555556,\"#d8576b\"],[0.6666666666666666,\"#ed7953\"],[0.7777777777777778,\"#fb9f3a\"],[0.8888888888888888,\"#fdca26\"],[1.0,\"#f0f921\"]]},\"colorway\":[\"#636efa\",\"#EF553B\",\"#00cc96\",\"#ab63fa\",\"#FFA15A\",\"#19d3f3\",\"#FF6692\",\"#B6E880\",\"#FF97FF\",\"#FECB52\"],\"font\":{\"color\":\"#2a3f5f\"},\"geo\":{\"bgcolor\":\"white\",\"lakecolor\":\"white\",\"landcolor\":\"white\",\"showlakes\":true,\"showland\":true,\"subunitcolor\":\"#C8D4E3\"},\"hoverlabel\":{\"align\":\"left\"},\"hovermode\":\"closest\",\"mapbox\":{\"style\":\"light\"},\"paper_bgcolor\":\"white\",\"plot_bgcolor\":\"white\",\"polar\":{\"angularaxis\":{\"gridcolor\":\"#EBF0F8\",\"linecolor\":\"#EBF0F8\",\"ticks\":\"\"},\"bgcolor\":\"white\",\"radialaxis\":{\"gridcolor\":\"#EBF0F8\",\"linecolor\":\"#EBF0F8\",\"ticks\":\"\"}},\"scene\":{\"xaxis\":{\"backgroundcolor\":\"white\",\"gridcolor\":\"#DFE8F3\",\"gridwidth\":2,\"linecolor\":\"#EBF0F8\",\"showbackground\":true,\"ticks\":\"\",\"zerolinecolor\":\"#EBF0F8\"},\"yaxis\":{\"backgroundcolor\":\"white\",\"gridcolor\":\"#DFE8F3\",\"gridwidth\":2,\"linecolor\":\"#EBF0F8\",\"showbackground\":true,\"ticks\":\"\",\"zerolinecolor\":\"#EBF0F8\"},\"zaxis\":{\"backgroundcolor\":\"white\",\"gridcolor\":\"#DFE8F3\",\"gridwidth\":2,\"linecolor\":\"#EBF0F8\",\"showbackground\":true,\"ticks\":\"\",\"zerolinecolor\":\"#EBF0F8\"}},\"shapedefaults\":{\"line\":{\"color\":\"#2a3f5f\"}},\"ternary\":{\"aaxis\":{\"gridcolor\":\"#DFE8F3\",\"linecolor\":\"#A2B1C6\",\"ticks\":\"\"},\"baxis\":{\"gridcolor\":\"#DFE8F3\",\"linecolor\":\"#A2B1C6\",\"ticks\":\"\"},\"bgcolor\":\"white\",\"caxis\":{\"gridcolor\":\"#DFE8F3\",\"linecolor\":\"#A2B1C6\",\"ticks\":\"\"}},\"title\":{\"x\":0.05},\"xaxis\":{\"automargin\":true,\"gridcolor\":\"#EBF0F8\",\"linecolor\":\"#EBF0F8\",\"ticks\":\"\",\"title\":{\"standoff\":15},\"zerolinecolor\":\"#EBF0F8\",\"zerolinewidth\":2},\"yaxis\":{\"automargin\":true,\"gridcolor\":\"#EBF0F8\",\"linecolor\":\"#EBF0F8\",\"ticks\":\"\",\"title\":{\"standoff\":15},\"zerolinecolor\":\"#EBF0F8\",\"zerolinewidth\":2}}},\"xaxis\":{\"anchor\":\"y\",\"domain\":[0.0,1.0],\"title\":{\"text\":\"Units Sold\"}},\"yaxis\":{\"anchor\":\"x\",\"domain\":[0.0,1.0],\"title\":{\"text\":\"Product\"}},\"legend\":{\"tracegroupgap\":0},\"title\":{\"text\":\"<b>Sales by Product</b>\"},\"barmode\":\"relative\"},                        {\"responsive\": true}                    ).then(function(){\n",
       "                            \n",
       "var gd = document.getElementById('3878f5fe-e9b8-4b98-91c3-ac851c14d186');\n",
       "var x = new MutationObserver(function (mutations, observer) {{\n",
       "        var display = window.getComputedStyle(gd).display;\n",
       "        if (!display || display === 'none') {{\n",
       "            console.log([gd, 'removed!']);\n",
       "            Plotly.purge(gd);\n",
       "            observer.disconnect();\n",
       "        }}\n",
       "}});\n",
       "\n",
       "// Listen for the removal of the full notebook cells\n",
       "var notebookContainer = gd.closest('#notebook-container');\n",
       "if (notebookContainer) {{\n",
       "    x.observe(notebookContainer, {childList: true});\n",
       "}}\n",
       "\n",
       "// Listen for the clearing of the current output cell\n",
       "var outputEl = gd.closest('.output');\n",
       "if (outputEl) {{\n",
       "    x.observe(outputEl, {childList: true});\n",
       "}}\n",
       "\n",
       "                        })                };                });            </script>        </div>"
      ]
     },
     "metadata": {},
     "output_type": "display_data"
    }
   ],
   "source": [
    "sales_by_product = df.groupby(by=['Product']).sum()[['Units Sold']].sort_values(by=['Units Sold'])\n",
    "fig_Product_sales = px.bar(\n",
    "    sales_by_product,\n",
    "    x='Units Sold', y = sales_by_product.index,\n",
    "    orientation='h', title=\"<b>Sales by Product</b>\",\n",
    "    color_discrete_sequence=[\"#0083B8\"]* len(sales_by_product),\n",
    "    template=\"plotly_white\",)\n",
    "fig_Product_sales"
   ]
  },
  {
   "cell_type": "code",
   "execution_count": 65,
   "id": "5bb25b59",
   "metadata": {},
   "outputs": [
    {
     "data": {
      "application/vnd.plotly.v1+json": {
       "config": {
        "plotlyServerURL": "https://plot.ly"
       },
       "data": [
        {
         "hovertemplate": "Product= Chocolate Chip <br>Units Sold=%{x}<br>Revenue=%{y}<extra></extra>",
         "legendgroup": " Chocolate Chip ",
         "marker": {
          "color": "#1F77B4",
          "symbol": "circle"
         },
         "mode": "markers",
         "name": " Chocolate Chip ",
         "orientation": "v",
         "showlegend": true,
         "type": "scatter",
         "x": [
          1725,
          2152,
          2349,
          1228,
          1389,
          1802,
          2299,
          1404,
          2470,
          1743,
          2222,
          549,
          1785,
          2261,
          704,
          2136,
          1757,
          1031,
          2167,
          1198,
          1922,
          766,
          809,
          1945,
          2116,
          1123,
          2125,
          2409,
          2146,
          1775,
          2992,
          788,
          2145,
          1760,
          1514,
          2763,
          1946,
          367,
          1715,
          380,
          2151,
          912,
          1925,
          2013,
          671,
          727,
          2931,
          386,
          380,
          267,
          2007,
          292,
          2518,
          1817,
          2363,
          1295,
          1916,
          2852,
          2729,
          1774,
          2009,
          4251,
          218,
          2074,
          2431,
          1702,
          257,
          1094,
          873,
          2105,
          4026,
          2394,
          1366,
          2632,
          1583,
          1565,
          1249,
          2428,
          700,
          1614,
          2559,
          723,
          3945,
          2296,
          1030,
          787,
          2155,
          918,
          1055,
          2435,
          1901,
          1287,
          2988,
          1303,
          2385,
          2620,
          3801,
          1496,
          448,
          2101,
          1535,
          1227,
          1324,
          1954,
          2532,
          2426,
          2441,
          1594,
          2696,
          1393,
          1731,
          293,
          1006,
          367,
          1513,
          747,
          1728,
          689,
          1570,
          1706,
          795,
          1415,
          1372,
          1743,
          3513,
          1259,
          1095,
          1366,
          1598,
          1934,
          360,
          241,
          1359,
          1531,
          807,
          2708,
          357,
          1013,
          278,
          1158,
          1085,
          1175,
          974,
          883,
          2472,
          1823,
          662,
          1084,
          2031,
          1138,
          2689,
          1607,
          1114,
          2460,
          2993,
          1362,
          2565,
          2417,
          1038,
          591,
          1122,
          1984,
          886,
          2156,
          905,
          2150,
          1197,
          1233,
          571,
          260,
          2535,
          2851,
          1143,
          1514,
          4493,
          727,
          2905,
          1142,
          1370,
          2918,
          3450,
          1056,
          274,
          2992,
          2327,
          991,
          602,
          861,
          2663,
          2198,
          1153,
          678,
          3675,
          2797,
          973,
          3495,
          1439,
          2641,
          1767,
          2914,
          1177,
          914
         ],
         "xaxis": "x",
         "y": [
          8625,
          10760,
          11745,
          6140,
          6945,
          9010,
          11495,
          7020,
          12350,
          8715,
          11110,
          2745,
          8925,
          11305,
          3520,
          10680,
          8785,
          5155,
          10835,
          5990,
          9610,
          3830,
          4045,
          9725,
          10580,
          5615,
          10625,
          12045,
          10730,
          8875,
          14960,
          3940,
          10725,
          8800,
          7570,
          13815,
          9730,
          1835,
          8575,
          1900,
          10755,
          4560,
          9625,
          10065,
          3355,
          3635,
          14655,
          1930,
          1900,
          1335,
          10035,
          1460,
          12590,
          9085,
          11815,
          6475,
          9580,
          14260,
          13645,
          8870,
          10045,
          21255,
          1090,
          10370,
          12155,
          8510,
          1285,
          5470,
          4365,
          10525,
          20130,
          11970,
          6830,
          13160,
          7915,
          7825,
          6245,
          12140,
          3500,
          8070,
          12795,
          3615,
          19725,
          11480,
          5150,
          3935,
          10775,
          4590,
          5275,
          12175,
          9505,
          6435,
          14940,
          6515,
          11925,
          13100,
          19005,
          7480,
          2240,
          10505,
          7675,
          6135,
          6620,
          9770,
          12660,
          12130,
          12205,
          7970,
          13480,
          6965,
          8655,
          1465,
          5030,
          1835,
          7565,
          3735,
          8640,
          3445,
          7850,
          8530,
          3975,
          7075,
          6860,
          8715,
          17565,
          6295,
          5475,
          6830,
          7990,
          9670,
          1800,
          1205,
          6795,
          7655,
          4035,
          13540,
          1785,
          5065,
          1390,
          5790,
          5425,
          5875,
          4870,
          4415,
          12360,
          9115,
          3310,
          5420,
          10155,
          5690,
          13445,
          8035,
          5570,
          12300,
          14965,
          6810,
          12825,
          12085,
          5190,
          2955,
          5610,
          9920,
          4430,
          10780,
          4525,
          10750,
          5985,
          6165,
          2855,
          1300,
          12675,
          14255,
          5715,
          7570,
          22465,
          3635,
          14525,
          5710,
          6850,
          14590,
          17250,
          5280,
          1370,
          14960,
          11635,
          4955,
          3010,
          4305,
          13315,
          10990,
          5765,
          3390,
          18375,
          13985,
          4865,
          17475,
          7195,
          13205,
          8835,
          14570,
          5885,
          4570
         ],
         "yaxis": "y"
        },
        {
         "alignmentgroup": "True",
         "hovertemplate": "Product= Chocolate Chip <br>Units Sold=%{x}<extra></extra>",
         "legendgroup": " Chocolate Chip ",
         "marker": {
          "color": "#1F77B4",
          "symbol": "circle"
         },
         "name": " Chocolate Chip ",
         "notched": true,
         "offsetgroup": " Chocolate Chip ",
         "showlegend": false,
         "type": "box",
         "x": [
          1725,
          2152,
          2349,
          1228,
          1389,
          1802,
          2299,
          1404,
          2470,
          1743,
          2222,
          549,
          1785,
          2261,
          704,
          2136,
          1757,
          1031,
          2167,
          1198,
          1922,
          766,
          809,
          1945,
          2116,
          1123,
          2125,
          2409,
          2146,
          1775,
          2992,
          788,
          2145,
          1760,
          1514,
          2763,
          1946,
          367,
          1715,
          380,
          2151,
          912,
          1925,
          2013,
          671,
          727,
          2931,
          386,
          380,
          267,
          2007,
          292,
          2518,
          1817,
          2363,
          1295,
          1916,
          2852,
          2729,
          1774,
          2009,
          4251,
          218,
          2074,
          2431,
          1702,
          257,
          1094,
          873,
          2105,
          4026,
          2394,
          1366,
          2632,
          1583,
          1565,
          1249,
          2428,
          700,
          1614,
          2559,
          723,
          3945,
          2296,
          1030,
          787,
          2155,
          918,
          1055,
          2435,
          1901,
          1287,
          2988,
          1303,
          2385,
          2620,
          3801,
          1496,
          448,
          2101,
          1535,
          1227,
          1324,
          1954,
          2532,
          2426,
          2441,
          1594,
          2696,
          1393,
          1731,
          293,
          1006,
          367,
          1513,
          747,
          1728,
          689,
          1570,
          1706,
          795,
          1415,
          1372,
          1743,
          3513,
          1259,
          1095,
          1366,
          1598,
          1934,
          360,
          241,
          1359,
          1531,
          807,
          2708,
          357,
          1013,
          278,
          1158,
          1085,
          1175,
          974,
          883,
          2472,
          1823,
          662,
          1084,
          2031,
          1138,
          2689,
          1607,
          1114,
          2460,
          2993,
          1362,
          2565,
          2417,
          1038,
          591,
          1122,
          1984,
          886,
          2156,
          905,
          2150,
          1197,
          1233,
          571,
          260,
          2535,
          2851,
          1143,
          1514,
          4493,
          727,
          2905,
          1142,
          1370,
          2918,
          3450,
          1056,
          274,
          2992,
          2327,
          991,
          602,
          861,
          2663,
          2198,
          1153,
          678,
          3675,
          2797,
          973,
          3495,
          1439,
          2641,
          1767,
          2914,
          1177,
          914
         ],
         "xaxis": "x3",
         "yaxis": "y3"
        },
        {
         "alignmentgroup": "True",
         "hovertemplate": "Product= Chocolate Chip <br>Revenue=%{y}<extra></extra>",
         "legendgroup": " Chocolate Chip ",
         "marker": {
          "color": "#1F77B4",
          "symbol": "circle"
         },
         "name": " Chocolate Chip ",
         "offsetgroup": " Chocolate Chip ",
         "scalegroup": "y",
         "showlegend": false,
         "type": "violin",
         "xaxis": "x2",
         "y": [
          8625,
          10760,
          11745,
          6140,
          6945,
          9010,
          11495,
          7020,
          12350,
          8715,
          11110,
          2745,
          8925,
          11305,
          3520,
          10680,
          8785,
          5155,
          10835,
          5990,
          9610,
          3830,
          4045,
          9725,
          10580,
          5615,
          10625,
          12045,
          10730,
          8875,
          14960,
          3940,
          10725,
          8800,
          7570,
          13815,
          9730,
          1835,
          8575,
          1900,
          10755,
          4560,
          9625,
          10065,
          3355,
          3635,
          14655,
          1930,
          1900,
          1335,
          10035,
          1460,
          12590,
          9085,
          11815,
          6475,
          9580,
          14260,
          13645,
          8870,
          10045,
          21255,
          1090,
          10370,
          12155,
          8510,
          1285,
          5470,
          4365,
          10525,
          20130,
          11970,
          6830,
          13160,
          7915,
          7825,
          6245,
          12140,
          3500,
          8070,
          12795,
          3615,
          19725,
          11480,
          5150,
          3935,
          10775,
          4590,
          5275,
          12175,
          9505,
          6435,
          14940,
          6515,
          11925,
          13100,
          19005,
          7480,
          2240,
          10505,
          7675,
          6135,
          6620,
          9770,
          12660,
          12130,
          12205,
          7970,
          13480,
          6965,
          8655,
          1465,
          5030,
          1835,
          7565,
          3735,
          8640,
          3445,
          7850,
          8530,
          3975,
          7075,
          6860,
          8715,
          17565,
          6295,
          5475,
          6830,
          7990,
          9670,
          1800,
          1205,
          6795,
          7655,
          4035,
          13540,
          1785,
          5065,
          1390,
          5790,
          5425,
          5875,
          4870,
          4415,
          12360,
          9115,
          3310,
          5420,
          10155,
          5690,
          13445,
          8035,
          5570,
          12300,
          14965,
          6810,
          12825,
          12085,
          5190,
          2955,
          5610,
          9920,
          4430,
          10780,
          4525,
          10750,
          5985,
          6165,
          2855,
          1300,
          12675,
          14255,
          5715,
          7570,
          22465,
          3635,
          14525,
          5710,
          6850,
          14590,
          17250,
          5280,
          1370,
          14960,
          11635,
          4955,
          3010,
          4305,
          13315,
          10990,
          5765,
          3390,
          18375,
          13985,
          4865,
          17475,
          7195,
          13205,
          8835,
          14570,
          5885,
          4570
         ],
         "yaxis": "y2"
        },
        {
         "hovertemplate": "<b>OLS trendline</b><br>Revenue = 5 * Units Sold + 9.66338e-13<br>R<sup>2</sup>=1.000000<br><br>Product= Chocolate Chip <br>Units Sold=%{x}<br>Revenue=%{y} <b>(trend)</b><extra></extra>",
         "legendgroup": " Chocolate Chip ",
         "marker": {
          "color": "#1F77B4",
          "symbol": "circle"
         },
         "mode": "lines",
         "name": " Chocolate Chip ",
         "showlegend": false,
         "type": "scatter",
         "x": [
          218,
          241,
          257,
          260,
          267,
          274,
          278,
          292,
          293,
          357,
          360,
          367,
          367,
          380,
          380,
          386,
          448,
          549,
          571,
          591,
          602,
          662,
          671,
          678,
          689,
          700,
          704,
          723,
          727,
          727,
          747,
          766,
          787,
          788,
          795,
          807,
          809,
          861,
          873,
          883,
          886,
          905,
          912,
          914,
          918,
          973,
          974,
          991,
          1006,
          1013,
          1030,
          1031,
          1038,
          1055,
          1056,
          1084,
          1085,
          1094,
          1095,
          1114,
          1122,
          1123,
          1138,
          1142,
          1143,
          1153,
          1158,
          1175,
          1177,
          1197,
          1198,
          1227,
          1228,
          1233,
          1249,
          1259,
          1287,
          1295,
          1303,
          1324,
          1359,
          1362,
          1366,
          1366,
          1370,
          1372,
          1389,
          1393,
          1404,
          1415,
          1439,
          1496,
          1513,
          1514,
          1514,
          1531,
          1535,
          1565,
          1570,
          1583,
          1594,
          1598,
          1607,
          1614,
          1702,
          1706,
          1715,
          1725,
          1728,
          1731,
          1743,
          1743,
          1757,
          1760,
          1767,
          1774,
          1775,
          1785,
          1802,
          1817,
          1823,
          1901,
          1916,
          1922,
          1925,
          1934,
          1945,
          1946,
          1954,
          1984,
          2007,
          2009,
          2013,
          2031,
          2074,
          2101,
          2105,
          2116,
          2125,
          2136,
          2145,
          2146,
          2150,
          2151,
          2152,
          2155,
          2156,
          2167,
          2198,
          2222,
          2261,
          2296,
          2299,
          2327,
          2349,
          2363,
          2385,
          2394,
          2409,
          2417,
          2426,
          2428,
          2431,
          2435,
          2441,
          2460,
          2470,
          2472,
          2518,
          2532,
          2535,
          2559,
          2565,
          2620,
          2632,
          2641,
          2663,
          2689,
          2696,
          2708,
          2729,
          2763,
          2797,
          2851,
          2852,
          2905,
          2914,
          2918,
          2931,
          2988,
          2992,
          2992,
          2993,
          3450,
          3495,
          3513,
          3675,
          3801,
          3945,
          4026,
          4251,
          4493
         ],
         "xaxis": "x",
         "y": [
          1090.0000000000011,
          1205.0000000000011,
          1285.0000000000011,
          1300.0000000000011,
          1335.0000000000011,
          1370.0000000000011,
          1390.0000000000011,
          1460.0000000000011,
          1465.0000000000011,
          1785.0000000000011,
          1800.0000000000011,
          1835.0000000000011,
          1835.0000000000011,
          1900.0000000000011,
          1900.0000000000011,
          1930.0000000000014,
          2240.0000000000014,
          2745.0000000000014,
          2855.0000000000014,
          2955.0000000000014,
          3010.0000000000014,
          3310.0000000000014,
          3355.0000000000014,
          3390.0000000000014,
          3445.0000000000014,
          3500.0000000000014,
          3520.0000000000014,
          3615.0000000000014,
          3635.0000000000014,
          3635.0000000000014,
          3735.0000000000014,
          3830.0000000000014,
          3935.000000000002,
          3940.000000000002,
          3975.000000000002,
          4035.000000000002,
          4045.000000000002,
          4305.000000000002,
          4365.000000000002,
          4415.000000000002,
          4430.000000000002,
          4525.000000000002,
          4560.000000000002,
          4570.000000000002,
          4590.000000000002,
          4865.000000000002,
          4870.000000000002,
          4955.000000000002,
          5030.000000000002,
          5065.000000000002,
          5150.000000000002,
          5155.000000000002,
          5190.000000000002,
          5275.000000000002,
          5280.000000000002,
          5420.000000000002,
          5425.000000000002,
          5470.000000000002,
          5475.000000000002,
          5570.000000000002,
          5610.000000000002,
          5615.000000000002,
          5690.000000000002,
          5710.000000000002,
          5715.000000000002,
          5765.000000000002,
          5790.000000000002,
          5875.000000000002,
          5885.000000000002,
          5985.000000000002,
          5990.000000000002,
          6135.000000000002,
          6140.000000000002,
          6165.000000000002,
          6245.000000000002,
          6295.000000000002,
          6435.000000000002,
          6475.000000000002,
          6515.000000000002,
          6620.000000000002,
          6795.000000000002,
          6810.000000000002,
          6830.000000000002,
          6830.000000000002,
          6850.000000000002,
          6860.000000000002,
          6945.000000000002,
          6965.000000000002,
          7020.000000000002,
          7075.000000000002,
          7195.000000000002,
          7480.000000000002,
          7565.000000000002,
          7570.000000000002,
          7570.000000000002,
          7655.000000000002,
          7675.000000000002,
          7825.000000000003,
          7850.000000000003,
          7915.000000000003,
          7970.000000000003,
          7990.000000000003,
          8035.000000000003,
          8070.000000000003,
          8510.000000000004,
          8530.000000000004,
          8575.000000000004,
          8625.000000000004,
          8640.000000000004,
          8655.000000000004,
          8715.000000000004,
          8715.000000000004,
          8785.000000000004,
          8800.000000000004,
          8835.000000000004,
          8870.000000000004,
          8875.000000000004,
          8925.000000000004,
          9010.000000000004,
          9085.000000000004,
          9115.000000000004,
          9505.000000000004,
          9580.000000000004,
          9610.000000000004,
          9625.000000000004,
          9670.000000000004,
          9725.000000000004,
          9730.000000000004,
          9770.000000000004,
          9920.000000000004,
          10035.000000000004,
          10045.000000000004,
          10065.000000000004,
          10155.000000000004,
          10370.000000000004,
          10505.000000000004,
          10525.000000000004,
          10580.000000000004,
          10625.000000000004,
          10680.000000000004,
          10725.000000000004,
          10730.000000000004,
          10750.000000000004,
          10755.000000000004,
          10760.000000000004,
          10775.000000000004,
          10780.000000000004,
          10835.000000000004,
          10990.000000000004,
          11110.000000000004,
          11305.000000000004,
          11480.000000000004,
          11495.000000000004,
          11635.000000000004,
          11745.000000000004,
          11815.000000000004,
          11925.000000000004,
          11970.000000000004,
          12045.000000000004,
          12085.000000000004,
          12130.000000000004,
          12140.000000000004,
          12155.000000000004,
          12175.000000000004,
          12205.000000000004,
          12300.000000000004,
          12350.000000000004,
          12360.000000000004,
          12590.000000000004,
          12660.000000000004,
          12675.000000000004,
          12795.000000000004,
          12825.000000000004,
          13100.000000000004,
          13160.000000000004,
          13205.000000000004,
          13315.000000000004,
          13445.000000000004,
          13480.000000000004,
          13540.000000000004,
          13645.000000000004,
          13815.000000000004,
          13985.000000000004,
          14255.000000000004,
          14260.000000000004,
          14525.000000000004,
          14570.000000000004,
          14590.000000000004,
          14655.000000000004,
          14940.000000000004,
          14960.000000000004,
          14960.000000000004,
          14965.000000000004,
          17250.000000000004,
          17475.000000000004,
          17565.000000000004,
          18375.000000000004,
          19005.000000000004,
          19725.000000000004,
          20130.000000000004,
          21255.000000000004,
          22465.000000000004
         ],
         "yaxis": "y"
        },
        {
         "hovertemplate": "Product= Fortune Cookie <br>Units Sold=%{x}<br>Revenue=%{y}<extra></extra>",
         "legendgroup": " Fortune Cookie ",
         "marker": {
          "color": "#FF7F0E",
          "symbol": "circle"
         },
         "mode": "markers",
         "name": " Fortune Cookie ",
         "orientation": "v",
         "showlegend": true,
         "type": "scatter",
         "x": [
          345,
          2851,
          1283,
          1611,
          1403,
          1757,
          322,
          1857,
          1186,
          1797,
          1159,
          2500,
          334,
          2992,
          1660,
          720,
          1100,
          1715,
          1727,
          2498,
          663,
          1804,
          2996,
          2518,
          2666,
          1830,
          1967,
          488,
          708,
          3803,
          2321,
          2734,
          1249,
          2228,
          200,
          388,
          2300,
          1899,
          1376,
          1901,
          544,
          1287,
          1385,
          2342,
          1976,
          2181,
          2501,
          1562,
          1666,
          2072,
          1773,
          293,
          921,
          1545,
          2146,
          1958,
          1706,
          1859,
          2021,
          2342,
          1460,
          645,
          711,
          766,
          1199,
          2470,
          958,
          2214,
          690,
          2031,
          1138,
          980,
          2340,
          2157,
          2420,
          2661,
          604,
          2255,
          546,
          1368,
          615,
          2301,
          1142,
          1566,
          3627,
          2723,
          1282,
          2797,
          2328,
          2313,
          677,
          983,
          1298
         ],
         "xaxis": "x",
         "y": [
          345,
          2851,
          1283,
          1611,
          1403,
          1757,
          322,
          1857,
          1186,
          1797,
          1159,
          2500,
          334,
          2992,
          1660,
          720,
          1100,
          1715,
          1727,
          2498,
          663,
          1804,
          2996,
          2518,
          2666,
          1830,
          1967,
          488,
          708,
          3803,
          2321,
          2734,
          1249,
          2228,
          200,
          388,
          2300,
          1899,
          1376,
          1901,
          544,
          1287,
          1385,
          2342,
          1976,
          2181,
          2501,
          1562,
          1666,
          2072,
          1773,
          293,
          921,
          1545,
          2146,
          1958,
          1706,
          1859,
          2021,
          2342,
          1460,
          645,
          711,
          766,
          1199,
          2470,
          958,
          2214,
          690,
          2031,
          1138,
          980,
          2340,
          2157,
          2420,
          2661,
          604,
          2255,
          546,
          1368,
          615,
          2301,
          1142,
          1566,
          3627,
          2723,
          1282,
          2797,
          2328,
          2313,
          677,
          983,
          1298
         ],
         "yaxis": "y"
        },
        {
         "alignmentgroup": "True",
         "hovertemplate": "Product= Fortune Cookie <br>Units Sold=%{x}<extra></extra>",
         "legendgroup": " Fortune Cookie ",
         "marker": {
          "color": "#FF7F0E",
          "symbol": "circle"
         },
         "name": " Fortune Cookie ",
         "notched": true,
         "offsetgroup": " Fortune Cookie ",
         "showlegend": false,
         "type": "box",
         "x": [
          345,
          2851,
          1283,
          1611,
          1403,
          1757,
          322,
          1857,
          1186,
          1797,
          1159,
          2500,
          334,
          2992,
          1660,
          720,
          1100,
          1715,
          1727,
          2498,
          663,
          1804,
          2996,
          2518,
          2666,
          1830,
          1967,
          488,
          708,
          3803,
          2321,
          2734,
          1249,
          2228,
          200,
          388,
          2300,
          1899,
          1376,
          1901,
          544,
          1287,
          1385,
          2342,
          1976,
          2181,
          2501,
          1562,
          1666,
          2072,
          1773,
          293,
          921,
          1545,
          2146,
          1958,
          1706,
          1859,
          2021,
          2342,
          1460,
          645,
          711,
          766,
          1199,
          2470,
          958,
          2214,
          690,
          2031,
          1138,
          980,
          2340,
          2157,
          2420,
          2661,
          604,
          2255,
          546,
          1368,
          615,
          2301,
          1142,
          1566,
          3627,
          2723,
          1282,
          2797,
          2328,
          2313,
          677,
          983,
          1298
         ],
         "xaxis": "x3",
         "yaxis": "y3"
        },
        {
         "alignmentgroup": "True",
         "hovertemplate": "Product= Fortune Cookie <br>Revenue=%{y}<extra></extra>",
         "legendgroup": " Fortune Cookie ",
         "marker": {
          "color": "#FF7F0E",
          "symbol": "circle"
         },
         "name": " Fortune Cookie ",
         "offsetgroup": " Fortune Cookie ",
         "scalegroup": "y",
         "showlegend": false,
         "type": "violin",
         "xaxis": "x2",
         "y": [
          345,
          2851,
          1283,
          1611,
          1403,
          1757,
          322,
          1857,
          1186,
          1797,
          1159,
          2500,
          334,
          2992,
          1660,
          720,
          1100,
          1715,
          1727,
          2498,
          663,
          1804,
          2996,
          2518,
          2666,
          1830,
          1967,
          488,
          708,
          3803,
          2321,
          2734,
          1249,
          2228,
          200,
          388,
          2300,
          1899,
          1376,
          1901,
          544,
          1287,
          1385,
          2342,
          1976,
          2181,
          2501,
          1562,
          1666,
          2072,
          1773,
          293,
          921,
          1545,
          2146,
          1958,
          1706,
          1859,
          2021,
          2342,
          1460,
          645,
          711,
          766,
          1199,
          2470,
          958,
          2214,
          690,
          2031,
          1138,
          980,
          2340,
          2157,
          2420,
          2661,
          604,
          2255,
          546,
          1368,
          615,
          2301,
          1142,
          1566,
          3627,
          2723,
          1282,
          2797,
          2328,
          2313,
          677,
          983,
          1298
         ],
         "yaxis": "y2"
        },
        {
         "hovertemplate": "<b>OLS trendline</b><br>Revenue = 1 * Units Sold + -4.9738e-13<br>R<sup>2</sup>=1.000000<br><br>Product= Fortune Cookie <br>Units Sold=%{x}<br>Revenue=%{y} <b>(trend)</b><extra></extra>",
         "legendgroup": " Fortune Cookie ",
         "marker": {
          "color": "#FF7F0E",
          "symbol": "circle"
         },
         "mode": "lines",
         "name": " Fortune Cookie ",
         "showlegend": false,
         "type": "scatter",
         "x": [
          200,
          293,
          322,
          334,
          345,
          388,
          488,
          544,
          546,
          604,
          615,
          645,
          663,
          677,
          690,
          708,
          711,
          720,
          766,
          921,
          958,
          980,
          983,
          1100,
          1138,
          1142,
          1159,
          1186,
          1199,
          1249,
          1282,
          1283,
          1287,
          1298,
          1368,
          1376,
          1385,
          1403,
          1460,
          1545,
          1562,
          1566,
          1611,
          1660,
          1666,
          1706,
          1715,
          1727,
          1757,
          1773,
          1797,
          1804,
          1830,
          1857,
          1859,
          1899,
          1901,
          1958,
          1967,
          1976,
          2021,
          2031,
          2072,
          2146,
          2157,
          2181,
          2214,
          2228,
          2255,
          2300,
          2301,
          2313,
          2321,
          2328,
          2340,
          2342,
          2342,
          2420,
          2470,
          2498,
          2500,
          2501,
          2518,
          2661,
          2666,
          2723,
          2734,
          2797,
          2851,
          2992,
          2996,
          3627,
          3803
         ],
         "xaxis": "x",
         "y": [
          199.9999999999995,
          292.9999999999995,
          321.9999999999995,
          333.9999999999995,
          344.9999999999995,
          387.9999999999995,
          487.9999999999995,
          543.9999999999995,
          545.9999999999995,
          603.9999999999995,
          614.9999999999995,
          644.9999999999995,
          662.9999999999995,
          676.9999999999995,
          689.9999999999995,
          707.9999999999995,
          710.9999999999995,
          719.9999999999995,
          765.9999999999995,
          920.9999999999995,
          957.9999999999995,
          979.9999999999995,
          982.9999999999995,
          1099.9999999999995,
          1137.9999999999995,
          1141.9999999999995,
          1158.9999999999995,
          1185.9999999999995,
          1198.9999999999995,
          1248.9999999999995,
          1281.9999999999995,
          1282.9999999999995,
          1286.9999999999995,
          1297.9999999999995,
          1367.9999999999995,
          1375.9999999999995,
          1384.9999999999995,
          1402.9999999999995,
          1459.9999999999995,
          1544.9999999999995,
          1561.9999999999995,
          1565.9999999999995,
          1610.9999999999995,
          1659.9999999999995,
          1665.9999999999995,
          1705.9999999999995,
          1714.9999999999995,
          1726.9999999999995,
          1756.9999999999995,
          1772.9999999999995,
          1796.9999999999995,
          1803.9999999999995,
          1829.9999999999995,
          1856.9999999999995,
          1858.9999999999995,
          1898.9999999999995,
          1900.9999999999995,
          1957.9999999999995,
          1966.9999999999995,
          1975.9999999999995,
          2020.9999999999995,
          2030.9999999999995,
          2071.9999999999995,
          2145.9999999999995,
          2156.9999999999995,
          2180.9999999999995,
          2213.9999999999995,
          2227.9999999999995,
          2254.9999999999995,
          2299.9999999999995,
          2300.9999999999995,
          2312.9999999999995,
          2320.9999999999995,
          2327.9999999999995,
          2339.9999999999995,
          2341.9999999999995,
          2341.9999999999995,
          2419.9999999999995,
          2469.9999999999995,
          2497.9999999999995,
          2499.9999999999995,
          2500.9999999999995,
          2517.9999999999995,
          2660.9999999999995,
          2665.9999999999995,
          2722.9999999999995,
          2733.9999999999995,
          2796.9999999999995,
          2850.9999999999995,
          2991.9999999999995,
          2995.9999999999995,
          3626.9999999999995,
          3802.9999999999995
         ],
         "yaxis": "y"
        },
        {
         "hovertemplate": "Product= Oatmeal Raisin <br>Units Sold=%{x}<br>Revenue=%{y}<extra></extra>",
         "legendgroup": " Oatmeal Raisin ",
         "marker": {
          "color": "#2CA02C",
          "symbol": "circle"
         },
         "mode": "markers",
         "name": " Oatmeal Raisin ",
         "orientation": "v",
         "showlegend": true,
         "type": "scatter",
         "x": [
          1778,
          1228,
          2761,
          1743,
          321,
          1403,
          2076,
          306,
          2966,
          1159,
          994,
          970,
          1770,
          1375,
          947,
          344,
          1727,
          1870,
          1989,
          671,
          727,
          2548,
          2015,
          1916,
          552,
          1135,
          1645,
          1118,
          708,
          1269,
          1631,
          2240,
          3521,
          707,
          2734,
          1659,
          888,
          2750,
          1899,
          941,
          1988,
          2876,
          2072,
          853,
          1433,
          3422,
          1190,
          1393,
          2475,
          1731,
          2475,
          4220,
          1686,
          259,
          2276,
          1907,
          1350,
          1250,
          1366,
          1520,
          711,
          2574,
          472,
          3165,
          1101,
          1865,
          1074,
          1683,
          1123,
          1679,
          2460,
          635,
          1694,
          1038,
          2039,
          2629,
          2157,
          410,
          546,
          1953,
          2141,
          1143,
          615,
          1236,
          1372,
          1282,
          2907,
          2071,
          579,
          2993,
          3200,
          270,
          2844,
          2914
         ],
         "xaxis": "x",
         "y": [
          8890,
          6140,
          13805,
          8715,
          1605,
          7015,
          10380,
          1530,
          14830,
          5795,
          4970,
          4850,
          8850,
          6875,
          4735,
          1720,
          8635,
          9350,
          9945,
          3355,
          3635,
          12740,
          10075,
          9580,
          2760,
          5675,
          8225,
          5590,
          3540,
          6345,
          8155,
          11200,
          17605,
          3535,
          13670,
          8295,
          4440,
          13750,
          9495,
          4705,
          9940,
          14380,
          10360,
          4265,
          7165,
          17110,
          5950,
          6965,
          12375,
          8655,
          12375,
          21100,
          8430,
          1295,
          11380,
          9535,
          6750,
          6250,
          6830,
          7600,
          3555,
          12870,
          2360,
          15825,
          5505,
          9325,
          5370,
          8415,
          5615,
          8395,
          12300,
          3175,
          8470,
          5190,
          10195,
          13145,
          10785,
          2050,
          2730,
          9765,
          10705,
          5715,
          3075,
          6180,
          6860,
          6410,
          14535,
          10355,
          2895,
          14965,
          16000,
          1350,
          14220,
          14570
         ],
         "yaxis": "y"
        },
        {
         "alignmentgroup": "True",
         "hovertemplate": "Product= Oatmeal Raisin <br>Units Sold=%{x}<extra></extra>",
         "legendgroup": " Oatmeal Raisin ",
         "marker": {
          "color": "#2CA02C",
          "symbol": "circle"
         },
         "name": " Oatmeal Raisin ",
         "notched": true,
         "offsetgroup": " Oatmeal Raisin ",
         "showlegend": false,
         "type": "box",
         "x": [
          1778,
          1228,
          2761,
          1743,
          321,
          1403,
          2076,
          306,
          2966,
          1159,
          994,
          970,
          1770,
          1375,
          947,
          344,
          1727,
          1870,
          1989,
          671,
          727,
          2548,
          2015,
          1916,
          552,
          1135,
          1645,
          1118,
          708,
          1269,
          1631,
          2240,
          3521,
          707,
          2734,
          1659,
          888,
          2750,
          1899,
          941,
          1988,
          2876,
          2072,
          853,
          1433,
          3422,
          1190,
          1393,
          2475,
          1731,
          2475,
          4220,
          1686,
          259,
          2276,
          1907,
          1350,
          1250,
          1366,
          1520,
          711,
          2574,
          472,
          3165,
          1101,
          1865,
          1074,
          1683,
          1123,
          1679,
          2460,
          635,
          1694,
          1038,
          2039,
          2629,
          2157,
          410,
          546,
          1953,
          2141,
          1143,
          615,
          1236,
          1372,
          1282,
          2907,
          2071,
          579,
          2993,
          3200,
          270,
          2844,
          2914
         ],
         "xaxis": "x3",
         "yaxis": "y3"
        },
        {
         "alignmentgroup": "True",
         "hovertemplate": "Product= Oatmeal Raisin <br>Revenue=%{y}<extra></extra>",
         "legendgroup": " Oatmeal Raisin ",
         "marker": {
          "color": "#2CA02C",
          "symbol": "circle"
         },
         "name": " Oatmeal Raisin ",
         "offsetgroup": " Oatmeal Raisin ",
         "scalegroup": "y",
         "showlegend": false,
         "type": "violin",
         "xaxis": "x2",
         "y": [
          8890,
          6140,
          13805,
          8715,
          1605,
          7015,
          10380,
          1530,
          14830,
          5795,
          4970,
          4850,
          8850,
          6875,
          4735,
          1720,
          8635,
          9350,
          9945,
          3355,
          3635,
          12740,
          10075,
          9580,
          2760,
          5675,
          8225,
          5590,
          3540,
          6345,
          8155,
          11200,
          17605,
          3535,
          13670,
          8295,
          4440,
          13750,
          9495,
          4705,
          9940,
          14380,
          10360,
          4265,
          7165,
          17110,
          5950,
          6965,
          12375,
          8655,
          12375,
          21100,
          8430,
          1295,
          11380,
          9535,
          6750,
          6250,
          6830,
          7600,
          3555,
          12870,
          2360,
          15825,
          5505,
          9325,
          5370,
          8415,
          5615,
          8395,
          12300,
          3175,
          8470,
          5190,
          10195,
          13145,
          10785,
          2050,
          2730,
          9765,
          10705,
          5715,
          3075,
          6180,
          6860,
          6410,
          14535,
          10355,
          2895,
          14965,
          16000,
          1350,
          14220,
          14570
         ],
         "yaxis": "y2"
        },
        {
         "hovertemplate": "<b>OLS trendline</b><br>Revenue = 5 * Units Sold + -4.43379e-12<br>R<sup>2</sup>=1.000000<br><br>Product= Oatmeal Raisin <br>Units Sold=%{x}<br>Revenue=%{y} <b>(trend)</b><extra></extra>",
         "legendgroup": " Oatmeal Raisin ",
         "marker": {
          "color": "#2CA02C",
          "symbol": "circle"
         },
         "mode": "lines",
         "name": " Oatmeal Raisin ",
         "showlegend": false,
         "type": "scatter",
         "x": [
          259,
          270,
          306,
          321,
          344,
          410,
          472,
          546,
          552,
          579,
          615,
          635,
          671,
          707,
          708,
          711,
          727,
          853,
          888,
          941,
          947,
          970,
          994,
          1038,
          1074,
          1101,
          1118,
          1123,
          1135,
          1143,
          1159,
          1190,
          1228,
          1236,
          1250,
          1269,
          1282,
          1350,
          1366,
          1372,
          1375,
          1393,
          1403,
          1433,
          1520,
          1631,
          1645,
          1659,
          1679,
          1683,
          1686,
          1694,
          1727,
          1731,
          1743,
          1770,
          1778,
          1865,
          1870,
          1899,
          1907,
          1916,
          1953,
          1988,
          1989,
          2015,
          2039,
          2071,
          2072,
          2076,
          2141,
          2157,
          2240,
          2276,
          2460,
          2475,
          2475,
          2548,
          2574,
          2629,
          2734,
          2750,
          2761,
          2844,
          2876,
          2907,
          2914,
          2966,
          2993,
          3165,
          3200,
          3422,
          3521,
          4220
         ],
         "xaxis": "x",
         "y": [
          1294.9999999999964,
          1349.9999999999964,
          1529.9999999999968,
          1604.9999999999968,
          1719.9999999999968,
          2049.999999999997,
          2359.9999999999973,
          2729.9999999999973,
          2759.9999999999973,
          2894.9999999999977,
          3074.9999999999977,
          3174.9999999999977,
          3354.9999999999977,
          3534.999999999998,
          3539.999999999998,
          3554.999999999998,
          3634.999999999998,
          4264.999999999998,
          4439.999999999998,
          4704.999999999999,
          4734.999999999999,
          4849.999999999999,
          4969.999999999999,
          5189.999999999999,
          5369.999999999999,
          5504.999999999999,
          5589.999999999999,
          5614.999999999999,
          5674.999999999999,
          5714.999999999999,
          5795,
          5950,
          6140,
          6180,
          6250,
          6345,
          6410,
          6750,
          6830,
          6860,
          6875,
          6965,
          7015,
          7165.000000000001,
          7600.000000000001,
          8155.000000000001,
          8225.000000000002,
          8295.000000000002,
          8395.000000000002,
          8415.000000000002,
          8430.000000000002,
          8470.000000000002,
          8635.000000000002,
          8655.000000000002,
          8715.000000000002,
          8850.000000000002,
          8890.000000000002,
          9325.000000000004,
          9350.000000000004,
          9495.000000000004,
          9535.000000000004,
          9580.000000000004,
          9765.000000000004,
          9940.000000000004,
          9945.000000000004,
          10075.000000000004,
          10195.000000000004,
          10355.000000000004,
          10360.000000000004,
          10380.000000000004,
          10705.000000000004,
          10785.000000000004,
          11200.000000000004,
          11380.000000000004,
          12300.000000000005,
          12375.000000000005,
          12375.000000000005,
          12740.000000000005,
          12870.000000000005,
          13145.000000000005,
          13670.000000000005,
          13750.000000000005,
          13805.000000000005,
          14220.000000000007,
          14380.000000000007,
          14535.000000000007,
          14570.000000000007,
          14830.000000000007,
          14965.000000000007,
          15825.000000000007,
          16000.000000000007,
          17110.000000000007,
          17605.000000000007,
          21100.00000000001
         ],
         "yaxis": "y"
        },
        {
         "hovertemplate": "Product= Snickerdoodle <br>Units Sold=%{x}<br>Revenue=%{y}<extra></extra>",
         "legendgroup": " Snickerdoodle ",
         "marker": {
          "color": "#D62728",
          "symbol": "circle"
         },
         "mode": "markers",
         "name": " Snickerdoodle ",
         "orientation": "v",
         "showlegend": true,
         "type": "scatter",
         "x": [
          908,
          2851,
          2299,
          1560,
          2416,
          2145,
          1482,
          1198,
          1023,
          766,
          214,
          1016,
          887,
          442,
          494,
          1834,
          367,
          2706,
          2821,
          330,
          263,
          386,
          2996,
          1619,
          1445,
          743,
          1295,
          2852,
          831,
          2844,
          1884,
          1094,
          819,
          1937,
          2689,
          923,
          1496,
          2300,
          2178,
          2671,
          2155,
          4244,
          1865,
          1563,
          2487,
          448,
          2181,
          490,
          2441,
          2522,
          1790,
          1174,
          1321,
          888,
          1513,
          2580,
          689,
          2021,
          1116,
          663,
          1580,
          792,
          2811,
          280,
          1513,
          2767,
          1085,
          2470,
          1210,
          1397,
          2791,
          562,
          727,
          1540,
          1362,
          521,
          886,
          2156,
          2579,
          801,
          1858,
          2529,
          1947,
          274,
          991,
          570,
          1118,
          2030,
          1761,
          3446,
          2567,
          1743,
          1010
         ],
         "xaxis": "x",
         "y": [
          3632,
          11404,
          9196,
          6240,
          9664,
          8580,
          5928,
          4792,
          4092,
          3064,
          856,
          4064,
          3548,
          1768,
          1976,
          7336,
          1468,
          10824,
          11284,
          1320,
          1052,
          1544,
          11984,
          6476,
          5780,
          2972,
          5180,
          11408,
          3324,
          11376,
          7536,
          4376,
          3276,
          7748,
          10756,
          3692,
          5984,
          9200,
          8712,
          10684,
          8620,
          16976,
          7460,
          6252,
          9948,
          1792,
          8724,
          1960,
          9764,
          10088,
          7160,
          4696,
          5284,
          3552,
          6052,
          10320,
          2756,
          8084,
          4464,
          2652,
          6320,
          3168,
          11244,
          1120,
          6052,
          11068,
          4340,
          9880,
          4840,
          5588,
          11164,
          2248,
          2908,
          6160,
          5448,
          2084,
          3544,
          8624,
          10316,
          3204,
          7432,
          10116,
          7788,
          1096,
          3964,
          2280,
          4472,
          8120,
          7044,
          13784,
          10268,
          6972,
          4040
         ],
         "yaxis": "y"
        },
        {
         "alignmentgroup": "True",
         "hovertemplate": "Product= Snickerdoodle <br>Units Sold=%{x}<extra></extra>",
         "legendgroup": " Snickerdoodle ",
         "marker": {
          "color": "#D62728",
          "symbol": "circle"
         },
         "name": " Snickerdoodle ",
         "notched": true,
         "offsetgroup": " Snickerdoodle ",
         "showlegend": false,
         "type": "box",
         "x": [
          908,
          2851,
          2299,
          1560,
          2416,
          2145,
          1482,
          1198,
          1023,
          766,
          214,
          1016,
          887,
          442,
          494,
          1834,
          367,
          2706,
          2821,
          330,
          263,
          386,
          2996,
          1619,
          1445,
          743,
          1295,
          2852,
          831,
          2844,
          1884,
          1094,
          819,
          1937,
          2689,
          923,
          1496,
          2300,
          2178,
          2671,
          2155,
          4244,
          1865,
          1563,
          2487,
          448,
          2181,
          490,
          2441,
          2522,
          1790,
          1174,
          1321,
          888,
          1513,
          2580,
          689,
          2021,
          1116,
          663,
          1580,
          792,
          2811,
          280,
          1513,
          2767,
          1085,
          2470,
          1210,
          1397,
          2791,
          562,
          727,
          1540,
          1362,
          521,
          886,
          2156,
          2579,
          801,
          1858,
          2529,
          1947,
          274,
          991,
          570,
          1118,
          2030,
          1761,
          3446,
          2567,
          1743,
          1010
         ],
         "xaxis": "x3",
         "yaxis": "y3"
        },
        {
         "alignmentgroup": "True",
         "hovertemplate": "Product= Snickerdoodle <br>Revenue=%{y}<extra></extra>",
         "legendgroup": " Snickerdoodle ",
         "marker": {
          "color": "#D62728",
          "symbol": "circle"
         },
         "name": " Snickerdoodle ",
         "offsetgroup": " Snickerdoodle ",
         "scalegroup": "y",
         "showlegend": false,
         "type": "violin",
         "xaxis": "x2",
         "y": [
          3632,
          11404,
          9196,
          6240,
          9664,
          8580,
          5928,
          4792,
          4092,
          3064,
          856,
          4064,
          3548,
          1768,
          1976,
          7336,
          1468,
          10824,
          11284,
          1320,
          1052,
          1544,
          11984,
          6476,
          5780,
          2972,
          5180,
          11408,
          3324,
          11376,
          7536,
          4376,
          3276,
          7748,
          10756,
          3692,
          5984,
          9200,
          8712,
          10684,
          8620,
          16976,
          7460,
          6252,
          9948,
          1792,
          8724,
          1960,
          9764,
          10088,
          7160,
          4696,
          5284,
          3552,
          6052,
          10320,
          2756,
          8084,
          4464,
          2652,
          6320,
          3168,
          11244,
          1120,
          6052,
          11068,
          4340,
          9880,
          4840,
          5588,
          11164,
          2248,
          2908,
          6160,
          5448,
          2084,
          3544,
          8624,
          10316,
          3204,
          7432,
          10116,
          7788,
          1096,
          3964,
          2280,
          4472,
          8120,
          7044,
          13784,
          10268,
          6972,
          4040
         ],
         "yaxis": "y2"
        },
        {
         "hovertemplate": "<b>OLS trendline</b><br>Revenue = 4 * Units Sold + 3.63798e-12<br>R<sup>2</sup>=1.000000<br><br>Product= Snickerdoodle <br>Units Sold=%{x}<br>Revenue=%{y} <b>(trend)</b><extra></extra>",
         "legendgroup": " Snickerdoodle ",
         "marker": {
          "color": "#D62728",
          "symbol": "circle"
         },
         "mode": "lines",
         "name": " Snickerdoodle ",
         "showlegend": false,
         "type": "scatter",
         "x": [
          214,
          263,
          274,
          280,
          330,
          367,
          386,
          442,
          448,
          490,
          494,
          521,
          562,
          570,
          663,
          689,
          727,
          743,
          766,
          792,
          801,
          819,
          831,
          886,
          887,
          888,
          908,
          923,
          991,
          1010,
          1016,
          1023,
          1085,
          1094,
          1116,
          1118,
          1174,
          1198,
          1210,
          1295,
          1321,
          1362,
          1397,
          1445,
          1482,
          1496,
          1513,
          1513,
          1540,
          1560,
          1563,
          1580,
          1619,
          1743,
          1761,
          1790,
          1834,
          1858,
          1865,
          1884,
          1937,
          1947,
          2021,
          2030,
          2145,
          2155,
          2156,
          2178,
          2181,
          2299,
          2300,
          2416,
          2441,
          2470,
          2487,
          2522,
          2529,
          2567,
          2579,
          2580,
          2671,
          2689,
          2706,
          2767,
          2791,
          2811,
          2821,
          2844,
          2851,
          2852,
          2996,
          3446,
          4244
         ],
         "xaxis": "x",
         "y": [
          856.0000000000033,
          1052.0000000000032,
          1096.0000000000032,
          1120.0000000000032,
          1320.0000000000032,
          1468.0000000000032,
          1544.0000000000032,
          1768.000000000003,
          1792.000000000003,
          1960.000000000003,
          1976.000000000003,
          2084.0000000000027,
          2248.0000000000027,
          2280.0000000000027,
          2652.0000000000027,
          2756.0000000000027,
          2908.0000000000027,
          2972.0000000000027,
          3064.0000000000027,
          3168.0000000000027,
          3204.0000000000027,
          3276.0000000000027,
          3324.0000000000027,
          3544.0000000000023,
          3548.0000000000023,
          3552.0000000000023,
          3632.0000000000023,
          3692.0000000000023,
          3964.0000000000023,
          4040.0000000000023,
          4064.0000000000023,
          4092.0000000000023,
          4340.000000000002,
          4376.000000000002,
          4464.000000000002,
          4472.000000000002,
          4696.000000000002,
          4792.000000000002,
          4840.000000000002,
          5180.000000000002,
          5284.000000000002,
          5448.000000000002,
          5588.000000000002,
          5780.000000000002,
          5928.000000000002,
          5984.000000000002,
          6052.000000000002,
          6052.000000000002,
          6160.000000000002,
          6240.000000000002,
          6252.000000000002,
          6320.000000000002,
          6476.000000000002,
          6972.000000000001,
          7044.000000000001,
          7160.000000000001,
          7336.000000000001,
          7432.000000000001,
          7460.000000000001,
          7536.000000000001,
          7748.000000000001,
          7788.000000000001,
          8084.000000000001,
          8120.000000000001,
          8580,
          8620,
          8624,
          8712,
          8724,
          9196,
          9200,
          9664,
          9764,
          9880,
          9948,
          10088,
          10116,
          10268,
          10316,
          10320,
          10684,
          10756,
          10824,
          11068,
          11164,
          11244,
          11284,
          11376,
          11404,
          11408,
          11984,
          13783.999999999998,
          16975.999999999996
         ],
         "yaxis": "y"
        },
        {
         "hovertemplate": "Product= Sugar <br>Units Sold=%{x}<br>Revenue=%{y}<extra></extra>",
         "legendgroup": " Sugar ",
         "marker": {
          "color": "#9467BD",
          "symbol": "circle"
         },
         "mode": "markers",
         "name": " Sugar ",
         "orientation": "v",
         "showlegend": true,
         "type": "scatter",
         "x": [
          1389,
          2436,
          2935,
          623,
          269,
          2954,
          1527,
          1221,
          2234,
          2682,
          2167,
          1281,
          214,
          1945,
          2297,
          2215,
          1870,
          494,
          1940,
          1514,
          1123,
          1005,
          266,
          349,
          1265,
          808,
          2294,
          267,
          2001,
          1817,
          1326,
          944,
          2729,
          1874,
          2844,
          1582,
          3245,
          2134,
          2529,
          2109,
          1583,
          1565,
          1496,
          866,
          2178,
          2151,
          787,
          1744,
          866,
          2177,
          2487,
          1739,
          959,
          575,
          381,
          1227,
          1734,
          3875,
          1491,
          293,
          2838,
          888,
          263,
          986,
          2877,
          1570,
          2479,
          2338,
          422,
          2659,
          880,
          360,
          1531,
          280,
          492,
          1175,
          552,
          1397,
          662,
          1916,
          1642,
          2689,
          1498,
          2747,
          877,
          521,
          341,
          641,
          432,
          554,
          1233,
          2903,
          727,
          2844,
          2663,
          570,
          1153,
          437,
          1956,
          1352,
          1867,
          2807,
          1579,
          986,
          2387,
          2567,
          2541,
          1010,
          1806
         ],
         "xaxis": "x",
         "y": [
          4167,
          7308,
          8805,
          1869,
          807,
          8862,
          4581,
          3663,
          6702,
          8046,
          6501,
          3843,
          642,
          5835,
          6891,
          6645,
          5610,
          1482,
          5820,
          4542,
          3369,
          3015,
          798,
          1047,
          3795,
          2424,
          6882,
          801,
          6003,
          5451,
          3978,
          2832,
          8187,
          5622,
          8532,
          4746,
          9735,
          6402,
          7587,
          6327,
          4749,
          4695,
          4488,
          2598,
          6534,
          6453,
          2361,
          5232,
          2598,
          6531,
          7461,
          5217,
          2877,
          1725,
          1143,
          3681,
          5202,
          11625,
          4473,
          879,
          8514,
          2664,
          789,
          2958,
          8631,
          4710,
          7437,
          7014,
          1266,
          7977,
          2640,
          1080,
          4593,
          840,
          1476,
          3525,
          1656,
          4191,
          1986,
          5748,
          4926,
          8067,
          4494,
          8241,
          2631,
          1563,
          1023,
          1923,
          1296,
          1662,
          3699,
          8709,
          2181,
          8532,
          7989,
          1710,
          3459,
          1311,
          5868,
          4056,
          5601,
          8421,
          4737,
          2958,
          7161,
          7701,
          7623,
          3030,
          5418
         ],
         "yaxis": "y"
        },
        {
         "alignmentgroup": "True",
         "hovertemplate": "Product= Sugar <br>Units Sold=%{x}<extra></extra>",
         "legendgroup": " Sugar ",
         "marker": {
          "color": "#9467BD",
          "symbol": "circle"
         },
         "name": " Sugar ",
         "notched": true,
         "offsetgroup": " Sugar ",
         "showlegend": false,
         "type": "box",
         "x": [
          1389,
          2436,
          2935,
          623,
          269,
          2954,
          1527,
          1221,
          2234,
          2682,
          2167,
          1281,
          214,
          1945,
          2297,
          2215,
          1870,
          494,
          1940,
          1514,
          1123,
          1005,
          266,
          349,
          1265,
          808,
          2294,
          267,
          2001,
          1817,
          1326,
          944,
          2729,
          1874,
          2844,
          1582,
          3245,
          2134,
          2529,
          2109,
          1583,
          1565,
          1496,
          866,
          2178,
          2151,
          787,
          1744,
          866,
          2177,
          2487,
          1739,
          959,
          575,
          381,
          1227,
          1734,
          3875,
          1491,
          293,
          2838,
          888,
          263,
          986,
          2877,
          1570,
          2479,
          2338,
          422,
          2659,
          880,
          360,
          1531,
          280,
          492,
          1175,
          552,
          1397,
          662,
          1916,
          1642,
          2689,
          1498,
          2747,
          877,
          521,
          341,
          641,
          432,
          554,
          1233,
          2903,
          727,
          2844,
          2663,
          570,
          1153,
          437,
          1956,
          1352,
          1867,
          2807,
          1579,
          986,
          2387,
          2567,
          2541,
          1010,
          1806
         ],
         "xaxis": "x3",
         "yaxis": "y3"
        },
        {
         "alignmentgroup": "True",
         "hovertemplate": "Product= Sugar <br>Revenue=%{y}<extra></extra>",
         "legendgroup": " Sugar ",
         "marker": {
          "color": "#9467BD",
          "symbol": "circle"
         },
         "name": " Sugar ",
         "offsetgroup": " Sugar ",
         "scalegroup": "y",
         "showlegend": false,
         "type": "violin",
         "xaxis": "x2",
         "y": [
          4167,
          7308,
          8805,
          1869,
          807,
          8862,
          4581,
          3663,
          6702,
          8046,
          6501,
          3843,
          642,
          5835,
          6891,
          6645,
          5610,
          1482,
          5820,
          4542,
          3369,
          3015,
          798,
          1047,
          3795,
          2424,
          6882,
          801,
          6003,
          5451,
          3978,
          2832,
          8187,
          5622,
          8532,
          4746,
          9735,
          6402,
          7587,
          6327,
          4749,
          4695,
          4488,
          2598,
          6534,
          6453,
          2361,
          5232,
          2598,
          6531,
          7461,
          5217,
          2877,
          1725,
          1143,
          3681,
          5202,
          11625,
          4473,
          879,
          8514,
          2664,
          789,
          2958,
          8631,
          4710,
          7437,
          7014,
          1266,
          7977,
          2640,
          1080,
          4593,
          840,
          1476,
          3525,
          1656,
          4191,
          1986,
          5748,
          4926,
          8067,
          4494,
          8241,
          2631,
          1563,
          1023,
          1923,
          1296,
          1662,
          3699,
          8709,
          2181,
          8532,
          7989,
          1710,
          3459,
          1311,
          5868,
          4056,
          5601,
          8421,
          4737,
          2958,
          7161,
          7701,
          7623,
          3030,
          5418
         ],
         "yaxis": "y2"
        },
        {
         "hovertemplate": "<b>OLS trendline</b><br>Revenue = 3 * Units Sold + -1.0516e-12<br>R<sup>2</sup>=1.000000<br><br>Product= Sugar <br>Units Sold=%{x}<br>Revenue=%{y} <b>(trend)</b><extra></extra>",
         "legendgroup": " Sugar ",
         "marker": {
          "color": "#9467BD",
          "symbol": "circle"
         },
         "mode": "lines",
         "name": " Sugar ",
         "showlegend": false,
         "type": "scatter",
         "x": [
          214,
          263,
          266,
          267,
          269,
          280,
          293,
          341,
          349,
          360,
          381,
          422,
          432,
          437,
          492,
          494,
          521,
          552,
          554,
          570,
          575,
          623,
          641,
          662,
          727,
          787,
          808,
          866,
          866,
          877,
          880,
          888,
          944,
          959,
          986,
          986,
          1005,
          1010,
          1123,
          1153,
          1175,
          1221,
          1227,
          1233,
          1265,
          1281,
          1326,
          1352,
          1389,
          1397,
          1491,
          1496,
          1498,
          1514,
          1527,
          1531,
          1565,
          1570,
          1579,
          1582,
          1583,
          1642,
          1734,
          1739,
          1744,
          1806,
          1817,
          1867,
          1870,
          1874,
          1916,
          1940,
          1945,
          1956,
          2001,
          2109,
          2134,
          2151,
          2167,
          2177,
          2178,
          2215,
          2234,
          2294,
          2297,
          2338,
          2387,
          2436,
          2479,
          2487,
          2529,
          2541,
          2567,
          2659,
          2663,
          2682,
          2689,
          2729,
          2747,
          2807,
          2838,
          2844,
          2844,
          2877,
          2903,
          2935,
          2954,
          3245,
          3875
         ],
         "xaxis": "x",
         "y": [
          641.999999999999,
          788.999999999999,
          797.999999999999,
          800.999999999999,
          806.999999999999,
          839.999999999999,
          878.999999999999,
          1022.999999999999,
          1046.9999999999989,
          1079.9999999999989,
          1142.9999999999989,
          1265.9999999999989,
          1295.9999999999989,
          1310.9999999999989,
          1475.9999999999989,
          1481.9999999999989,
          1562.9999999999989,
          1655.9999999999989,
          1661.9999999999989,
          1709.9999999999989,
          1724.9999999999989,
          1868.9999999999989,
          1922.9999999999989,
          1985.9999999999989,
          2180.999999999999,
          2360.999999999999,
          2423.999999999999,
          2597.999999999999,
          2597.999999999999,
          2630.999999999999,
          2639.999999999999,
          2663.999999999999,
          2831.999999999999,
          2876.999999999999,
          2957.999999999999,
          2957.999999999999,
          3014.999999999999,
          3029.999999999999,
          3368.999999999999,
          3458.999999999999,
          3524.999999999999,
          3662.999999999999,
          3680.999999999999,
          3698.999999999999,
          3794.999999999999,
          3842.999999999999,
          3977.999999999999,
          4055.999999999999,
          4166.999999999999,
          4190.999999999999,
          4472.999999999999,
          4487.999999999999,
          4493.999999999999,
          4541.999999999999,
          4580.999999999999,
          4592.999999999999,
          4694.999999999999,
          4709.999999999999,
          4736.999999999999,
          4745.999999999999,
          4748.999999999999,
          4925.999999999999,
          5201.999999999999,
          5216.999999999999,
          5231.999999999999,
          5417.999999999999,
          5450.999999999999,
          5600.999999999999,
          5609.999999999999,
          5621.999999999999,
          5747.999999999999,
          5819.999999999999,
          5834.999999999999,
          5867.999999999999,
          6002.999999999999,
          6326.999999999999,
          6401.999999999999,
          6452.999999999999,
          6500.999999999999,
          6530.999999999999,
          6533.999999999999,
          6644.999999999999,
          6701.999999999999,
          6881.999999999999,
          6890.999999999999,
          7013.999999999999,
          7160.999999999999,
          7307.999999999999,
          7436.999999999999,
          7460.999999999999,
          7586.999999999999,
          7622.999999999999,
          7700.999999999999,
          7976.999999999999,
          7988.999999999999,
          8045.999999999999,
          8066.999999999999,
          8186.999999999999,
          8240.999999999998,
          8420.999999999998,
          8513.999999999998,
          8531.999999999998,
          8531.999999999998,
          8630.999999999998,
          8708.999999999998,
          8804.999999999998,
          8861.999999999998,
          9734.999999999998,
          11624.999999999998
         ],
         "yaxis": "y"
        },
        {
         "hovertemplate": "Product= White Chocolate Macadamia Nut <br>Units Sold=%{x}<br>Revenue=%{y}<extra></extra>",
         "legendgroup": " White Chocolate Macadamia Nut ",
         "marker": {
          "color": "#8C564B",
          "symbol": "circle"
         },
         "mode": "markers",
         "name": " White Chocolate Macadamia Nut ",
         "orientation": "v",
         "showlegend": true,
         "type": "scatter",
         "x": [
          345,
          2092,
          2646,
          1916,
          269,
          704,
          1033,
          1221,
          2076,
          386,
          2805,
          2966,
          809,
          588,
          660,
          2536,
          2145,
          544,
          655,
          344,
          2605,
          663,
          736,
          1421,
          2294,
          2574,
          2438,
          923,
          2009,
          3851,
          2431,
          952,
          1262,
          1135,
          1582,
          598,
          3794,
          567,
          1269,
          384,
          1808,
          2632,
          1804,
          639,
          3864,
          1055,
          2177,
          1579,
          1496,
          1659,
          1976,
          1967,
          639,
          853,
          3998,
          1190,
          2826,
          663,
          2161,
          1006,
          1545,
          2877,
          807,
          1250,
          1530,
          1001,
          2087,
          2338,
          1307,
          681,
          510,
          241,
          2665,
          472,
          1013,
          1493,
          362,
          1084,
          2861,
          1498,
          1333,
          609,
          635,
          245,
          2110,
          2628,
          1395,
          905,
          604,
          410,
          1575,
          500,
          2821,
          1566,
          1465,
          555,
          602,
          2832,
          861,
          2755,
          547,
          1372,
          2907,
          790,
          1596,
          986,
          606,
          2460,
          914
         ],
         "xaxis": "x",
         "y": [
          2070,
          12552,
          15876,
          11496,
          1614,
          4224,
          6198,
          7326,
          12456,
          2316,
          16830,
          17796,
          4854,
          3528,
          3960,
          15216,
          12870,
          3264,
          3930,
          2064,
          15630,
          3978,
          4416,
          8526,
          13764,
          15444,
          14628,
          5538,
          12054,
          23106,
          14586,
          5712,
          7572,
          6810,
          9492,
          3588,
          22764,
          3402,
          7614,
          2304,
          10848,
          15792,
          10824,
          3834,
          23184,
          6330,
          13062,
          9474,
          8976,
          9954,
          11856,
          11802,
          3834,
          5118,
          23988,
          7140,
          16956,
          3978,
          12966,
          6036,
          9270,
          17262,
          4842,
          7500,
          9180,
          6006,
          12522,
          14028,
          7842,
          4086,
          3060,
          1446,
          15990,
          2832,
          6078,
          8958,
          2172,
          6504,
          17166,
          8988,
          7998,
          3654,
          3810,
          1470,
          12660,
          15768,
          8370,
          5430,
          3624,
          2460,
          9450,
          3000,
          16926,
          9396,
          8790,
          3330,
          3612,
          16992,
          5166,
          16530,
          3282,
          8232,
          17442,
          4740,
          9576,
          5916,
          3636,
          14760,
          5484
         ],
         "yaxis": "y"
        },
        {
         "alignmentgroup": "True",
         "hovertemplate": "Product= White Chocolate Macadamia Nut <br>Units Sold=%{x}<extra></extra>",
         "legendgroup": " White Chocolate Macadamia Nut ",
         "marker": {
          "color": "#8C564B",
          "symbol": "circle"
         },
         "name": " White Chocolate Macadamia Nut ",
         "notched": true,
         "offsetgroup": " White Chocolate Macadamia Nut ",
         "showlegend": false,
         "type": "box",
         "x": [
          345,
          2092,
          2646,
          1916,
          269,
          704,
          1033,
          1221,
          2076,
          386,
          2805,
          2966,
          809,
          588,
          660,
          2536,
          2145,
          544,
          655,
          344,
          2605,
          663,
          736,
          1421,
          2294,
          2574,
          2438,
          923,
          2009,
          3851,
          2431,
          952,
          1262,
          1135,
          1582,
          598,
          3794,
          567,
          1269,
          384,
          1808,
          2632,
          1804,
          639,
          3864,
          1055,
          2177,
          1579,
          1496,
          1659,
          1976,
          1967,
          639,
          853,
          3998,
          1190,
          2826,
          663,
          2161,
          1006,
          1545,
          2877,
          807,
          1250,
          1530,
          1001,
          2087,
          2338,
          1307,
          681,
          510,
          241,
          2665,
          472,
          1013,
          1493,
          362,
          1084,
          2861,
          1498,
          1333,
          609,
          635,
          245,
          2110,
          2628,
          1395,
          905,
          604,
          410,
          1575,
          500,
          2821,
          1566,
          1465,
          555,
          602,
          2832,
          861,
          2755,
          547,
          1372,
          2907,
          790,
          1596,
          986,
          606,
          2460,
          914
         ],
         "xaxis": "x3",
         "yaxis": "y3"
        },
        {
         "alignmentgroup": "True",
         "hovertemplate": "Product= White Chocolate Macadamia Nut <br>Revenue=%{y}<extra></extra>",
         "legendgroup": " White Chocolate Macadamia Nut ",
         "marker": {
          "color": "#8C564B",
          "symbol": "circle"
         },
         "name": " White Chocolate Macadamia Nut ",
         "offsetgroup": " White Chocolate Macadamia Nut ",
         "scalegroup": "y",
         "showlegend": false,
         "type": "violin",
         "xaxis": "x2",
         "y": [
          2070,
          12552,
          15876,
          11496,
          1614,
          4224,
          6198,
          7326,
          12456,
          2316,
          16830,
          17796,
          4854,
          3528,
          3960,
          15216,
          12870,
          3264,
          3930,
          2064,
          15630,
          3978,
          4416,
          8526,
          13764,
          15444,
          14628,
          5538,
          12054,
          23106,
          14586,
          5712,
          7572,
          6810,
          9492,
          3588,
          22764,
          3402,
          7614,
          2304,
          10848,
          15792,
          10824,
          3834,
          23184,
          6330,
          13062,
          9474,
          8976,
          9954,
          11856,
          11802,
          3834,
          5118,
          23988,
          7140,
          16956,
          3978,
          12966,
          6036,
          9270,
          17262,
          4842,
          7500,
          9180,
          6006,
          12522,
          14028,
          7842,
          4086,
          3060,
          1446,
          15990,
          2832,
          6078,
          8958,
          2172,
          6504,
          17166,
          8988,
          7998,
          3654,
          3810,
          1470,
          12660,
          15768,
          8370,
          5430,
          3624,
          2460,
          9450,
          3000,
          16926,
          9396,
          8790,
          3330,
          3612,
          16992,
          5166,
          16530,
          3282,
          8232,
          17442,
          4740,
          9576,
          5916,
          3636,
          14760,
          5484
         ],
         "yaxis": "y2"
        },
        {
         "hovertemplate": "<b>OLS trendline</b><br>Revenue = 6 * Units Sold + -8.52651e-13<br>R<sup>2</sup>=1.000000<br><br>Product= White Chocolate Macadamia Nut <br>Units Sold=%{x}<br>Revenue=%{y} <b>(trend)</b><extra></extra>",
         "legendgroup": " White Chocolate Macadamia Nut ",
         "marker": {
          "color": "#8C564B",
          "symbol": "circle"
         },
         "mode": "lines",
         "name": " White Chocolate Macadamia Nut ",
         "showlegend": false,
         "type": "scatter",
         "x": [
          241,
          245,
          269,
          344,
          345,
          362,
          384,
          386,
          410,
          472,
          500,
          510,
          544,
          547,
          555,
          567,
          588,
          598,
          602,
          604,
          606,
          609,
          635,
          639,
          639,
          655,
          660,
          663,
          663,
          681,
          704,
          736,
          790,
          807,
          809,
          853,
          861,
          905,
          914,
          923,
          952,
          986,
          1001,
          1006,
          1013,
          1033,
          1055,
          1084,
          1135,
          1190,
          1221,
          1250,
          1262,
          1269,
          1307,
          1333,
          1372,
          1395,
          1421,
          1465,
          1493,
          1496,
          1498,
          1530,
          1545,
          1566,
          1575,
          1579,
          1582,
          1596,
          1659,
          1804,
          1808,
          1916,
          1967,
          1976,
          2009,
          2076,
          2087,
          2092,
          2110,
          2145,
          2161,
          2177,
          2294,
          2338,
          2431,
          2438,
          2460,
          2536,
          2574,
          2605,
          2628,
          2632,
          2646,
          2665,
          2755,
          2805,
          2821,
          2826,
          2832,
          2861,
          2877,
          2907,
          2966,
          3794,
          3851,
          3864,
          3998
         ],
         "xaxis": "x",
         "y": [
          1445.999999999999,
          1469.999999999999,
          1613.999999999999,
          2063.999999999999,
          2069.999999999999,
          2171.999999999999,
          2303.999999999999,
          2315.999999999999,
          2459.999999999999,
          2831.999999999999,
          2999.999999999999,
          3059.999999999999,
          3263.999999999999,
          3281.999999999999,
          3329.999999999999,
          3401.999999999999,
          3527.999999999999,
          3587.999999999999,
          3611.999999999999,
          3623.999999999999,
          3635.999999999999,
          3653.999999999999,
          3809.999999999999,
          3833.999999999999,
          3833.999999999999,
          3929.999999999999,
          3959.999999999999,
          3977.999999999999,
          3977.999999999999,
          4085.999999999999,
          4223.999999999999,
          4415.999999999999,
          4739.999999999999,
          4841.999999999999,
          4853.999999999999,
          5117.999999999999,
          5165.999999999999,
          5429.999999999999,
          5483.999999999999,
          5537.999999999999,
          5711.999999999999,
          5915.999999999999,
          6005.999999999999,
          6035.999999999999,
          6077.999999999999,
          6197.999999999999,
          6329.999999999999,
          6503.999999999999,
          6809.999999999999,
          7139.999999999999,
          7325.999999999999,
          7499.999999999999,
          7571.999999999999,
          7613.999999999999,
          7841.999999999999,
          7997.999999999999,
          8232,
          8370,
          8526,
          8790,
          8958,
          8976,
          8988,
          9180,
          9270,
          9396,
          9450,
          9474,
          9492,
          9576,
          9954,
          10824,
          10848,
          11496,
          11802,
          11856,
          12054,
          12456,
          12522,
          12552,
          12660,
          12870,
          12966,
          13062,
          13764,
          14028,
          14586,
          14628,
          14760,
          15216,
          15444,
          15630,
          15768,
          15792,
          15876,
          15990,
          16530,
          16830,
          16926,
          16956,
          16992,
          17166,
          17262,
          17442,
          17796,
          22764,
          23106,
          23184,
          23988
         ],
         "yaxis": "y"
        }
       ],
       "layout": {
        "legend": {
         "title": {
          "text": "Product"
         },
         "tracegroupgap": 0
        },
        "margin": {
         "t": 60
        },
        "template": {
         "data": {
          "bar": [
           {
            "error_x": {
             "color": "rgb(36,36,36)"
            },
            "error_y": {
             "color": "rgb(36,36,36)"
            },
            "marker": {
             "line": {
              "color": "white",
              "width": 0.5
             },
             "pattern": {
              "fillmode": "overlay",
              "size": 10,
              "solidity": 0.2
             }
            },
            "type": "bar"
           }
          ],
          "barpolar": [
           {
            "marker": {
             "line": {
              "color": "white",
              "width": 0.5
             },
             "pattern": {
              "fillmode": "overlay",
              "size": 10,
              "solidity": 0.2
             }
            },
            "type": "barpolar"
           }
          ],
          "carpet": [
           {
            "aaxis": {
             "endlinecolor": "rgb(36,36,36)",
             "gridcolor": "white",
             "linecolor": "white",
             "minorgridcolor": "white",
             "startlinecolor": "rgb(36,36,36)"
            },
            "baxis": {
             "endlinecolor": "rgb(36,36,36)",
             "gridcolor": "white",
             "linecolor": "white",
             "minorgridcolor": "white",
             "startlinecolor": "rgb(36,36,36)"
            },
            "type": "carpet"
           }
          ],
          "choropleth": [
           {
            "colorbar": {
             "outlinewidth": 1,
             "tickcolor": "rgb(36,36,36)",
             "ticks": "outside"
            },
            "type": "choropleth"
           }
          ],
          "contour": [
           {
            "colorbar": {
             "outlinewidth": 1,
             "tickcolor": "rgb(36,36,36)",
             "ticks": "outside"
            },
            "colorscale": [
             [
              0,
              "#440154"
             ],
             [
              0.1111111111111111,
              "#482878"
             ],
             [
              0.2222222222222222,
              "#3e4989"
             ],
             [
              0.3333333333333333,
              "#31688e"
             ],
             [
              0.4444444444444444,
              "#26828e"
             ],
             [
              0.5555555555555556,
              "#1f9e89"
             ],
             [
              0.6666666666666666,
              "#35b779"
             ],
             [
              0.7777777777777778,
              "#6ece58"
             ],
             [
              0.8888888888888888,
              "#b5de2b"
             ],
             [
              1,
              "#fde725"
             ]
            ],
            "type": "contour"
           }
          ],
          "contourcarpet": [
           {
            "colorbar": {
             "outlinewidth": 1,
             "tickcolor": "rgb(36,36,36)",
             "ticks": "outside"
            },
            "type": "contourcarpet"
           }
          ],
          "heatmap": [
           {
            "colorbar": {
             "outlinewidth": 1,
             "tickcolor": "rgb(36,36,36)",
             "ticks": "outside"
            },
            "colorscale": [
             [
              0,
              "#440154"
             ],
             [
              0.1111111111111111,
              "#482878"
             ],
             [
              0.2222222222222222,
              "#3e4989"
             ],
             [
              0.3333333333333333,
              "#31688e"
             ],
             [
              0.4444444444444444,
              "#26828e"
             ],
             [
              0.5555555555555556,
              "#1f9e89"
             ],
             [
              0.6666666666666666,
              "#35b779"
             ],
             [
              0.7777777777777778,
              "#6ece58"
             ],
             [
              0.8888888888888888,
              "#b5de2b"
             ],
             [
              1,
              "#fde725"
             ]
            ],
            "type": "heatmap"
           }
          ],
          "heatmapgl": [
           {
            "colorbar": {
             "outlinewidth": 1,
             "tickcolor": "rgb(36,36,36)",
             "ticks": "outside"
            },
            "colorscale": [
             [
              0,
              "#440154"
             ],
             [
              0.1111111111111111,
              "#482878"
             ],
             [
              0.2222222222222222,
              "#3e4989"
             ],
             [
              0.3333333333333333,
              "#31688e"
             ],
             [
              0.4444444444444444,
              "#26828e"
             ],
             [
              0.5555555555555556,
              "#1f9e89"
             ],
             [
              0.6666666666666666,
              "#35b779"
             ],
             [
              0.7777777777777778,
              "#6ece58"
             ],
             [
              0.8888888888888888,
              "#b5de2b"
             ],
             [
              1,
              "#fde725"
             ]
            ],
            "type": "heatmapgl"
           }
          ],
          "histogram": [
           {
            "marker": {
             "line": {
              "color": "white",
              "width": 0.6
             }
            },
            "type": "histogram"
           }
          ],
          "histogram2d": [
           {
            "colorbar": {
             "outlinewidth": 1,
             "tickcolor": "rgb(36,36,36)",
             "ticks": "outside"
            },
            "colorscale": [
             [
              0,
              "#440154"
             ],
             [
              0.1111111111111111,
              "#482878"
             ],
             [
              0.2222222222222222,
              "#3e4989"
             ],
             [
              0.3333333333333333,
              "#31688e"
             ],
             [
              0.4444444444444444,
              "#26828e"
             ],
             [
              0.5555555555555556,
              "#1f9e89"
             ],
             [
              0.6666666666666666,
              "#35b779"
             ],
             [
              0.7777777777777778,
              "#6ece58"
             ],
             [
              0.8888888888888888,
              "#b5de2b"
             ],
             [
              1,
              "#fde725"
             ]
            ],
            "type": "histogram2d"
           }
          ],
          "histogram2dcontour": [
           {
            "colorbar": {
             "outlinewidth": 1,
             "tickcolor": "rgb(36,36,36)",
             "ticks": "outside"
            },
            "colorscale": [
             [
              0,
              "#440154"
             ],
             [
              0.1111111111111111,
              "#482878"
             ],
             [
              0.2222222222222222,
              "#3e4989"
             ],
             [
              0.3333333333333333,
              "#31688e"
             ],
             [
              0.4444444444444444,
              "#26828e"
             ],
             [
              0.5555555555555556,
              "#1f9e89"
             ],
             [
              0.6666666666666666,
              "#35b779"
             ],
             [
              0.7777777777777778,
              "#6ece58"
             ],
             [
              0.8888888888888888,
              "#b5de2b"
             ],
             [
              1,
              "#fde725"
             ]
            ],
            "type": "histogram2dcontour"
           }
          ],
          "mesh3d": [
           {
            "colorbar": {
             "outlinewidth": 1,
             "tickcolor": "rgb(36,36,36)",
             "ticks": "outside"
            },
            "type": "mesh3d"
           }
          ],
          "parcoords": [
           {
            "line": {
             "colorbar": {
              "outlinewidth": 1,
              "tickcolor": "rgb(36,36,36)",
              "ticks": "outside"
             }
            },
            "type": "parcoords"
           }
          ],
          "pie": [
           {
            "automargin": true,
            "type": "pie"
           }
          ],
          "scatter": [
           {
            "fillpattern": {
             "fillmode": "overlay",
             "size": 10,
             "solidity": 0.2
            },
            "type": "scatter"
           }
          ],
          "scatter3d": [
           {
            "line": {
             "colorbar": {
              "outlinewidth": 1,
              "tickcolor": "rgb(36,36,36)",
              "ticks": "outside"
             }
            },
            "marker": {
             "colorbar": {
              "outlinewidth": 1,
              "tickcolor": "rgb(36,36,36)",
              "ticks": "outside"
             }
            },
            "type": "scatter3d"
           }
          ],
          "scattercarpet": [
           {
            "marker": {
             "colorbar": {
              "outlinewidth": 1,
              "tickcolor": "rgb(36,36,36)",
              "ticks": "outside"
             }
            },
            "type": "scattercarpet"
           }
          ],
          "scattergeo": [
           {
            "marker": {
             "colorbar": {
              "outlinewidth": 1,
              "tickcolor": "rgb(36,36,36)",
              "ticks": "outside"
             }
            },
            "type": "scattergeo"
           }
          ],
          "scattergl": [
           {
            "marker": {
             "colorbar": {
              "outlinewidth": 1,
              "tickcolor": "rgb(36,36,36)",
              "ticks": "outside"
             }
            },
            "type": "scattergl"
           }
          ],
          "scattermapbox": [
           {
            "marker": {
             "colorbar": {
              "outlinewidth": 1,
              "tickcolor": "rgb(36,36,36)",
              "ticks": "outside"
             }
            },
            "type": "scattermapbox"
           }
          ],
          "scatterpolar": [
           {
            "marker": {
             "colorbar": {
              "outlinewidth": 1,
              "tickcolor": "rgb(36,36,36)",
              "ticks": "outside"
             }
            },
            "type": "scatterpolar"
           }
          ],
          "scatterpolargl": [
           {
            "marker": {
             "colorbar": {
              "outlinewidth": 1,
              "tickcolor": "rgb(36,36,36)",
              "ticks": "outside"
             }
            },
            "type": "scatterpolargl"
           }
          ],
          "scatterternary": [
           {
            "marker": {
             "colorbar": {
              "outlinewidth": 1,
              "tickcolor": "rgb(36,36,36)",
              "ticks": "outside"
             }
            },
            "type": "scatterternary"
           }
          ],
          "surface": [
           {
            "colorbar": {
             "outlinewidth": 1,
             "tickcolor": "rgb(36,36,36)",
             "ticks": "outside"
            },
            "colorscale": [
             [
              0,
              "#440154"
             ],
             [
              0.1111111111111111,
              "#482878"
             ],
             [
              0.2222222222222222,
              "#3e4989"
             ],
             [
              0.3333333333333333,
              "#31688e"
             ],
             [
              0.4444444444444444,
              "#26828e"
             ],
             [
              0.5555555555555556,
              "#1f9e89"
             ],
             [
              0.6666666666666666,
              "#35b779"
             ],
             [
              0.7777777777777778,
              "#6ece58"
             ],
             [
              0.8888888888888888,
              "#b5de2b"
             ],
             [
              1,
              "#fde725"
             ]
            ],
            "type": "surface"
           }
          ],
          "table": [
           {
            "cells": {
             "fill": {
              "color": "rgb(237,237,237)"
             },
             "line": {
              "color": "white"
             }
            },
            "header": {
             "fill": {
              "color": "rgb(217,217,217)"
             },
             "line": {
              "color": "white"
             }
            },
            "type": "table"
           }
          ]
         },
         "layout": {
          "annotationdefaults": {
           "arrowhead": 0,
           "arrowwidth": 1
          },
          "autotypenumbers": "strict",
          "coloraxis": {
           "colorbar": {
            "outlinewidth": 1,
            "tickcolor": "rgb(36,36,36)",
            "ticks": "outside"
           }
          },
          "colorscale": {
           "diverging": [
            [
             0,
             "rgb(103,0,31)"
            ],
            [
             0.1,
             "rgb(178,24,43)"
            ],
            [
             0.2,
             "rgb(214,96,77)"
            ],
            [
             0.3,
             "rgb(244,165,130)"
            ],
            [
             0.4,
             "rgb(253,219,199)"
            ],
            [
             0.5,
             "rgb(247,247,247)"
            ],
            [
             0.6,
             "rgb(209,229,240)"
            ],
            [
             0.7,
             "rgb(146,197,222)"
            ],
            [
             0.8,
             "rgb(67,147,195)"
            ],
            [
             0.9,
             "rgb(33,102,172)"
            ],
            [
             1,
             "rgb(5,48,97)"
            ]
           ],
           "sequential": [
            [
             0,
             "#440154"
            ],
            [
             0.1111111111111111,
             "#482878"
            ],
            [
             0.2222222222222222,
             "#3e4989"
            ],
            [
             0.3333333333333333,
             "#31688e"
            ],
            [
             0.4444444444444444,
             "#26828e"
            ],
            [
             0.5555555555555556,
             "#1f9e89"
            ],
            [
             0.6666666666666666,
             "#35b779"
            ],
            [
             0.7777777777777778,
             "#6ece58"
            ],
            [
             0.8888888888888888,
             "#b5de2b"
            ],
            [
             1,
             "#fde725"
            ]
           ],
           "sequentialminus": [
            [
             0,
             "#440154"
            ],
            [
             0.1111111111111111,
             "#482878"
            ],
            [
             0.2222222222222222,
             "#3e4989"
            ],
            [
             0.3333333333333333,
             "#31688e"
            ],
            [
             0.4444444444444444,
             "#26828e"
            ],
            [
             0.5555555555555556,
             "#1f9e89"
            ],
            [
             0.6666666666666666,
             "#35b779"
            ],
            [
             0.7777777777777778,
             "#6ece58"
            ],
            [
             0.8888888888888888,
             "#b5de2b"
            ],
            [
             1,
             "#fde725"
            ]
           ]
          },
          "colorway": [
           "#1F77B4",
           "#FF7F0E",
           "#2CA02C",
           "#D62728",
           "#9467BD",
           "#8C564B",
           "#E377C2",
           "#7F7F7F",
           "#BCBD22",
           "#17BECF"
          ],
          "font": {
           "color": "rgb(36,36,36)"
          },
          "geo": {
           "bgcolor": "white",
           "lakecolor": "white",
           "landcolor": "white",
           "showlakes": true,
           "showland": true,
           "subunitcolor": "white"
          },
          "hoverlabel": {
           "align": "left"
          },
          "hovermode": "closest",
          "mapbox": {
           "style": "light"
          },
          "paper_bgcolor": "white",
          "plot_bgcolor": "white",
          "polar": {
           "angularaxis": {
            "gridcolor": "rgb(232,232,232)",
            "linecolor": "rgb(36,36,36)",
            "showgrid": false,
            "showline": true,
            "ticks": "outside"
           },
           "bgcolor": "white",
           "radialaxis": {
            "gridcolor": "rgb(232,232,232)",
            "linecolor": "rgb(36,36,36)",
            "showgrid": false,
            "showline": true,
            "ticks": "outside"
           }
          },
          "scene": {
           "xaxis": {
            "backgroundcolor": "white",
            "gridcolor": "rgb(232,232,232)",
            "gridwidth": 2,
            "linecolor": "rgb(36,36,36)",
            "showbackground": true,
            "showgrid": false,
            "showline": true,
            "ticks": "outside",
            "zeroline": false,
            "zerolinecolor": "rgb(36,36,36)"
           },
           "yaxis": {
            "backgroundcolor": "white",
            "gridcolor": "rgb(232,232,232)",
            "gridwidth": 2,
            "linecolor": "rgb(36,36,36)",
            "showbackground": true,
            "showgrid": false,
            "showline": true,
            "ticks": "outside",
            "zeroline": false,
            "zerolinecolor": "rgb(36,36,36)"
           },
           "zaxis": {
            "backgroundcolor": "white",
            "gridcolor": "rgb(232,232,232)",
            "gridwidth": 2,
            "linecolor": "rgb(36,36,36)",
            "showbackground": true,
            "showgrid": false,
            "showline": true,
            "ticks": "outside",
            "zeroline": false,
            "zerolinecolor": "rgb(36,36,36)"
           }
          },
          "shapedefaults": {
           "fillcolor": "black",
           "line": {
            "width": 0
           },
           "opacity": 0.3
          },
          "ternary": {
           "aaxis": {
            "gridcolor": "rgb(232,232,232)",
            "linecolor": "rgb(36,36,36)",
            "showgrid": false,
            "showline": true,
            "ticks": "outside"
           },
           "baxis": {
            "gridcolor": "rgb(232,232,232)",
            "linecolor": "rgb(36,36,36)",
            "showgrid": false,
            "showline": true,
            "ticks": "outside"
           },
           "bgcolor": "white",
           "caxis": {
            "gridcolor": "rgb(232,232,232)",
            "linecolor": "rgb(36,36,36)",
            "showgrid": false,
            "showline": true,
            "ticks": "outside"
           }
          },
          "title": {
           "x": 0.05
          },
          "xaxis": {
           "automargin": true,
           "gridcolor": "rgb(232,232,232)",
           "linecolor": "rgb(36,36,36)",
           "showgrid": false,
           "showline": true,
           "ticks": "outside",
           "title": {
            "standoff": 15
           },
           "zeroline": false,
           "zerolinecolor": "rgb(36,36,36)"
          },
          "yaxis": {
           "automargin": true,
           "gridcolor": "rgb(232,232,232)",
           "linecolor": "rgb(36,36,36)",
           "showgrid": false,
           "showline": true,
           "ticks": "outside",
           "title": {
            "standoff": 15
           },
           "zeroline": false,
           "zerolinecolor": "rgb(36,36,36)"
          }
         }
        },
        "xaxis": {
         "anchor": "y",
         "domain": [
          0,
          0.7363
         ],
         "title": {
          "text": "Units Sold"
         }
        },
        "xaxis2": {
         "anchor": "y2",
         "domain": [
          0.7413,
          1
         ],
         "matches": "x2",
         "showline": false,
         "showticklabels": false,
         "ticks": ""
        },
        "xaxis3": {
         "anchor": "y3",
         "domain": [
          0,
          0.7363
         ],
         "matches": "x",
         "showticklabels": false
        },
        "xaxis4": {
         "anchor": "y4",
         "domain": [
          0.7413,
          1
         ],
         "matches": "x2",
         "showline": false,
         "showticklabels": false,
         "ticks": ""
        },
        "yaxis": {
         "anchor": "x",
         "domain": [
          0,
          0.7326
         ],
         "title": {
          "text": "Revenue"
         }
        },
        "yaxis2": {
         "anchor": "x2",
         "domain": [
          0,
          0.7326
         ],
         "matches": "y",
         "showticklabels": false
        },
        "yaxis3": {
         "anchor": "x3",
         "domain": [
          0.7426,
          1
         ],
         "matches": "y3",
         "showline": false,
         "showticklabels": false,
         "ticks": ""
        },
        "yaxis4": {
         "anchor": "x4",
         "domain": [
          0.7426,
          1
         ],
         "matches": "y3",
         "showline": false,
         "showticklabels": false,
         "ticks": ""
        }
       }
      },
      "text/html": [
       "<div>                            <div id=\"2257a889-f80e-4a61-9400-07be334bb321\" class=\"plotly-graph-div\" style=\"height:525px; width:100%;\"></div>            <script type=\"text/javascript\">                require([\"plotly\"], function(Plotly) {                    window.PLOTLYENV=window.PLOTLYENV || {};                                    if (document.getElementById(\"2257a889-f80e-4a61-9400-07be334bb321\")) {                    Plotly.newPlot(                        \"2257a889-f80e-4a61-9400-07be334bb321\",                        [{\"hovertemplate\":\"Product= Chocolate Chip <br>Units Sold=%{x}<br>Revenue=%{y}<extra></extra>\",\"legendgroup\":\" Chocolate Chip \",\"marker\":{\"color\":\"#1F77B4\",\"symbol\":\"circle\"},\"mode\":\"markers\",\"name\":\" Chocolate Chip \",\"orientation\":\"v\",\"showlegend\":true,\"x\":[1725,2152,2349,1228,1389,1802,2299,1404,2470,1743,2222,549,1785,2261,704,2136,1757,1031,2167,1198,1922,766,809,1945,2116,1123,2125,2409,2146,1775,2992,788,2145,1760,1514,2763,1946,367,1715,380,2151,912,1925,2013,671,727,2931,386,380,267,2007,292,2518,1817,2363,1295,1916,2852,2729,1774,2009,4251,218,2074,2431,1702,257,1094,873,2105,4026,2394,1366,2632,1583,1565,1249,2428,700,1614,2559,723,3945,2296,1030,787,2155,918,1055,2435,1901,1287,2988,1303,2385,2620,3801,1496,448,2101,1535,1227,1324,1954,2532,2426,2441,1594,2696,1393,1731,293,1006,367,1513,747,1728,689,1570,1706,795,1415,1372,1743,3513,1259,1095,1366,1598,1934,360,241,1359,1531,807,2708,357,1013,278,1158,1085,1175,974,883,2472,1823,662,1084,2031,1138,2689,1607,1114,2460,2993,1362,2565,2417,1038,591,1122,1984,886,2156,905,2150,1197,1233,571,260,2535,2851,1143,1514,4493,727,2905,1142,1370,2918,3450,1056,274,2992,2327,991,602,861,2663,2198,1153,678,3675,2797,973,3495,1439,2641,1767,2914,1177,914],\"xaxis\":\"x\",\"y\":[8625,10760,11745,6140,6945,9010,11495,7020,12350,8715,11110,2745,8925,11305,3520,10680,8785,5155,10835,5990,9610,3830,4045,9725,10580,5615,10625,12045,10730,8875,14960,3940,10725,8800,7570,13815,9730,1835,8575,1900,10755,4560,9625,10065,3355,3635,14655,1930,1900,1335,10035,1460,12590,9085,11815,6475,9580,14260,13645,8870,10045,21255,1090,10370,12155,8510,1285,5470,4365,10525,20130,11970,6830,13160,7915,7825,6245,12140,3500,8070,12795,3615,19725,11480,5150,3935,10775,4590,5275,12175,9505,6435,14940,6515,11925,13100,19005,7480,2240,10505,7675,6135,6620,9770,12660,12130,12205,7970,13480,6965,8655,1465,5030,1835,7565,3735,8640,3445,7850,8530,3975,7075,6860,8715,17565,6295,5475,6830,7990,9670,1800,1205,6795,7655,4035,13540,1785,5065,1390,5790,5425,5875,4870,4415,12360,9115,3310,5420,10155,5690,13445,8035,5570,12300,14965,6810,12825,12085,5190,2955,5610,9920,4430,10780,4525,10750,5985,6165,2855,1300,12675,14255,5715,7570,22465,3635,14525,5710,6850,14590,17250,5280,1370,14960,11635,4955,3010,4305,13315,10990,5765,3390,18375,13985,4865,17475,7195,13205,8835,14570,5885,4570],\"yaxis\":\"y\",\"type\":\"scatter\"},{\"alignmentgroup\":\"True\",\"hovertemplate\":\"Product= Chocolate Chip <br>Units Sold=%{x}<extra></extra>\",\"legendgroup\":\" Chocolate Chip \",\"marker\":{\"color\":\"#1F77B4\",\"symbol\":\"circle\"},\"name\":\" Chocolate Chip \",\"notched\":true,\"offsetgroup\":\" Chocolate Chip \",\"showlegend\":false,\"x\":[1725,2152,2349,1228,1389,1802,2299,1404,2470,1743,2222,549,1785,2261,704,2136,1757,1031,2167,1198,1922,766,809,1945,2116,1123,2125,2409,2146,1775,2992,788,2145,1760,1514,2763,1946,367,1715,380,2151,912,1925,2013,671,727,2931,386,380,267,2007,292,2518,1817,2363,1295,1916,2852,2729,1774,2009,4251,218,2074,2431,1702,257,1094,873,2105,4026,2394,1366,2632,1583,1565,1249,2428,700,1614,2559,723,3945,2296,1030,787,2155,918,1055,2435,1901,1287,2988,1303,2385,2620,3801,1496,448,2101,1535,1227,1324,1954,2532,2426,2441,1594,2696,1393,1731,293,1006,367,1513,747,1728,689,1570,1706,795,1415,1372,1743,3513,1259,1095,1366,1598,1934,360,241,1359,1531,807,2708,357,1013,278,1158,1085,1175,974,883,2472,1823,662,1084,2031,1138,2689,1607,1114,2460,2993,1362,2565,2417,1038,591,1122,1984,886,2156,905,2150,1197,1233,571,260,2535,2851,1143,1514,4493,727,2905,1142,1370,2918,3450,1056,274,2992,2327,991,602,861,2663,2198,1153,678,3675,2797,973,3495,1439,2641,1767,2914,1177,914],\"xaxis\":\"x3\",\"yaxis\":\"y3\",\"type\":\"box\"},{\"alignmentgroup\":\"True\",\"hovertemplate\":\"Product= Chocolate Chip <br>Revenue=%{y}<extra></extra>\",\"legendgroup\":\" Chocolate Chip \",\"marker\":{\"color\":\"#1F77B4\",\"symbol\":\"circle\"},\"name\":\" Chocolate Chip \",\"offsetgroup\":\" Chocolate Chip \",\"scalegroup\":\"y\",\"showlegend\":false,\"xaxis\":\"x2\",\"y\":[8625,10760,11745,6140,6945,9010,11495,7020,12350,8715,11110,2745,8925,11305,3520,10680,8785,5155,10835,5990,9610,3830,4045,9725,10580,5615,10625,12045,10730,8875,14960,3940,10725,8800,7570,13815,9730,1835,8575,1900,10755,4560,9625,10065,3355,3635,14655,1930,1900,1335,10035,1460,12590,9085,11815,6475,9580,14260,13645,8870,10045,21255,1090,10370,12155,8510,1285,5470,4365,10525,20130,11970,6830,13160,7915,7825,6245,12140,3500,8070,12795,3615,19725,11480,5150,3935,10775,4590,5275,12175,9505,6435,14940,6515,11925,13100,19005,7480,2240,10505,7675,6135,6620,9770,12660,12130,12205,7970,13480,6965,8655,1465,5030,1835,7565,3735,8640,3445,7850,8530,3975,7075,6860,8715,17565,6295,5475,6830,7990,9670,1800,1205,6795,7655,4035,13540,1785,5065,1390,5790,5425,5875,4870,4415,12360,9115,3310,5420,10155,5690,13445,8035,5570,12300,14965,6810,12825,12085,5190,2955,5610,9920,4430,10780,4525,10750,5985,6165,2855,1300,12675,14255,5715,7570,22465,3635,14525,5710,6850,14590,17250,5280,1370,14960,11635,4955,3010,4305,13315,10990,5765,3390,18375,13985,4865,17475,7195,13205,8835,14570,5885,4570],\"yaxis\":\"y2\",\"type\":\"violin\"},{\"hovertemplate\":\"<b>OLS trendline</b><br>Revenue = 5 * Units Sold + 9.66338e-13<br>R<sup>2</sup>=1.000000<br><br>Product= Chocolate Chip <br>Units Sold=%{x}<br>Revenue=%{y} <b>(trend)</b><extra></extra>\",\"legendgroup\":\" Chocolate Chip \",\"marker\":{\"color\":\"#1F77B4\",\"symbol\":\"circle\"},\"mode\":\"lines\",\"name\":\" Chocolate Chip \",\"showlegend\":false,\"x\":[218,241,257,260,267,274,278,292,293,357,360,367,367,380,380,386,448,549,571,591,602,662,671,678,689,700,704,723,727,727,747,766,787,788,795,807,809,861,873,883,886,905,912,914,918,973,974,991,1006,1013,1030,1031,1038,1055,1056,1084,1085,1094,1095,1114,1122,1123,1138,1142,1143,1153,1158,1175,1177,1197,1198,1227,1228,1233,1249,1259,1287,1295,1303,1324,1359,1362,1366,1366,1370,1372,1389,1393,1404,1415,1439,1496,1513,1514,1514,1531,1535,1565,1570,1583,1594,1598,1607,1614,1702,1706,1715,1725,1728,1731,1743,1743,1757,1760,1767,1774,1775,1785,1802,1817,1823,1901,1916,1922,1925,1934,1945,1946,1954,1984,2007,2009,2013,2031,2074,2101,2105,2116,2125,2136,2145,2146,2150,2151,2152,2155,2156,2167,2198,2222,2261,2296,2299,2327,2349,2363,2385,2394,2409,2417,2426,2428,2431,2435,2441,2460,2470,2472,2518,2532,2535,2559,2565,2620,2632,2641,2663,2689,2696,2708,2729,2763,2797,2851,2852,2905,2914,2918,2931,2988,2992,2992,2993,3450,3495,3513,3675,3801,3945,4026,4251,4493],\"xaxis\":\"x\",\"y\":[1090.0000000000011,1205.0000000000011,1285.0000000000011,1300.0000000000011,1335.0000000000011,1370.0000000000011,1390.0000000000011,1460.0000000000011,1465.0000000000011,1785.0000000000011,1800.0000000000011,1835.0000000000011,1835.0000000000011,1900.0000000000011,1900.0000000000011,1930.0000000000014,2240.0000000000014,2745.0000000000014,2855.0000000000014,2955.0000000000014,3010.0000000000014,3310.0000000000014,3355.0000000000014,3390.0000000000014,3445.0000000000014,3500.0000000000014,3520.0000000000014,3615.0000000000014,3635.0000000000014,3635.0000000000014,3735.0000000000014,3830.0000000000014,3935.000000000002,3940.000000000002,3975.000000000002,4035.000000000002,4045.000000000002,4305.000000000002,4365.000000000002,4415.000000000002,4430.000000000002,4525.000000000002,4560.000000000002,4570.000000000002,4590.000000000002,4865.000000000002,4870.000000000002,4955.000000000002,5030.000000000002,5065.000000000002,5150.000000000002,5155.000000000002,5190.000000000002,5275.000000000002,5280.000000000002,5420.000000000002,5425.000000000002,5470.000000000002,5475.000000000002,5570.000000000002,5610.000000000002,5615.000000000002,5690.000000000002,5710.000000000002,5715.000000000002,5765.000000000002,5790.000000000002,5875.000000000002,5885.000000000002,5985.000000000002,5990.000000000002,6135.000000000002,6140.000000000002,6165.000000000002,6245.000000000002,6295.000000000002,6435.000000000002,6475.000000000002,6515.000000000002,6620.000000000002,6795.000000000002,6810.000000000002,6830.000000000002,6830.000000000002,6850.000000000002,6860.000000000002,6945.000000000002,6965.000000000002,7020.000000000002,7075.000000000002,7195.000000000002,7480.000000000002,7565.000000000002,7570.000000000002,7570.000000000002,7655.000000000002,7675.000000000002,7825.000000000003,7850.000000000003,7915.000000000003,7970.000000000003,7990.000000000003,8035.000000000003,8070.000000000003,8510.000000000004,8530.000000000004,8575.000000000004,8625.000000000004,8640.000000000004,8655.000000000004,8715.000000000004,8715.000000000004,8785.000000000004,8800.000000000004,8835.000000000004,8870.000000000004,8875.000000000004,8925.000000000004,9010.000000000004,9085.000000000004,9115.000000000004,9505.000000000004,9580.000000000004,9610.000000000004,9625.000000000004,9670.000000000004,9725.000000000004,9730.000000000004,9770.000000000004,9920.000000000004,10035.000000000004,10045.000000000004,10065.000000000004,10155.000000000004,10370.000000000004,10505.000000000004,10525.000000000004,10580.000000000004,10625.000000000004,10680.000000000004,10725.000000000004,10730.000000000004,10750.000000000004,10755.000000000004,10760.000000000004,10775.000000000004,10780.000000000004,10835.000000000004,10990.000000000004,11110.000000000004,11305.000000000004,11480.000000000004,11495.000000000004,11635.000000000004,11745.000000000004,11815.000000000004,11925.000000000004,11970.000000000004,12045.000000000004,12085.000000000004,12130.000000000004,12140.000000000004,12155.000000000004,12175.000000000004,12205.000000000004,12300.000000000004,12350.000000000004,12360.000000000004,12590.000000000004,12660.000000000004,12675.000000000004,12795.000000000004,12825.000000000004,13100.000000000004,13160.000000000004,13205.000000000004,13315.000000000004,13445.000000000004,13480.000000000004,13540.000000000004,13645.000000000004,13815.000000000004,13985.000000000004,14255.000000000004,14260.000000000004,14525.000000000004,14570.000000000004,14590.000000000004,14655.000000000004,14940.000000000004,14960.000000000004,14960.000000000004,14965.000000000004,17250.000000000004,17475.000000000004,17565.000000000004,18375.000000000004,19005.000000000004,19725.000000000004,20130.000000000004,21255.000000000004,22465.000000000004],\"yaxis\":\"y\",\"type\":\"scatter\"},{\"hovertemplate\":\"Product= Fortune Cookie <br>Units Sold=%{x}<br>Revenue=%{y}<extra></extra>\",\"legendgroup\":\" Fortune Cookie \",\"marker\":{\"color\":\"#FF7F0E\",\"symbol\":\"circle\"},\"mode\":\"markers\",\"name\":\" Fortune Cookie \",\"orientation\":\"v\",\"showlegend\":true,\"x\":[345,2851,1283,1611,1403,1757,322,1857,1186,1797,1159,2500,334,2992,1660,720,1100,1715,1727,2498,663,1804,2996,2518,2666,1830,1967,488,708,3803,2321,2734,1249,2228,200,388,2300,1899,1376,1901,544,1287,1385,2342,1976,2181,2501,1562,1666,2072,1773,293,921,1545,2146,1958,1706,1859,2021,2342,1460,645,711,766,1199,2470,958,2214,690,2031,1138,980,2340,2157,2420,2661,604,2255,546,1368,615,2301,1142,1566,3627,2723,1282,2797,2328,2313,677,983,1298],\"xaxis\":\"x\",\"y\":[345,2851,1283,1611,1403,1757,322,1857,1186,1797,1159,2500,334,2992,1660,720,1100,1715,1727,2498,663,1804,2996,2518,2666,1830,1967,488,708,3803,2321,2734,1249,2228,200,388,2300,1899,1376,1901,544,1287,1385,2342,1976,2181,2501,1562,1666,2072,1773,293,921,1545,2146,1958,1706,1859,2021,2342,1460,645,711,766,1199,2470,958,2214,690,2031,1138,980,2340,2157,2420,2661,604,2255,546,1368,615,2301,1142,1566,3627,2723,1282,2797,2328,2313,677,983,1298],\"yaxis\":\"y\",\"type\":\"scatter\"},{\"alignmentgroup\":\"True\",\"hovertemplate\":\"Product= Fortune Cookie <br>Units Sold=%{x}<extra></extra>\",\"legendgroup\":\" Fortune Cookie \",\"marker\":{\"color\":\"#FF7F0E\",\"symbol\":\"circle\"},\"name\":\" Fortune Cookie \",\"notched\":true,\"offsetgroup\":\" Fortune Cookie \",\"showlegend\":false,\"x\":[345,2851,1283,1611,1403,1757,322,1857,1186,1797,1159,2500,334,2992,1660,720,1100,1715,1727,2498,663,1804,2996,2518,2666,1830,1967,488,708,3803,2321,2734,1249,2228,200,388,2300,1899,1376,1901,544,1287,1385,2342,1976,2181,2501,1562,1666,2072,1773,293,921,1545,2146,1958,1706,1859,2021,2342,1460,645,711,766,1199,2470,958,2214,690,2031,1138,980,2340,2157,2420,2661,604,2255,546,1368,615,2301,1142,1566,3627,2723,1282,2797,2328,2313,677,983,1298],\"xaxis\":\"x3\",\"yaxis\":\"y3\",\"type\":\"box\"},{\"alignmentgroup\":\"True\",\"hovertemplate\":\"Product= Fortune Cookie <br>Revenue=%{y}<extra></extra>\",\"legendgroup\":\" Fortune Cookie \",\"marker\":{\"color\":\"#FF7F0E\",\"symbol\":\"circle\"},\"name\":\" Fortune Cookie \",\"offsetgroup\":\" Fortune Cookie \",\"scalegroup\":\"y\",\"showlegend\":false,\"xaxis\":\"x2\",\"y\":[345,2851,1283,1611,1403,1757,322,1857,1186,1797,1159,2500,334,2992,1660,720,1100,1715,1727,2498,663,1804,2996,2518,2666,1830,1967,488,708,3803,2321,2734,1249,2228,200,388,2300,1899,1376,1901,544,1287,1385,2342,1976,2181,2501,1562,1666,2072,1773,293,921,1545,2146,1958,1706,1859,2021,2342,1460,645,711,766,1199,2470,958,2214,690,2031,1138,980,2340,2157,2420,2661,604,2255,546,1368,615,2301,1142,1566,3627,2723,1282,2797,2328,2313,677,983,1298],\"yaxis\":\"y2\",\"type\":\"violin\"},{\"hovertemplate\":\"<b>OLS trendline</b><br>Revenue = 1 * Units Sold + -4.9738e-13<br>R<sup>2</sup>=1.000000<br><br>Product= Fortune Cookie <br>Units Sold=%{x}<br>Revenue=%{y} <b>(trend)</b><extra></extra>\",\"legendgroup\":\" Fortune Cookie \",\"marker\":{\"color\":\"#FF7F0E\",\"symbol\":\"circle\"},\"mode\":\"lines\",\"name\":\" Fortune Cookie \",\"showlegend\":false,\"x\":[200,293,322,334,345,388,488,544,546,604,615,645,663,677,690,708,711,720,766,921,958,980,983,1100,1138,1142,1159,1186,1199,1249,1282,1283,1287,1298,1368,1376,1385,1403,1460,1545,1562,1566,1611,1660,1666,1706,1715,1727,1757,1773,1797,1804,1830,1857,1859,1899,1901,1958,1967,1976,2021,2031,2072,2146,2157,2181,2214,2228,2255,2300,2301,2313,2321,2328,2340,2342,2342,2420,2470,2498,2500,2501,2518,2661,2666,2723,2734,2797,2851,2992,2996,3627,3803],\"xaxis\":\"x\",\"y\":[199.9999999999995,292.9999999999995,321.9999999999995,333.9999999999995,344.9999999999995,387.9999999999995,487.9999999999995,543.9999999999995,545.9999999999995,603.9999999999995,614.9999999999995,644.9999999999995,662.9999999999995,676.9999999999995,689.9999999999995,707.9999999999995,710.9999999999995,719.9999999999995,765.9999999999995,920.9999999999995,957.9999999999995,979.9999999999995,982.9999999999995,1099.9999999999995,1137.9999999999995,1141.9999999999995,1158.9999999999995,1185.9999999999995,1198.9999999999995,1248.9999999999995,1281.9999999999995,1282.9999999999995,1286.9999999999995,1297.9999999999995,1367.9999999999995,1375.9999999999995,1384.9999999999995,1402.9999999999995,1459.9999999999995,1544.9999999999995,1561.9999999999995,1565.9999999999995,1610.9999999999995,1659.9999999999995,1665.9999999999995,1705.9999999999995,1714.9999999999995,1726.9999999999995,1756.9999999999995,1772.9999999999995,1796.9999999999995,1803.9999999999995,1829.9999999999995,1856.9999999999995,1858.9999999999995,1898.9999999999995,1900.9999999999995,1957.9999999999995,1966.9999999999995,1975.9999999999995,2020.9999999999995,2030.9999999999995,2071.9999999999995,2145.9999999999995,2156.9999999999995,2180.9999999999995,2213.9999999999995,2227.9999999999995,2254.9999999999995,2299.9999999999995,2300.9999999999995,2312.9999999999995,2320.9999999999995,2327.9999999999995,2339.9999999999995,2341.9999999999995,2341.9999999999995,2419.9999999999995,2469.9999999999995,2497.9999999999995,2499.9999999999995,2500.9999999999995,2517.9999999999995,2660.9999999999995,2665.9999999999995,2722.9999999999995,2733.9999999999995,2796.9999999999995,2850.9999999999995,2991.9999999999995,2995.9999999999995,3626.9999999999995,3802.9999999999995],\"yaxis\":\"y\",\"type\":\"scatter\"},{\"hovertemplate\":\"Product= Oatmeal Raisin <br>Units Sold=%{x}<br>Revenue=%{y}<extra></extra>\",\"legendgroup\":\" Oatmeal Raisin \",\"marker\":{\"color\":\"#2CA02C\",\"symbol\":\"circle\"},\"mode\":\"markers\",\"name\":\" Oatmeal Raisin \",\"orientation\":\"v\",\"showlegend\":true,\"x\":[1778,1228,2761,1743,321,1403,2076,306,2966,1159,994,970,1770,1375,947,344,1727,1870,1989,671,727,2548,2015,1916,552,1135,1645,1118,708,1269,1631,2240,3521,707,2734,1659,888,2750,1899,941,1988,2876,2072,853,1433,3422,1190,1393,2475,1731,2475,4220,1686,259,2276,1907,1350,1250,1366,1520,711,2574,472,3165,1101,1865,1074,1683,1123,1679,2460,635,1694,1038,2039,2629,2157,410,546,1953,2141,1143,615,1236,1372,1282,2907,2071,579,2993,3200,270,2844,2914],\"xaxis\":\"x\",\"y\":[8890,6140,13805,8715,1605,7015,10380,1530,14830,5795,4970,4850,8850,6875,4735,1720,8635,9350,9945,3355,3635,12740,10075,9580,2760,5675,8225,5590,3540,6345,8155,11200,17605,3535,13670,8295,4440,13750,9495,4705,9940,14380,10360,4265,7165,17110,5950,6965,12375,8655,12375,21100,8430,1295,11380,9535,6750,6250,6830,7600,3555,12870,2360,15825,5505,9325,5370,8415,5615,8395,12300,3175,8470,5190,10195,13145,10785,2050,2730,9765,10705,5715,3075,6180,6860,6410,14535,10355,2895,14965,16000,1350,14220,14570],\"yaxis\":\"y\",\"type\":\"scatter\"},{\"alignmentgroup\":\"True\",\"hovertemplate\":\"Product= Oatmeal Raisin <br>Units Sold=%{x}<extra></extra>\",\"legendgroup\":\" Oatmeal Raisin \",\"marker\":{\"color\":\"#2CA02C\",\"symbol\":\"circle\"},\"name\":\" Oatmeal Raisin \",\"notched\":true,\"offsetgroup\":\" Oatmeal Raisin \",\"showlegend\":false,\"x\":[1778,1228,2761,1743,321,1403,2076,306,2966,1159,994,970,1770,1375,947,344,1727,1870,1989,671,727,2548,2015,1916,552,1135,1645,1118,708,1269,1631,2240,3521,707,2734,1659,888,2750,1899,941,1988,2876,2072,853,1433,3422,1190,1393,2475,1731,2475,4220,1686,259,2276,1907,1350,1250,1366,1520,711,2574,472,3165,1101,1865,1074,1683,1123,1679,2460,635,1694,1038,2039,2629,2157,410,546,1953,2141,1143,615,1236,1372,1282,2907,2071,579,2993,3200,270,2844,2914],\"xaxis\":\"x3\",\"yaxis\":\"y3\",\"type\":\"box\"},{\"alignmentgroup\":\"True\",\"hovertemplate\":\"Product= Oatmeal Raisin <br>Revenue=%{y}<extra></extra>\",\"legendgroup\":\" Oatmeal Raisin \",\"marker\":{\"color\":\"#2CA02C\",\"symbol\":\"circle\"},\"name\":\" Oatmeal Raisin \",\"offsetgroup\":\" Oatmeal Raisin \",\"scalegroup\":\"y\",\"showlegend\":false,\"xaxis\":\"x2\",\"y\":[8890,6140,13805,8715,1605,7015,10380,1530,14830,5795,4970,4850,8850,6875,4735,1720,8635,9350,9945,3355,3635,12740,10075,9580,2760,5675,8225,5590,3540,6345,8155,11200,17605,3535,13670,8295,4440,13750,9495,4705,9940,14380,10360,4265,7165,17110,5950,6965,12375,8655,12375,21100,8430,1295,11380,9535,6750,6250,6830,7600,3555,12870,2360,15825,5505,9325,5370,8415,5615,8395,12300,3175,8470,5190,10195,13145,10785,2050,2730,9765,10705,5715,3075,6180,6860,6410,14535,10355,2895,14965,16000,1350,14220,14570],\"yaxis\":\"y2\",\"type\":\"violin\"},{\"hovertemplate\":\"<b>OLS trendline</b><br>Revenue = 5 * Units Sold + -4.43379e-12<br>R<sup>2</sup>=1.000000<br><br>Product= Oatmeal Raisin <br>Units Sold=%{x}<br>Revenue=%{y} <b>(trend)</b><extra></extra>\",\"legendgroup\":\" Oatmeal Raisin \",\"marker\":{\"color\":\"#2CA02C\",\"symbol\":\"circle\"},\"mode\":\"lines\",\"name\":\" Oatmeal Raisin \",\"showlegend\":false,\"x\":[259,270,306,321,344,410,472,546,552,579,615,635,671,707,708,711,727,853,888,941,947,970,994,1038,1074,1101,1118,1123,1135,1143,1159,1190,1228,1236,1250,1269,1282,1350,1366,1372,1375,1393,1403,1433,1520,1631,1645,1659,1679,1683,1686,1694,1727,1731,1743,1770,1778,1865,1870,1899,1907,1916,1953,1988,1989,2015,2039,2071,2072,2076,2141,2157,2240,2276,2460,2475,2475,2548,2574,2629,2734,2750,2761,2844,2876,2907,2914,2966,2993,3165,3200,3422,3521,4220],\"xaxis\":\"x\",\"y\":[1294.9999999999964,1349.9999999999964,1529.9999999999968,1604.9999999999968,1719.9999999999968,2049.999999999997,2359.9999999999973,2729.9999999999973,2759.9999999999973,2894.9999999999977,3074.9999999999977,3174.9999999999977,3354.9999999999977,3534.999999999998,3539.999999999998,3554.999999999998,3634.999999999998,4264.999999999998,4439.999999999998,4704.999999999999,4734.999999999999,4849.999999999999,4969.999999999999,5189.999999999999,5369.999999999999,5504.999999999999,5589.999999999999,5614.999999999999,5674.999999999999,5714.999999999999,5795.0,5950.0,6140.0,6180.0,6250.0,6345.0,6410.0,6750.0,6830.0,6860.0,6875.0,6965.0,7015.0,7165.000000000001,7600.000000000001,8155.000000000001,8225.000000000002,8295.000000000002,8395.000000000002,8415.000000000002,8430.000000000002,8470.000000000002,8635.000000000002,8655.000000000002,8715.000000000002,8850.000000000002,8890.000000000002,9325.000000000004,9350.000000000004,9495.000000000004,9535.000000000004,9580.000000000004,9765.000000000004,9940.000000000004,9945.000000000004,10075.000000000004,10195.000000000004,10355.000000000004,10360.000000000004,10380.000000000004,10705.000000000004,10785.000000000004,11200.000000000004,11380.000000000004,12300.000000000005,12375.000000000005,12375.000000000005,12740.000000000005,12870.000000000005,13145.000000000005,13670.000000000005,13750.000000000005,13805.000000000005,14220.000000000007,14380.000000000007,14535.000000000007,14570.000000000007,14830.000000000007,14965.000000000007,15825.000000000007,16000.000000000007,17110.000000000007,17605.000000000007,21100.00000000001],\"yaxis\":\"y\",\"type\":\"scatter\"},{\"hovertemplate\":\"Product= Snickerdoodle <br>Units Sold=%{x}<br>Revenue=%{y}<extra></extra>\",\"legendgroup\":\" Snickerdoodle \",\"marker\":{\"color\":\"#D62728\",\"symbol\":\"circle\"},\"mode\":\"markers\",\"name\":\" Snickerdoodle \",\"orientation\":\"v\",\"showlegend\":true,\"x\":[908,2851,2299,1560,2416,2145,1482,1198,1023,766,214,1016,887,442,494,1834,367,2706,2821,330,263,386,2996,1619,1445,743,1295,2852,831,2844,1884,1094,819,1937,2689,923,1496,2300,2178,2671,2155,4244,1865,1563,2487,448,2181,490,2441,2522,1790,1174,1321,888,1513,2580,689,2021,1116,663,1580,792,2811,280,1513,2767,1085,2470,1210,1397,2791,562,727,1540,1362,521,886,2156,2579,801,1858,2529,1947,274,991,570,1118,2030,1761,3446,2567,1743,1010],\"xaxis\":\"x\",\"y\":[3632,11404,9196,6240,9664,8580,5928,4792,4092,3064,856,4064,3548,1768,1976,7336,1468,10824,11284,1320,1052,1544,11984,6476,5780,2972,5180,11408,3324,11376,7536,4376,3276,7748,10756,3692,5984,9200,8712,10684,8620,16976,7460,6252,9948,1792,8724,1960,9764,10088,7160,4696,5284,3552,6052,10320,2756,8084,4464,2652,6320,3168,11244,1120,6052,11068,4340,9880,4840,5588,11164,2248,2908,6160,5448,2084,3544,8624,10316,3204,7432,10116,7788,1096,3964,2280,4472,8120,7044,13784,10268,6972,4040],\"yaxis\":\"y\",\"type\":\"scatter\"},{\"alignmentgroup\":\"True\",\"hovertemplate\":\"Product= Snickerdoodle <br>Units Sold=%{x}<extra></extra>\",\"legendgroup\":\" Snickerdoodle \",\"marker\":{\"color\":\"#D62728\",\"symbol\":\"circle\"},\"name\":\" Snickerdoodle \",\"notched\":true,\"offsetgroup\":\" Snickerdoodle \",\"showlegend\":false,\"x\":[908,2851,2299,1560,2416,2145,1482,1198,1023,766,214,1016,887,442,494,1834,367,2706,2821,330,263,386,2996,1619,1445,743,1295,2852,831,2844,1884,1094,819,1937,2689,923,1496,2300,2178,2671,2155,4244,1865,1563,2487,448,2181,490,2441,2522,1790,1174,1321,888,1513,2580,689,2021,1116,663,1580,792,2811,280,1513,2767,1085,2470,1210,1397,2791,562,727,1540,1362,521,886,2156,2579,801,1858,2529,1947,274,991,570,1118,2030,1761,3446,2567,1743,1010],\"xaxis\":\"x3\",\"yaxis\":\"y3\",\"type\":\"box\"},{\"alignmentgroup\":\"True\",\"hovertemplate\":\"Product= Snickerdoodle <br>Revenue=%{y}<extra></extra>\",\"legendgroup\":\" Snickerdoodle \",\"marker\":{\"color\":\"#D62728\",\"symbol\":\"circle\"},\"name\":\" Snickerdoodle \",\"offsetgroup\":\" Snickerdoodle \",\"scalegroup\":\"y\",\"showlegend\":false,\"xaxis\":\"x2\",\"y\":[3632,11404,9196,6240,9664,8580,5928,4792,4092,3064,856,4064,3548,1768,1976,7336,1468,10824,11284,1320,1052,1544,11984,6476,5780,2972,5180,11408,3324,11376,7536,4376,3276,7748,10756,3692,5984,9200,8712,10684,8620,16976,7460,6252,9948,1792,8724,1960,9764,10088,7160,4696,5284,3552,6052,10320,2756,8084,4464,2652,6320,3168,11244,1120,6052,11068,4340,9880,4840,5588,11164,2248,2908,6160,5448,2084,3544,8624,10316,3204,7432,10116,7788,1096,3964,2280,4472,8120,7044,13784,10268,6972,4040],\"yaxis\":\"y2\",\"type\":\"violin\"},{\"hovertemplate\":\"<b>OLS trendline</b><br>Revenue = 4 * Units Sold + 3.63798e-12<br>R<sup>2</sup>=1.000000<br><br>Product= Snickerdoodle <br>Units Sold=%{x}<br>Revenue=%{y} <b>(trend)</b><extra></extra>\",\"legendgroup\":\" Snickerdoodle \",\"marker\":{\"color\":\"#D62728\",\"symbol\":\"circle\"},\"mode\":\"lines\",\"name\":\" Snickerdoodle \",\"showlegend\":false,\"x\":[214,263,274,280,330,367,386,442,448,490,494,521,562,570,663,689,727,743,766,792,801,819,831,886,887,888,908,923,991,1010,1016,1023,1085,1094,1116,1118,1174,1198,1210,1295,1321,1362,1397,1445,1482,1496,1513,1513,1540,1560,1563,1580,1619,1743,1761,1790,1834,1858,1865,1884,1937,1947,2021,2030,2145,2155,2156,2178,2181,2299,2300,2416,2441,2470,2487,2522,2529,2567,2579,2580,2671,2689,2706,2767,2791,2811,2821,2844,2851,2852,2996,3446,4244],\"xaxis\":\"x\",\"y\":[856.0000000000033,1052.0000000000032,1096.0000000000032,1120.0000000000032,1320.0000000000032,1468.0000000000032,1544.0000000000032,1768.000000000003,1792.000000000003,1960.000000000003,1976.000000000003,2084.0000000000027,2248.0000000000027,2280.0000000000027,2652.0000000000027,2756.0000000000027,2908.0000000000027,2972.0000000000027,3064.0000000000027,3168.0000000000027,3204.0000000000027,3276.0000000000027,3324.0000000000027,3544.0000000000023,3548.0000000000023,3552.0000000000023,3632.0000000000023,3692.0000000000023,3964.0000000000023,4040.0000000000023,4064.0000000000023,4092.0000000000023,4340.000000000002,4376.000000000002,4464.000000000002,4472.000000000002,4696.000000000002,4792.000000000002,4840.000000000002,5180.000000000002,5284.000000000002,5448.000000000002,5588.000000000002,5780.000000000002,5928.000000000002,5984.000000000002,6052.000000000002,6052.000000000002,6160.000000000002,6240.000000000002,6252.000000000002,6320.000000000002,6476.000000000002,6972.000000000001,7044.000000000001,7160.000000000001,7336.000000000001,7432.000000000001,7460.000000000001,7536.000000000001,7748.000000000001,7788.000000000001,8084.000000000001,8120.000000000001,8580.0,8620.0,8624.0,8712.0,8724.0,9196.0,9200.0,9664.0,9764.0,9880.0,9948.0,10088.0,10116.0,10268.0,10316.0,10320.0,10684.0,10756.0,10824.0,11068.0,11164.0,11244.0,11284.0,11376.0,11404.0,11408.0,11984.0,13783.999999999998,16975.999999999996],\"yaxis\":\"y\",\"type\":\"scatter\"},{\"hovertemplate\":\"Product= Sugar <br>Units Sold=%{x}<br>Revenue=%{y}<extra></extra>\",\"legendgroup\":\" Sugar \",\"marker\":{\"color\":\"#9467BD\",\"symbol\":\"circle\"},\"mode\":\"markers\",\"name\":\" Sugar \",\"orientation\":\"v\",\"showlegend\":true,\"x\":[1389,2436,2935,623,269,2954,1527,1221,2234,2682,2167,1281,214,1945,2297,2215,1870,494,1940,1514,1123,1005,266,349,1265,808,2294,267,2001,1817,1326,944,2729,1874,2844,1582,3245,2134,2529,2109,1583,1565,1496,866,2178,2151,787,1744,866,2177,2487,1739,959,575,381,1227,1734,3875,1491,293,2838,888,263,986,2877,1570,2479,2338,422,2659,880,360,1531,280,492,1175,552,1397,662,1916,1642,2689,1498,2747,877,521,341,641,432,554,1233,2903,727,2844,2663,570,1153,437,1956,1352,1867,2807,1579,986,2387,2567,2541,1010,1806],\"xaxis\":\"x\",\"y\":[4167,7308,8805,1869,807,8862,4581,3663,6702,8046,6501,3843,642,5835,6891,6645,5610,1482,5820,4542,3369,3015,798,1047,3795,2424,6882,801,6003,5451,3978,2832,8187,5622,8532,4746,9735,6402,7587,6327,4749,4695,4488,2598,6534,6453,2361,5232,2598,6531,7461,5217,2877,1725,1143,3681,5202,11625,4473,879,8514,2664,789,2958,8631,4710,7437,7014,1266,7977,2640,1080,4593,840,1476,3525,1656,4191,1986,5748,4926,8067,4494,8241,2631,1563,1023,1923,1296,1662,3699,8709,2181,8532,7989,1710,3459,1311,5868,4056,5601,8421,4737,2958,7161,7701,7623,3030,5418],\"yaxis\":\"y\",\"type\":\"scatter\"},{\"alignmentgroup\":\"True\",\"hovertemplate\":\"Product= Sugar <br>Units Sold=%{x}<extra></extra>\",\"legendgroup\":\" Sugar \",\"marker\":{\"color\":\"#9467BD\",\"symbol\":\"circle\"},\"name\":\" Sugar \",\"notched\":true,\"offsetgroup\":\" Sugar \",\"showlegend\":false,\"x\":[1389,2436,2935,623,269,2954,1527,1221,2234,2682,2167,1281,214,1945,2297,2215,1870,494,1940,1514,1123,1005,266,349,1265,808,2294,267,2001,1817,1326,944,2729,1874,2844,1582,3245,2134,2529,2109,1583,1565,1496,866,2178,2151,787,1744,866,2177,2487,1739,959,575,381,1227,1734,3875,1491,293,2838,888,263,986,2877,1570,2479,2338,422,2659,880,360,1531,280,492,1175,552,1397,662,1916,1642,2689,1498,2747,877,521,341,641,432,554,1233,2903,727,2844,2663,570,1153,437,1956,1352,1867,2807,1579,986,2387,2567,2541,1010,1806],\"xaxis\":\"x3\",\"yaxis\":\"y3\",\"type\":\"box\"},{\"alignmentgroup\":\"True\",\"hovertemplate\":\"Product= Sugar <br>Revenue=%{y}<extra></extra>\",\"legendgroup\":\" Sugar \",\"marker\":{\"color\":\"#9467BD\",\"symbol\":\"circle\"},\"name\":\" Sugar \",\"offsetgroup\":\" Sugar \",\"scalegroup\":\"y\",\"showlegend\":false,\"xaxis\":\"x2\",\"y\":[4167,7308,8805,1869,807,8862,4581,3663,6702,8046,6501,3843,642,5835,6891,6645,5610,1482,5820,4542,3369,3015,798,1047,3795,2424,6882,801,6003,5451,3978,2832,8187,5622,8532,4746,9735,6402,7587,6327,4749,4695,4488,2598,6534,6453,2361,5232,2598,6531,7461,5217,2877,1725,1143,3681,5202,11625,4473,879,8514,2664,789,2958,8631,4710,7437,7014,1266,7977,2640,1080,4593,840,1476,3525,1656,4191,1986,5748,4926,8067,4494,8241,2631,1563,1023,1923,1296,1662,3699,8709,2181,8532,7989,1710,3459,1311,5868,4056,5601,8421,4737,2958,7161,7701,7623,3030,5418],\"yaxis\":\"y2\",\"type\":\"violin\"},{\"hovertemplate\":\"<b>OLS trendline</b><br>Revenue = 3 * Units Sold + -1.0516e-12<br>R<sup>2</sup>=1.000000<br><br>Product= Sugar <br>Units Sold=%{x}<br>Revenue=%{y} <b>(trend)</b><extra></extra>\",\"legendgroup\":\" Sugar \",\"marker\":{\"color\":\"#9467BD\",\"symbol\":\"circle\"},\"mode\":\"lines\",\"name\":\" Sugar \",\"showlegend\":false,\"x\":[214,263,266,267,269,280,293,341,349,360,381,422,432,437,492,494,521,552,554,570,575,623,641,662,727,787,808,866,866,877,880,888,944,959,986,986,1005,1010,1123,1153,1175,1221,1227,1233,1265,1281,1326,1352,1389,1397,1491,1496,1498,1514,1527,1531,1565,1570,1579,1582,1583,1642,1734,1739,1744,1806,1817,1867,1870,1874,1916,1940,1945,1956,2001,2109,2134,2151,2167,2177,2178,2215,2234,2294,2297,2338,2387,2436,2479,2487,2529,2541,2567,2659,2663,2682,2689,2729,2747,2807,2838,2844,2844,2877,2903,2935,2954,3245,3875],\"xaxis\":\"x\",\"y\":[641.999999999999,788.999999999999,797.999999999999,800.999999999999,806.999999999999,839.999999999999,878.999999999999,1022.999999999999,1046.9999999999989,1079.9999999999989,1142.9999999999989,1265.9999999999989,1295.9999999999989,1310.9999999999989,1475.9999999999989,1481.9999999999989,1562.9999999999989,1655.9999999999989,1661.9999999999989,1709.9999999999989,1724.9999999999989,1868.9999999999989,1922.9999999999989,1985.9999999999989,2180.999999999999,2360.999999999999,2423.999999999999,2597.999999999999,2597.999999999999,2630.999999999999,2639.999999999999,2663.999999999999,2831.999999999999,2876.999999999999,2957.999999999999,2957.999999999999,3014.999999999999,3029.999999999999,3368.999999999999,3458.999999999999,3524.999999999999,3662.999999999999,3680.999999999999,3698.999999999999,3794.999999999999,3842.999999999999,3977.999999999999,4055.999999999999,4166.999999999999,4190.999999999999,4472.999999999999,4487.999999999999,4493.999999999999,4541.999999999999,4580.999999999999,4592.999999999999,4694.999999999999,4709.999999999999,4736.999999999999,4745.999999999999,4748.999999999999,4925.999999999999,5201.999999999999,5216.999999999999,5231.999999999999,5417.999999999999,5450.999999999999,5600.999999999999,5609.999999999999,5621.999999999999,5747.999999999999,5819.999999999999,5834.999999999999,5867.999999999999,6002.999999999999,6326.999999999999,6401.999999999999,6452.999999999999,6500.999999999999,6530.999999999999,6533.999999999999,6644.999999999999,6701.999999999999,6881.999999999999,6890.999999999999,7013.999999999999,7160.999999999999,7307.999999999999,7436.999999999999,7460.999999999999,7586.999999999999,7622.999999999999,7700.999999999999,7976.999999999999,7988.999999999999,8045.999999999999,8066.999999999999,8186.999999999999,8240.999999999998,8420.999999999998,8513.999999999998,8531.999999999998,8531.999999999998,8630.999999999998,8708.999999999998,8804.999999999998,8861.999999999998,9734.999999999998,11624.999999999998],\"yaxis\":\"y\",\"type\":\"scatter\"},{\"hovertemplate\":\"Product= White Chocolate Macadamia Nut <br>Units Sold=%{x}<br>Revenue=%{y}<extra></extra>\",\"legendgroup\":\" White Chocolate Macadamia Nut \",\"marker\":{\"color\":\"#8C564B\",\"symbol\":\"circle\"},\"mode\":\"markers\",\"name\":\" White Chocolate Macadamia Nut \",\"orientation\":\"v\",\"showlegend\":true,\"x\":[345,2092,2646,1916,269,704,1033,1221,2076,386,2805,2966,809,588,660,2536,2145,544,655,344,2605,663,736,1421,2294,2574,2438,923,2009,3851,2431,952,1262,1135,1582,598,3794,567,1269,384,1808,2632,1804,639,3864,1055,2177,1579,1496,1659,1976,1967,639,853,3998,1190,2826,663,2161,1006,1545,2877,807,1250,1530,1001,2087,2338,1307,681,510,241,2665,472,1013,1493,362,1084,2861,1498,1333,609,635,245,2110,2628,1395,905,604,410,1575,500,2821,1566,1465,555,602,2832,861,2755,547,1372,2907,790,1596,986,606,2460,914],\"xaxis\":\"x\",\"y\":[2070,12552,15876,11496,1614,4224,6198,7326,12456,2316,16830,17796,4854,3528,3960,15216,12870,3264,3930,2064,15630,3978,4416,8526,13764,15444,14628,5538,12054,23106,14586,5712,7572,6810,9492,3588,22764,3402,7614,2304,10848,15792,10824,3834,23184,6330,13062,9474,8976,9954,11856,11802,3834,5118,23988,7140,16956,3978,12966,6036,9270,17262,4842,7500,9180,6006,12522,14028,7842,4086,3060,1446,15990,2832,6078,8958,2172,6504,17166,8988,7998,3654,3810,1470,12660,15768,8370,5430,3624,2460,9450,3000,16926,9396,8790,3330,3612,16992,5166,16530,3282,8232,17442,4740,9576,5916,3636,14760,5484],\"yaxis\":\"y\",\"type\":\"scatter\"},{\"alignmentgroup\":\"True\",\"hovertemplate\":\"Product= White Chocolate Macadamia Nut <br>Units Sold=%{x}<extra></extra>\",\"legendgroup\":\" White Chocolate Macadamia Nut \",\"marker\":{\"color\":\"#8C564B\",\"symbol\":\"circle\"},\"name\":\" White Chocolate Macadamia Nut \",\"notched\":true,\"offsetgroup\":\" White Chocolate Macadamia Nut \",\"showlegend\":false,\"x\":[345,2092,2646,1916,269,704,1033,1221,2076,386,2805,2966,809,588,660,2536,2145,544,655,344,2605,663,736,1421,2294,2574,2438,923,2009,3851,2431,952,1262,1135,1582,598,3794,567,1269,384,1808,2632,1804,639,3864,1055,2177,1579,1496,1659,1976,1967,639,853,3998,1190,2826,663,2161,1006,1545,2877,807,1250,1530,1001,2087,2338,1307,681,510,241,2665,472,1013,1493,362,1084,2861,1498,1333,609,635,245,2110,2628,1395,905,604,410,1575,500,2821,1566,1465,555,602,2832,861,2755,547,1372,2907,790,1596,986,606,2460,914],\"xaxis\":\"x3\",\"yaxis\":\"y3\",\"type\":\"box\"},{\"alignmentgroup\":\"True\",\"hovertemplate\":\"Product= White Chocolate Macadamia Nut <br>Revenue=%{y}<extra></extra>\",\"legendgroup\":\" White Chocolate Macadamia Nut \",\"marker\":{\"color\":\"#8C564B\",\"symbol\":\"circle\"},\"name\":\" White Chocolate Macadamia Nut \",\"offsetgroup\":\" White Chocolate Macadamia Nut \",\"scalegroup\":\"y\",\"showlegend\":false,\"xaxis\":\"x2\",\"y\":[2070,12552,15876,11496,1614,4224,6198,7326,12456,2316,16830,17796,4854,3528,3960,15216,12870,3264,3930,2064,15630,3978,4416,8526,13764,15444,14628,5538,12054,23106,14586,5712,7572,6810,9492,3588,22764,3402,7614,2304,10848,15792,10824,3834,23184,6330,13062,9474,8976,9954,11856,11802,3834,5118,23988,7140,16956,3978,12966,6036,9270,17262,4842,7500,9180,6006,12522,14028,7842,4086,3060,1446,15990,2832,6078,8958,2172,6504,17166,8988,7998,3654,3810,1470,12660,15768,8370,5430,3624,2460,9450,3000,16926,9396,8790,3330,3612,16992,5166,16530,3282,8232,17442,4740,9576,5916,3636,14760,5484],\"yaxis\":\"y2\",\"type\":\"violin\"},{\"hovertemplate\":\"<b>OLS trendline</b><br>Revenue = 6 * Units Sold + -8.52651e-13<br>R<sup>2</sup>=1.000000<br><br>Product= White Chocolate Macadamia Nut <br>Units Sold=%{x}<br>Revenue=%{y} <b>(trend)</b><extra></extra>\",\"legendgroup\":\" White Chocolate Macadamia Nut \",\"marker\":{\"color\":\"#8C564B\",\"symbol\":\"circle\"},\"mode\":\"lines\",\"name\":\" White Chocolate Macadamia Nut \",\"showlegend\":false,\"x\":[241,245,269,344,345,362,384,386,410,472,500,510,544,547,555,567,588,598,602,604,606,609,635,639,639,655,660,663,663,681,704,736,790,807,809,853,861,905,914,923,952,986,1001,1006,1013,1033,1055,1084,1135,1190,1221,1250,1262,1269,1307,1333,1372,1395,1421,1465,1493,1496,1498,1530,1545,1566,1575,1579,1582,1596,1659,1804,1808,1916,1967,1976,2009,2076,2087,2092,2110,2145,2161,2177,2294,2338,2431,2438,2460,2536,2574,2605,2628,2632,2646,2665,2755,2805,2821,2826,2832,2861,2877,2907,2966,3794,3851,3864,3998],\"xaxis\":\"x\",\"y\":[1445.999999999999,1469.999999999999,1613.999999999999,2063.999999999999,2069.999999999999,2171.999999999999,2303.999999999999,2315.999999999999,2459.999999999999,2831.999999999999,2999.999999999999,3059.999999999999,3263.999999999999,3281.999999999999,3329.999999999999,3401.999999999999,3527.999999999999,3587.999999999999,3611.999999999999,3623.999999999999,3635.999999999999,3653.999999999999,3809.999999999999,3833.999999999999,3833.999999999999,3929.999999999999,3959.999999999999,3977.999999999999,3977.999999999999,4085.999999999999,4223.999999999999,4415.999999999999,4739.999999999999,4841.999999999999,4853.999999999999,5117.999999999999,5165.999999999999,5429.999999999999,5483.999999999999,5537.999999999999,5711.999999999999,5915.999999999999,6005.999999999999,6035.999999999999,6077.999999999999,6197.999999999999,6329.999999999999,6503.999999999999,6809.999999999999,7139.999999999999,7325.999999999999,7499.999999999999,7571.999999999999,7613.999999999999,7841.999999999999,7997.999999999999,8232.0,8370.0,8526.0,8790.0,8958.0,8976.0,8988.0,9180.0,9270.0,9396.0,9450.0,9474.0,9492.0,9576.0,9954.0,10824.0,10848.0,11496.0,11802.0,11856.0,12054.0,12456.0,12522.0,12552.0,12660.0,12870.0,12966.0,13062.0,13764.0,14028.0,14586.0,14628.0,14760.0,15216.0,15444.0,15630.0,15768.0,15792.0,15876.0,15990.0,16530.0,16830.0,16926.0,16956.0,16992.0,17166.0,17262.0,17442.0,17796.0,22764.0,23106.0,23184.0,23988.0],\"yaxis\":\"y\",\"type\":\"scatter\"}],                        {\"template\":{\"data\":{\"barpolar\":[{\"marker\":{\"line\":{\"color\":\"white\",\"width\":0.5},\"pattern\":{\"fillmode\":\"overlay\",\"size\":10,\"solidity\":0.2}},\"type\":\"barpolar\"}],\"bar\":[{\"error_x\":{\"color\":\"rgb(36,36,36)\"},\"error_y\":{\"color\":\"rgb(36,36,36)\"},\"marker\":{\"line\":{\"color\":\"white\",\"width\":0.5},\"pattern\":{\"fillmode\":\"overlay\",\"size\":10,\"solidity\":0.2}},\"type\":\"bar\"}],\"carpet\":[{\"aaxis\":{\"endlinecolor\":\"rgb(36,36,36)\",\"gridcolor\":\"white\",\"linecolor\":\"white\",\"minorgridcolor\":\"white\",\"startlinecolor\":\"rgb(36,36,36)\"},\"baxis\":{\"endlinecolor\":\"rgb(36,36,36)\",\"gridcolor\":\"white\",\"linecolor\":\"white\",\"minorgridcolor\":\"white\",\"startlinecolor\":\"rgb(36,36,36)\"},\"type\":\"carpet\"}],\"choropleth\":[{\"colorbar\":{\"outlinewidth\":1,\"tickcolor\":\"rgb(36,36,36)\",\"ticks\":\"outside\"},\"type\":\"choropleth\"}],\"contourcarpet\":[{\"colorbar\":{\"outlinewidth\":1,\"tickcolor\":\"rgb(36,36,36)\",\"ticks\":\"outside\"},\"type\":\"contourcarpet\"}],\"contour\":[{\"colorbar\":{\"outlinewidth\":1,\"tickcolor\":\"rgb(36,36,36)\",\"ticks\":\"outside\"},\"colorscale\":[[0.0,\"#440154\"],[0.1111111111111111,\"#482878\"],[0.2222222222222222,\"#3e4989\"],[0.3333333333333333,\"#31688e\"],[0.4444444444444444,\"#26828e\"],[0.5555555555555556,\"#1f9e89\"],[0.6666666666666666,\"#35b779\"],[0.7777777777777778,\"#6ece58\"],[0.8888888888888888,\"#b5de2b\"],[1.0,\"#fde725\"]],\"type\":\"contour\"}],\"heatmapgl\":[{\"colorbar\":{\"outlinewidth\":1,\"tickcolor\":\"rgb(36,36,36)\",\"ticks\":\"outside\"},\"colorscale\":[[0.0,\"#440154\"],[0.1111111111111111,\"#482878\"],[0.2222222222222222,\"#3e4989\"],[0.3333333333333333,\"#31688e\"],[0.4444444444444444,\"#26828e\"],[0.5555555555555556,\"#1f9e89\"],[0.6666666666666666,\"#35b779\"],[0.7777777777777778,\"#6ece58\"],[0.8888888888888888,\"#b5de2b\"],[1.0,\"#fde725\"]],\"type\":\"heatmapgl\"}],\"heatmap\":[{\"colorbar\":{\"outlinewidth\":1,\"tickcolor\":\"rgb(36,36,36)\",\"ticks\":\"outside\"},\"colorscale\":[[0.0,\"#440154\"],[0.1111111111111111,\"#482878\"],[0.2222222222222222,\"#3e4989\"],[0.3333333333333333,\"#31688e\"],[0.4444444444444444,\"#26828e\"],[0.5555555555555556,\"#1f9e89\"],[0.6666666666666666,\"#35b779\"],[0.7777777777777778,\"#6ece58\"],[0.8888888888888888,\"#b5de2b\"],[1.0,\"#fde725\"]],\"type\":\"heatmap\"}],\"histogram2dcontour\":[{\"colorbar\":{\"outlinewidth\":1,\"tickcolor\":\"rgb(36,36,36)\",\"ticks\":\"outside\"},\"colorscale\":[[0.0,\"#440154\"],[0.1111111111111111,\"#482878\"],[0.2222222222222222,\"#3e4989\"],[0.3333333333333333,\"#31688e\"],[0.4444444444444444,\"#26828e\"],[0.5555555555555556,\"#1f9e89\"],[0.6666666666666666,\"#35b779\"],[0.7777777777777778,\"#6ece58\"],[0.8888888888888888,\"#b5de2b\"],[1.0,\"#fde725\"]],\"type\":\"histogram2dcontour\"}],\"histogram2d\":[{\"colorbar\":{\"outlinewidth\":1,\"tickcolor\":\"rgb(36,36,36)\",\"ticks\":\"outside\"},\"colorscale\":[[0.0,\"#440154\"],[0.1111111111111111,\"#482878\"],[0.2222222222222222,\"#3e4989\"],[0.3333333333333333,\"#31688e\"],[0.4444444444444444,\"#26828e\"],[0.5555555555555556,\"#1f9e89\"],[0.6666666666666666,\"#35b779\"],[0.7777777777777778,\"#6ece58\"],[0.8888888888888888,\"#b5de2b\"],[1.0,\"#fde725\"]],\"type\":\"histogram2d\"}],\"histogram\":[{\"marker\":{\"line\":{\"color\":\"white\",\"width\":0.6}},\"type\":\"histogram\"}],\"mesh3d\":[{\"colorbar\":{\"outlinewidth\":1,\"tickcolor\":\"rgb(36,36,36)\",\"ticks\":\"outside\"},\"type\":\"mesh3d\"}],\"parcoords\":[{\"line\":{\"colorbar\":{\"outlinewidth\":1,\"tickcolor\":\"rgb(36,36,36)\",\"ticks\":\"outside\"}},\"type\":\"parcoords\"}],\"pie\":[{\"automargin\":true,\"type\":\"pie\"}],\"scatter3d\":[{\"line\":{\"colorbar\":{\"outlinewidth\":1,\"tickcolor\":\"rgb(36,36,36)\",\"ticks\":\"outside\"}},\"marker\":{\"colorbar\":{\"outlinewidth\":1,\"tickcolor\":\"rgb(36,36,36)\",\"ticks\":\"outside\"}},\"type\":\"scatter3d\"}],\"scattercarpet\":[{\"marker\":{\"colorbar\":{\"outlinewidth\":1,\"tickcolor\":\"rgb(36,36,36)\",\"ticks\":\"outside\"}},\"type\":\"scattercarpet\"}],\"scattergeo\":[{\"marker\":{\"colorbar\":{\"outlinewidth\":1,\"tickcolor\":\"rgb(36,36,36)\",\"ticks\":\"outside\"}},\"type\":\"scattergeo\"}],\"scattergl\":[{\"marker\":{\"colorbar\":{\"outlinewidth\":1,\"tickcolor\":\"rgb(36,36,36)\",\"ticks\":\"outside\"}},\"type\":\"scattergl\"}],\"scattermapbox\":[{\"marker\":{\"colorbar\":{\"outlinewidth\":1,\"tickcolor\":\"rgb(36,36,36)\",\"ticks\":\"outside\"}},\"type\":\"scattermapbox\"}],\"scatterpolargl\":[{\"marker\":{\"colorbar\":{\"outlinewidth\":1,\"tickcolor\":\"rgb(36,36,36)\",\"ticks\":\"outside\"}},\"type\":\"scatterpolargl\"}],\"scatterpolar\":[{\"marker\":{\"colorbar\":{\"outlinewidth\":1,\"tickcolor\":\"rgb(36,36,36)\",\"ticks\":\"outside\"}},\"type\":\"scatterpolar\"}],\"scatter\":[{\"fillpattern\":{\"fillmode\":\"overlay\",\"size\":10,\"solidity\":0.2},\"type\":\"scatter\"}],\"scatterternary\":[{\"marker\":{\"colorbar\":{\"outlinewidth\":1,\"tickcolor\":\"rgb(36,36,36)\",\"ticks\":\"outside\"}},\"type\":\"scatterternary\"}],\"surface\":[{\"colorbar\":{\"outlinewidth\":1,\"tickcolor\":\"rgb(36,36,36)\",\"ticks\":\"outside\"},\"colorscale\":[[0.0,\"#440154\"],[0.1111111111111111,\"#482878\"],[0.2222222222222222,\"#3e4989\"],[0.3333333333333333,\"#31688e\"],[0.4444444444444444,\"#26828e\"],[0.5555555555555556,\"#1f9e89\"],[0.6666666666666666,\"#35b779\"],[0.7777777777777778,\"#6ece58\"],[0.8888888888888888,\"#b5de2b\"],[1.0,\"#fde725\"]],\"type\":\"surface\"}],\"table\":[{\"cells\":{\"fill\":{\"color\":\"rgb(237,237,237)\"},\"line\":{\"color\":\"white\"}},\"header\":{\"fill\":{\"color\":\"rgb(217,217,217)\"},\"line\":{\"color\":\"white\"}},\"type\":\"table\"}]},\"layout\":{\"annotationdefaults\":{\"arrowhead\":0,\"arrowwidth\":1},\"autotypenumbers\":\"strict\",\"coloraxis\":{\"colorbar\":{\"outlinewidth\":1,\"tickcolor\":\"rgb(36,36,36)\",\"ticks\":\"outside\"}},\"colorscale\":{\"diverging\":[[0.0,\"rgb(103,0,31)\"],[0.1,\"rgb(178,24,43)\"],[0.2,\"rgb(214,96,77)\"],[0.3,\"rgb(244,165,130)\"],[0.4,\"rgb(253,219,199)\"],[0.5,\"rgb(247,247,247)\"],[0.6,\"rgb(209,229,240)\"],[0.7,\"rgb(146,197,222)\"],[0.8,\"rgb(67,147,195)\"],[0.9,\"rgb(33,102,172)\"],[1.0,\"rgb(5,48,97)\"]],\"sequential\":[[0.0,\"#440154\"],[0.1111111111111111,\"#482878\"],[0.2222222222222222,\"#3e4989\"],[0.3333333333333333,\"#31688e\"],[0.4444444444444444,\"#26828e\"],[0.5555555555555556,\"#1f9e89\"],[0.6666666666666666,\"#35b779\"],[0.7777777777777778,\"#6ece58\"],[0.8888888888888888,\"#b5de2b\"],[1.0,\"#fde725\"]],\"sequentialminus\":[[0.0,\"#440154\"],[0.1111111111111111,\"#482878\"],[0.2222222222222222,\"#3e4989\"],[0.3333333333333333,\"#31688e\"],[0.4444444444444444,\"#26828e\"],[0.5555555555555556,\"#1f9e89\"],[0.6666666666666666,\"#35b779\"],[0.7777777777777778,\"#6ece58\"],[0.8888888888888888,\"#b5de2b\"],[1.0,\"#fde725\"]]},\"colorway\":[\"#1F77B4\",\"#FF7F0E\",\"#2CA02C\",\"#D62728\",\"#9467BD\",\"#8C564B\",\"#E377C2\",\"#7F7F7F\",\"#BCBD22\",\"#17BECF\"],\"font\":{\"color\":\"rgb(36,36,36)\"},\"geo\":{\"bgcolor\":\"white\",\"lakecolor\":\"white\",\"landcolor\":\"white\",\"showlakes\":true,\"showland\":true,\"subunitcolor\":\"white\"},\"hoverlabel\":{\"align\":\"left\"},\"hovermode\":\"closest\",\"mapbox\":{\"style\":\"light\"},\"paper_bgcolor\":\"white\",\"plot_bgcolor\":\"white\",\"polar\":{\"angularaxis\":{\"gridcolor\":\"rgb(232,232,232)\",\"linecolor\":\"rgb(36,36,36)\",\"showgrid\":false,\"showline\":true,\"ticks\":\"outside\"},\"bgcolor\":\"white\",\"radialaxis\":{\"gridcolor\":\"rgb(232,232,232)\",\"linecolor\":\"rgb(36,36,36)\",\"showgrid\":false,\"showline\":true,\"ticks\":\"outside\"}},\"scene\":{\"xaxis\":{\"backgroundcolor\":\"white\",\"gridcolor\":\"rgb(232,232,232)\",\"gridwidth\":2,\"linecolor\":\"rgb(36,36,36)\",\"showbackground\":true,\"showgrid\":false,\"showline\":true,\"ticks\":\"outside\",\"zeroline\":false,\"zerolinecolor\":\"rgb(36,36,36)\"},\"yaxis\":{\"backgroundcolor\":\"white\",\"gridcolor\":\"rgb(232,232,232)\",\"gridwidth\":2,\"linecolor\":\"rgb(36,36,36)\",\"showbackground\":true,\"showgrid\":false,\"showline\":true,\"ticks\":\"outside\",\"zeroline\":false,\"zerolinecolor\":\"rgb(36,36,36)\"},\"zaxis\":{\"backgroundcolor\":\"white\",\"gridcolor\":\"rgb(232,232,232)\",\"gridwidth\":2,\"linecolor\":\"rgb(36,36,36)\",\"showbackground\":true,\"showgrid\":false,\"showline\":true,\"ticks\":\"outside\",\"zeroline\":false,\"zerolinecolor\":\"rgb(36,36,36)\"}},\"shapedefaults\":{\"fillcolor\":\"black\",\"line\":{\"width\":0},\"opacity\":0.3},\"ternary\":{\"aaxis\":{\"gridcolor\":\"rgb(232,232,232)\",\"linecolor\":\"rgb(36,36,36)\",\"showgrid\":false,\"showline\":true,\"ticks\":\"outside\"},\"baxis\":{\"gridcolor\":\"rgb(232,232,232)\",\"linecolor\":\"rgb(36,36,36)\",\"showgrid\":false,\"showline\":true,\"ticks\":\"outside\"},\"bgcolor\":\"white\",\"caxis\":{\"gridcolor\":\"rgb(232,232,232)\",\"linecolor\":\"rgb(36,36,36)\",\"showgrid\":false,\"showline\":true,\"ticks\":\"outside\"}},\"title\":{\"x\":0.05},\"xaxis\":{\"automargin\":true,\"gridcolor\":\"rgb(232,232,232)\",\"linecolor\":\"rgb(36,36,36)\",\"showgrid\":false,\"showline\":true,\"ticks\":\"outside\",\"title\":{\"standoff\":15},\"zeroline\":false,\"zerolinecolor\":\"rgb(36,36,36)\"},\"yaxis\":{\"automargin\":true,\"gridcolor\":\"rgb(232,232,232)\",\"linecolor\":\"rgb(36,36,36)\",\"showgrid\":false,\"showline\":true,\"ticks\":\"outside\",\"title\":{\"standoff\":15},\"zeroline\":false,\"zerolinecolor\":\"rgb(36,36,36)\"}}},\"xaxis\":{\"anchor\":\"y\",\"domain\":[0.0,0.7363],\"title\":{\"text\":\"Units Sold\"}},\"yaxis\":{\"anchor\":\"x\",\"domain\":[0.0,0.7326],\"title\":{\"text\":\"Revenue\"}},\"xaxis2\":{\"anchor\":\"y2\",\"domain\":[0.7413,1.0],\"matches\":\"x2\",\"showticklabels\":false,\"showline\":false,\"ticks\":\"\"},\"yaxis2\":{\"anchor\":\"x2\",\"domain\":[0.0,0.7326],\"matches\":\"y\",\"showticklabels\":false},\"xaxis3\":{\"anchor\":\"y3\",\"domain\":[0.0,0.7363],\"matches\":\"x\",\"showticklabels\":false},\"yaxis3\":{\"anchor\":\"x3\",\"domain\":[0.7426,1.0],\"matches\":\"y3\",\"showticklabels\":false,\"showline\":false,\"ticks\":\"\"},\"xaxis4\":{\"anchor\":\"y4\",\"domain\":[0.7413,1.0],\"matches\":\"x2\",\"showticklabels\":false,\"showline\":false,\"ticks\":\"\"},\"yaxis4\":{\"anchor\":\"x4\",\"domain\":[0.7426,1.0],\"matches\":\"y3\",\"showticklabels\":false,\"showline\":false,\"ticks\":\"\"},\"legend\":{\"title\":{\"text\":\"Product\"},\"tracegroupgap\":0},\"margin\":{\"t\":60}},                        {\"responsive\": true}                    ).then(function(){\n",
       "                            \n",
       "var gd = document.getElementById('2257a889-f80e-4a61-9400-07be334bb321');\n",
       "var x = new MutationObserver(function (mutations, observer) {{\n",
       "        var display = window.getComputedStyle(gd).display;\n",
       "        if (!display || display === 'none') {{\n",
       "            console.log([gd, 'removed!']);\n",
       "            Plotly.purge(gd);\n",
       "            observer.disconnect();\n",
       "        }}\n",
       "}});\n",
       "\n",
       "// Listen for the removal of the full notebook cells\n",
       "var notebookContainer = gd.closest('#notebook-container');\n",
       "if (notebookContainer) {{\n",
       "    x.observe(notebookContainer, {childList: true});\n",
       "}}\n",
       "\n",
       "// Listen for the clearing of the current output cell\n",
       "var outputEl = gd.closest('.output');\n",
       "if (outputEl) {{\n",
       "    x.observe(outputEl, {childList: true});\n",
       "}}\n",
       "\n",
       "                        })                };                });            </script>        </div>"
      ]
     },
     "metadata": {},
     "output_type": "display_data"
    }
   ],
   "source": [
    "fig = px.scatter(df, x=\"Units Sold\", y=\"Revenue\", color=\"Product\", marginal_y=\"violin\",\n",
    "           marginal_x=\"box\", trendline=\"ols\", template=\"simple_white\")\n",
    "fig.show()"
   ]
  },
  {
   "cell_type": "markdown",
   "id": "acb3db9c",
   "metadata": {},
   "source": [
    "# 2. Data Analysis : Inferential Statistics"
   ]
  },
  {
   "cell_type": "code",
   "execution_count": 122,
   "id": "8ae7aeaf",
   "metadata": {},
   "outputs": [
    {
     "data": {
      "text/html": [
       "<div>\n",
       "<style scoped>\n",
       "    .dataframe tbody tr th:only-of-type {\n",
       "        vertical-align: middle;\n",
       "    }\n",
       "\n",
       "    .dataframe tbody tr th {\n",
       "        vertical-align: top;\n",
       "    }\n",
       "\n",
       "    .dataframe thead th {\n",
       "        text-align: right;\n",
       "    }\n",
       "</style>\n",
       "<table border=\"1\" class=\"dataframe\">\n",
       "  <thead>\n",
       "    <tr style=\"text-align: right;\">\n",
       "      <th></th>\n",
       "      <th>Country</th>\n",
       "      <th>Product</th>\n",
       "      <th>Revenue</th>\n",
       "      <th>Units Sold</th>\n",
       "      <th>Price</th>\n",
       "    </tr>\n",
       "  </thead>\n",
       "  <tbody>\n",
       "    <tr>\n",
       "      <th>0</th>\n",
       "      <td>India</td>\n",
       "      <td>Chocolate Chip</td>\n",
       "      <td>9308.571429</td>\n",
       "      <td>1861.714286</td>\n",
       "      <td>5.0</td>\n",
       "    </tr>\n",
       "    <tr>\n",
       "      <th>1</th>\n",
       "      <td>India</td>\n",
       "      <td>Fortune Cookie</td>\n",
       "      <td>1749.444444</td>\n",
       "      <td>1749.444444</td>\n",
       "      <td>1.0</td>\n",
       "    </tr>\n",
       "    <tr>\n",
       "      <th>2</th>\n",
       "      <td>India</td>\n",
       "      <td>Oatmeal Raisin</td>\n",
       "      <td>8120.277778</td>\n",
       "      <td>1624.055556</td>\n",
       "      <td>5.0</td>\n",
       "    </tr>\n",
       "    <tr>\n",
       "      <th>3</th>\n",
       "      <td>India</td>\n",
       "      <td>Snickerdoodle</td>\n",
       "      <td>6961.000000</td>\n",
       "      <td>1740.250000</td>\n",
       "      <td>4.0</td>\n",
       "    </tr>\n",
       "    <tr>\n",
       "      <th>4</th>\n",
       "      <td>India</td>\n",
       "      <td>Sugar</td>\n",
       "      <td>5625.000000</td>\n",
       "      <td>1875.000000</td>\n",
       "      <td>3.0</td>\n",
       "    </tr>\n",
       "    <tr>\n",
       "      <th>5</th>\n",
       "      <td>India</td>\n",
       "      <td>White Chocolate Macadamia Nut</td>\n",
       "      <td>9739.500000</td>\n",
       "      <td>1623.250000</td>\n",
       "      <td>6.0</td>\n",
       "    </tr>\n",
       "    <tr>\n",
       "      <th>6</th>\n",
       "      <td>Malaysia</td>\n",
       "      <td>Chocolate Chip</td>\n",
       "      <td>7910.250000</td>\n",
       "      <td>1582.050000</td>\n",
       "      <td>5.0</td>\n",
       "    </tr>\n",
       "    <tr>\n",
       "      <th>7</th>\n",
       "      <td>Malaysia</td>\n",
       "      <td>Fortune Cookie</td>\n",
       "      <td>1587.700000</td>\n",
       "      <td>1587.700000</td>\n",
       "      <td>1.0</td>\n",
       "    </tr>\n",
       "    <tr>\n",
       "      <th>8</th>\n",
       "      <td>Malaysia</td>\n",
       "      <td>Oatmeal Raisin</td>\n",
       "      <td>7099.000000</td>\n",
       "      <td>1419.800000</td>\n",
       "      <td>5.0</td>\n",
       "    </tr>\n",
       "    <tr>\n",
       "      <th>9</th>\n",
       "      <td>Malaysia</td>\n",
       "      <td>Snickerdoodle</td>\n",
       "      <td>6049.777778</td>\n",
       "      <td>1512.444444</td>\n",
       "      <td>4.0</td>\n",
       "    </tr>\n",
       "    <tr>\n",
       "      <th>10</th>\n",
       "      <td>Malaysia</td>\n",
       "      <td>Sugar</td>\n",
       "      <td>3919.350000</td>\n",
       "      <td>1306.450000</td>\n",
       "      <td>3.0</td>\n",
       "    </tr>\n",
       "    <tr>\n",
       "      <th>11</th>\n",
       "      <td>Malaysia</td>\n",
       "      <td>White Chocolate Macadamia Nut</td>\n",
       "      <td>7238.181818</td>\n",
       "      <td>1206.363636</td>\n",
       "      <td>6.0</td>\n",
       "    </tr>\n",
       "    <tr>\n",
       "      <th>12</th>\n",
       "      <td>Philippines</td>\n",
       "      <td>Chocolate Chip</td>\n",
       "      <td>6961.750000</td>\n",
       "      <td>1392.350000</td>\n",
       "      <td>5.0</td>\n",
       "    </tr>\n",
       "    <tr>\n",
       "      <th>13</th>\n",
       "      <td>Philippines</td>\n",
       "      <td>Fortune Cookie</td>\n",
       "      <td>1558.944444</td>\n",
       "      <td>1558.944444</td>\n",
       "      <td>1.0</td>\n",
       "    </tr>\n",
       "    <tr>\n",
       "      <th>14</th>\n",
       "      <td>Philippines</td>\n",
       "      <td>Oatmeal Raisin</td>\n",
       "      <td>8504.166667</td>\n",
       "      <td>1700.833333</td>\n",
       "      <td>5.0</td>\n",
       "    </tr>\n",
       "    <tr>\n",
       "      <th>15</th>\n",
       "      <td>Philippines</td>\n",
       "      <td>Snickerdoodle</td>\n",
       "      <td>4988.800000</td>\n",
       "      <td>1247.200000</td>\n",
       "      <td>4.0</td>\n",
       "    </tr>\n",
       "    <tr>\n",
       "      <th>16</th>\n",
       "      <td>Philippines</td>\n",
       "      <td>Sugar</td>\n",
       "      <td>4245.136364</td>\n",
       "      <td>1415.045455</td>\n",
       "      <td>3.0</td>\n",
       "    </tr>\n",
       "    <tr>\n",
       "      <th>17</th>\n",
       "      <td>Philippines</td>\n",
       "      <td>White Chocolate Macadamia Nut</td>\n",
       "      <td>8468.181818</td>\n",
       "      <td>1411.363636</td>\n",
       "      <td>6.0</td>\n",
       "    </tr>\n",
       "    <tr>\n",
       "      <th>18</th>\n",
       "      <td>United Kingdom</td>\n",
       "      <td>Chocolate Chip</td>\n",
       "      <td>8950.875000</td>\n",
       "      <td>1790.175000</td>\n",
       "      <td>5.0</td>\n",
       "    </tr>\n",
       "    <tr>\n",
       "      <th>19</th>\n",
       "      <td>United Kingdom</td>\n",
       "      <td>Fortune Cookie</td>\n",
       "      <td>1564.150000</td>\n",
       "      <td>1564.150000</td>\n",
       "      <td>1.0</td>\n",
       "    </tr>\n",
       "    <tr>\n",
       "      <th>20</th>\n",
       "      <td>United Kingdom</td>\n",
       "      <td>Oatmeal Raisin</td>\n",
       "      <td>8778.888889</td>\n",
       "      <td>1755.777778</td>\n",
       "      <td>5.0</td>\n",
       "    </tr>\n",
       "    <tr>\n",
       "      <th>21</th>\n",
       "      <td>United Kingdom</td>\n",
       "      <td>Snickerdoodle</td>\n",
       "      <td>7568.222222</td>\n",
       "      <td>1892.055556</td>\n",
       "      <td>4.0</td>\n",
       "    </tr>\n",
       "    <tr>\n",
       "      <th>22</th>\n",
       "      <td>United Kingdom</td>\n",
       "      <td>Sugar</td>\n",
       "      <td>4878.545455</td>\n",
       "      <td>1626.181818</td>\n",
       "      <td>3.0</td>\n",
       "    </tr>\n",
       "    <tr>\n",
       "      <th>23</th>\n",
       "      <td>United Kingdom</td>\n",
       "      <td>White Chocolate Macadamia Nut</td>\n",
       "      <td>9984.545455</td>\n",
       "      <td>1664.090909</td>\n",
       "      <td>6.0</td>\n",
       "    </tr>\n",
       "    <tr>\n",
       "      <th>24</th>\n",
       "      <td>United States</td>\n",
       "      <td>Chocolate Chip</td>\n",
       "      <td>8683.500000</td>\n",
       "      <td>1736.700000</td>\n",
       "      <td>5.0</td>\n",
       "    </tr>\n",
       "    <tr>\n",
       "      <th>25</th>\n",
       "      <td>United States</td>\n",
       "      <td>Fortune Cookie</td>\n",
       "      <td>1859.588235</td>\n",
       "      <td>1859.588235</td>\n",
       "      <td>1.0</td>\n",
       "    </tr>\n",
       "    <tr>\n",
       "      <th>26</th>\n",
       "      <td>United States</td>\n",
       "      <td>Oatmeal Raisin</td>\n",
       "      <td>8867.500000</td>\n",
       "      <td>1773.500000</td>\n",
       "      <td>5.0</td>\n",
       "    </tr>\n",
       "    <tr>\n",
       "      <th>27</th>\n",
       "      <td>United States</td>\n",
       "      <td>Snickerdoodle</td>\n",
       "      <td>6075.058824</td>\n",
       "      <td>1518.764706</td>\n",
       "      <td>4.0</td>\n",
       "    </tr>\n",
       "    <tr>\n",
       "      <th>28</th>\n",
       "      <td>United States</td>\n",
       "      <td>Sugar</td>\n",
       "      <td>4500.130435</td>\n",
       "      <td>1500.043478</td>\n",
       "      <td>3.0</td>\n",
       "    </tr>\n",
       "    <tr>\n",
       "      <th>29</th>\n",
       "      <td>United States</td>\n",
       "      <td>White Chocolate Macadamia Nut</td>\n",
       "      <td>9328.956522</td>\n",
       "      <td>1554.826087</td>\n",
       "      <td>6.0</td>\n",
       "    </tr>\n",
       "  </tbody>\n",
       "</table>\n",
       "</div>"
      ],
      "text/plain": [
       "           Country                          Product      Revenue   Units Sold  \\\n",
       "0            India                  Chocolate Chip   9308.571429  1861.714286   \n",
       "1            India                  Fortune Cookie   1749.444444  1749.444444   \n",
       "2            India                  Oatmeal Raisin   8120.277778  1624.055556   \n",
       "3            India                   Snickerdoodle   6961.000000  1740.250000   \n",
       "4            India                           Sugar   5625.000000  1875.000000   \n",
       "5            India   White Chocolate Macadamia Nut   9739.500000  1623.250000   \n",
       "6         Malaysia                  Chocolate Chip   7910.250000  1582.050000   \n",
       "7         Malaysia                  Fortune Cookie   1587.700000  1587.700000   \n",
       "8         Malaysia                  Oatmeal Raisin   7099.000000  1419.800000   \n",
       "9         Malaysia                   Snickerdoodle   6049.777778  1512.444444   \n",
       "10        Malaysia                           Sugar   3919.350000  1306.450000   \n",
       "11        Malaysia   White Chocolate Macadamia Nut   7238.181818  1206.363636   \n",
       "12     Philippines                  Chocolate Chip   6961.750000  1392.350000   \n",
       "13     Philippines                  Fortune Cookie   1558.944444  1558.944444   \n",
       "14     Philippines                  Oatmeal Raisin   8504.166667  1700.833333   \n",
       "15     Philippines                   Snickerdoodle   4988.800000  1247.200000   \n",
       "16     Philippines                           Sugar   4245.136364  1415.045455   \n",
       "17     Philippines   White Chocolate Macadamia Nut   8468.181818  1411.363636   \n",
       "18  United Kingdom                  Chocolate Chip   8950.875000  1790.175000   \n",
       "19  United Kingdom                  Fortune Cookie   1564.150000  1564.150000   \n",
       "20  United Kingdom                  Oatmeal Raisin   8778.888889  1755.777778   \n",
       "21  United Kingdom                   Snickerdoodle   7568.222222  1892.055556   \n",
       "22  United Kingdom                           Sugar   4878.545455  1626.181818   \n",
       "23  United Kingdom   White Chocolate Macadamia Nut   9984.545455  1664.090909   \n",
       "24   United States                  Chocolate Chip   8683.500000  1736.700000   \n",
       "25   United States                  Fortune Cookie   1859.588235  1859.588235   \n",
       "26   United States                  Oatmeal Raisin   8867.500000  1773.500000   \n",
       "27   United States                   Snickerdoodle   6075.058824  1518.764706   \n",
       "28   United States                           Sugar   4500.130435  1500.043478   \n",
       "29   United States   White Chocolate Macadamia Nut   9328.956522  1554.826087   \n",
       "\n",
       "    Price  \n",
       "0     5.0  \n",
       "1     1.0  \n",
       "2     5.0  \n",
       "3     4.0  \n",
       "4     3.0  \n",
       "5     6.0  \n",
       "6     5.0  \n",
       "7     1.0  \n",
       "8     5.0  \n",
       "9     4.0  \n",
       "10    3.0  \n",
       "11    6.0  \n",
       "12    5.0  \n",
       "13    1.0  \n",
       "14    5.0  \n",
       "15    4.0  \n",
       "16    3.0  \n",
       "17    6.0  \n",
       "18    5.0  \n",
       "19    1.0  \n",
       "20    5.0  \n",
       "21    4.0  \n",
       "22    3.0  \n",
       "23    6.0  \n",
       "24    5.0  \n",
       "25    1.0  \n",
       "26    5.0  \n",
       "27    4.0  \n",
       "28    3.0  \n",
       "29    6.0  "
      ]
     },
     "execution_count": 122,
     "metadata": {},
     "output_type": "execute_result"
    }
   ],
   "source": [
    "# finding price \n",
    "grouped_test1['Price'] = grouped_test1['Revenue']/grouped_test1['Units Sold']\n",
    "grouped_test1"
   ]
  },
  {
   "cell_type": "code",
   "execution_count": 66,
   "id": "19556817",
   "metadata": {},
   "outputs": [
    {
     "data": {
      "text/plain": [
       "ShapiroResult(statistic=0.969701886177063, pvalue=7.456370937353185e-11)"
      ]
     },
     "execution_count": 66,
     "metadata": {},
     "output_type": "execute_result"
    }
   ],
   "source": [
    "# Shapiro-Wilk Test : Null Hypothesis :: Data is Normally Distributed (p-value >= 5% by default)\n",
    "# Test of Normality of \"Units Sold\" data\n",
    "\n",
    "normality_test_shapiro = sps.shapiro(df['Units Sold']) \n",
    "normality_test_shapiro"
   ]
  },
  {
   "cell_type": "code",
   "execution_count": 81,
   "id": "833170a7",
   "metadata": {},
   "outputs": [
    {
     "data": {
      "image/png": "[encoded data removed]",
      "text/plain": [
       "<Figure size 640x480 with 1 Axes>"
      ]
     },
     "metadata": {},
     "output_type": "display_data"
    },
    {
     "data": {
      "image/png": "[encoded data removed]",
      "text/plain": [
       "<Figure size 640x480 with 1 Axes>"
      ]
     },
     "metadata": {},
     "output_type": "display_data"
    }
   ],
   "source": [
    "\n",
    "# Create a sample DataFrame with a normally distributed column\n",
    "df1 = pd.DataFrame({'normal': np.random.normal(size=1000)})\n",
    "\n",
    "# Plot a histogram of the data\n",
    "df1['normal'].plot(kind='hist', bins=30)\n",
    "plt.title('Histogram of normally distributed data')\n",
    "plt.show()\n",
    "\n",
    "# Create a QQ-plot of the data\n",
    "sm.qqplot(df1['normal'], line='s')\n",
    "plt.title('QQ-plot of normally distributed data')\n",
    "plt.show()\n",
    "#as the p vale is greater than 5 percent thus the data is normally distributed"
   ]
  },
  {
   "cell_type": "code",
   "execution_count": 84,
   "id": "deaea73e",
   "metadata": {},
   "outputs": [],
   "source": [
    "#distributing data on country wise\n",
    "df_India = df[df.Country == 'India'] # Subset df with country == India \n",
    "df_Malaysia = df[df.Country == 'Malaysia'] # Subset df with country == Malaysia \n",
    "df_UK = df[df.Country == 'United Kingdom'] # Subset df with country == UK\n",
    "df_US = df[df.Country == 'United States'] # Subset df with country == US\n",
    "df_Philippines = df[df.Country == 'Philippines'] # Subset df with country ==  Philippines "
   ]
  },
  {
   "cell_type": "code",
   "execution_count": 85,
   "id": "bbebbe27",
   "metadata": {},
   "outputs": [],
   "source": [
    "# ANOVA : Null Hypothesis :: Mean of Population 1 (Sample 1) = Mean of Population 2 (Sample 2) = ... = Mean of Population n (Sample n) | (p-value >= 5% by default)"
   ]
  },
  {
   "cell_type": "code",
   "execution_count": 123,
   "id": "e0e5e9bd",
   "metadata": {},
   "outputs": [
    {
     "name": "stdout",
     "output_type": "stream",
     "text": [
      "F_onewayResult(statistic=2.930245513815576, pvalue=0.02023964892685341)\n"
     ]
    }
   ],
   "source": [
    "# ANOVA Using Scipy\n",
    "mean_test_anova_scipy = sps.f_oneway(df_India.Revenue, df_Malaysia.Revenue,df_UK.Revenue,df_US.Revenue,df_Philippines.Revenue) # ANOVA\n",
    "print(mean_test_anova_scipy)\n"
   ]
  },
  {
   "cell_type": "code",
   "execution_count": 124,
   "id": "a7bac3c8",
   "metadata": {},
   "outputs": [
    {
     "name": "stdout",
     "output_type": "stream",
     "text": [
      "Tukey's HSD Pairwise Group Comparisons (95.0% Confidence Interval)\n",
      "Comparison  Statistic  p-value  Lower CI  Upper CI\n",
      " (0 - 1)   1355.057     0.100  -148.167  2858.282\n",
      " (0 - 2)    113.007     1.000 -1390.217  1616.232\n",
      " (0 - 3)    348.050     0.970 -1155.175  1851.275\n",
      " (0 - 4)   1337.857     0.108  -165.367  2841.082\n",
      " (1 - 0)  -1355.057     0.100 -2858.282   148.167\n",
      " (1 - 2)  -1242.050     0.159 -2745.275   261.175\n",
      " (1 - 3)  -1007.007     0.356 -2510.232   496.217\n",
      " (1 - 4)    -17.200     1.000 -1520.425  1486.025\n",
      " (2 - 0)   -113.007     1.000 -1616.232  1390.217\n",
      " (2 - 1)   1242.050     0.159  -261.175  2745.275\n",
      " (2 - 3)    235.043     0.993 -1268.182  1738.267\n",
      " (2 - 4)   1224.850     0.170  -278.375  2728.075\n",
      " (3 - 0)   -348.050     0.970 -1851.275  1155.175\n",
      " (3 - 1)   1007.007     0.356  -496.217  2510.232\n",
      " (3 - 2)   -235.043     0.993 -1738.267  1268.182\n",
      " (3 - 4)    989.807     0.374  -513.417  2493.032\n",
      " (4 - 0)  -1337.857     0.108 -2841.082   165.367\n",
      " (4 - 1)     17.200     1.000 -1486.025  1520.425\n",
      " (4 - 2)  -1224.850     0.170 -2728.075   278.375\n",
      " (4 - 3)   -989.807     0.374 -2493.032   513.417\n",
      "\n"
     ]
    }
   ],
   "source": [
    "mean_pairwise_compare_scipy = sps.tukey_hsd(df_India.Revenue, df_Malaysia.Revenue,df_UK.Revenue,df_US.Revenue,df_Philippines.Revenue) # Tukey HSD\n",
    "print(mean_pairwise_compare_scipy)"
   ]
  },
  {
   "cell_type": "code",
   "execution_count": 89,
   "id": "4031a64a",
   "metadata": {},
   "outputs": [
    {
     "name": "stdout",
     "output_type": "stream",
     "text": [
      "KruskalResult(statistic=11.399909045010766, pvalue=0.022418835928238703)\n"
     ]
    }
   ],
   "source": [
    "# Test of Median of Two or more Populations : Non Parametric Test :: Kruskal-Wallis Test\n",
    "# ++++++++++++++++++++++++++++++++++++++++++++++++++++++++++++++++++++++++++++++++++++++\n",
    "\n",
    "# Null Hypothesis : Median of Population 1 (Sample 1) = Median of Population 2 (Sample 2) = ... = Median of Population n (Sample n) | (p-value >= 5% by default)\n",
    "\n",
    "median_test_kruskal = sps.kruskal(df_India.Revenue, df_Malaysia.Revenue,df_UK.Revenue,df_US.Revenue,df_Philippines.Revenue)\n",
    "print(median_test_kruskal)\n",
    "# Inference : Median of countries are different  (p-value < 5%) "
   ]
  },
  {
   "cell_type": "code",
   "execution_count": 105,
   "id": "f42bf2da",
   "metadata": {},
   "outputs": [],
   "source": [
    "# Product category wise analysis \n",
    "df_cc = df[df.Product == 'Chocolate Chip'] # Subset df with Product == Chocochip\n",
    "df_fc = df[df.Product == 'Fortune Cookie'] # Subset df with Product == Fortune Cookie \n",
    "df_or = df[df.Product == 'Oatmeal Raisin'] # Subset df with Product == Oatmeal Raisin \n",
    "df_sn = df[df.Product == 'Snickerdoodle'] # Subset df with Product == Snickerdoodle\n",
    "df_su = df[df.Product == 'Sugar'] # Subset df with Product == Snickerdoodle\n",
    "df_wc = df[df.Product == 'White Chocolate Macadamia Nut'] # Subset df with Product ==  White Chocolate Macadamia Nut "
   ]
  },
  {
   "cell_type": "code",
   "execution_count": 108,
   "id": "075b9a8a",
   "metadata": {},
   "outputs": [
    {
     "name": "stdout",
     "output_type": "stream",
     "text": [
      "F_onewayResult(statistic=nan, pvalue=nan)\n"
     ]
    }
   ],
   "source": [
    "# ANOVA Using Scipy\n",
    "mean_test_anova_scipy_Productwise = sps.f_oneway(df_cc.Revenue, df_fc.Revenue,df_or.Revenue,df_sn.Revenue,df_su.Revenue,df_su.Revenue) # ANOVA\n",
    "print(mean_test_anova_scipy_Productwise)\n"
   ]
  },
  {
   "cell_type": "code",
   "execution_count": 110,
   "id": "1ceda8b4",
   "metadata": {},
   "outputs": [
    {
     "name": "stdout",
     "output_type": "stream",
     "text": [
      "KruskalResult(statistic=11.399909045010766, pvalue=0.022418835928238703)\n"
     ]
    }
   ],
   "source": [
    "# Test of Median of Two or more Populations : Non Parametric Test :: Kruskal-Wallis Test\n",
    "# ++++++++++++++++++++++++++++++++++++++++++++++++++++++++++++++++++++++++++++++++++++++\n",
    "\n",
    "# Null Hypothesis : Median of Population 1 (Sample 1) = Median of Population 2 (Sample 2) = ... = Median of Population n (Sample n) | (p-value >= 5% by default)\n",
    "\n",
    "median_test_kruskal = sps.kruskal(df_India.Revenue, df_Malaysia.Revenue,df_UK.Revenue,df_US.Revenue,df_Philippines.Revenue)\n",
    "print(median_test_kruskal)\n",
    "# Inference : Median of product revenue are Different (p-value < 5%) "
   ]
  },
  {
   "cell_type": "code",
   "execution_count": 111,
   "id": "c25ff549",
   "metadata": {},
   "outputs": [
    {
     "name": "stdout",
     "output_type": "stream",
     "text": [
      "PearsonRResult(statistic=0.9951625962307101, pvalue=0.0)\n"
     ]
    }
   ],
   "source": [
    "# Null Hyposesis : Correlation = 0 (p-value >= 5% by default)\n",
    "\n",
    "# Correlation between Car \"mpg\" and \"hp\"\n",
    "correlation_test_pearson = sps.pearsonr(df.Revenue, df.Profit)\n",
    "correlation_test_spearman = sps.spearmanr(df.Revenue, df.Profit)\n",
    "print(correlation_test_pearson)\n",
    "# Inference : revenue and profit are positively related (p value <5%)"
   ]
  },
  {
   "cell_type": "code",
   "execution_count": 112,
   "id": "d29f53a7",
   "metadata": {},
   "outputs": [
    {
     "name": "stdout",
     "output_type": "stream",
     "text": [
      "SpearmanrResult(correlation=0.9954861153567501, pvalue=0.0)\n"
     ]
    }
   ],
   "source": [
    "print(correlation_test_spearman)"
   ]
  },
  {
   "cell_type": "markdown",
   "id": "9e998df6",
   "metadata": {},
   "source": [
    "## Observations "
   ]
  },
  {
   "cell_type": "markdown",
   "id": "b3fcbaf5",
   "metadata": {},
   "source": [
    "1.\tPrice of all the product category are same throughout the countries - Chocochip 5 perunit , Fortune Cookie - 1 per unit, Oatmeal raisin 5 per unit, Snickerdoodle 4 per unit sugar 3 per unit and White chocolate 6 per unit\n",
    "2.\tTotal no. of units sold by company in jan'2019 and jan'2020 is 1,125,824\n",
    "3.\tTotal profit generated by company during the given period is US Dollar 2,763,4144.\n",
    "4.\tThe maximum no. of units sold by company was on 4th jan2020 in US(4493units) and the least were sold on 5th jan'2020 of Fortune cookie in Inida\n",
    "5.\tRevenue generated from India on an average is highest = USDollar 7331.25 and Revenue generated from Malaysia on an average is lowest = US Dollar5976.19\n",
    "6.\tThe most revenue generating product of company is Chocolate chip that too in Inida followd by chcocolate chip in US and in Philliphness Fortune Cookie is generating the least revenue for company.\n",
    "7.\tWhile observing the data it can be imputed that chocolate chip is the most favourite cookie flavour and Fortune Cookie are the least preffered category throughout the countries\n",
    "8.\tIndia is also the most profit generating country for company as compared to other countries mentioned\n",
    "9.\tIn terms of unit sold Chocolate chip(30%) is at top followed by sugar(15%) ,white chocolate(14.4) and at last it's Snickerdoodle with(13%) \n",
    "10. Malaysia is the least revenue generating country for company"
   ]
  },
  {
   "cell_type": "markdown",
   "id": "5a8a32a2",
   "metadata": {},
   "source": [
    "## Managerial Implications "
   ]
  },
  {
   "cell_type": "markdown",
   "id": "a94617fc",
   "metadata": {},
   "source": [
    "1.\tCompany should focus more on launching similar taste product category as chocolate chip as they are most preferred by the customers\n",
    "\n",
    "2.\tCompany can also think of expanding their distribution in Asian countries. \n",
    "\n",
    "3.\tAlthough fortune cookies are generating less revenue but they are not least preferred by customer as there units sold are more than snickerdoodle\n",
    "\n",
    "4.\tIndia and Phillipines revenue and unit sale pattern seems to be similar are ANOVA test \n",
    "\n",
    "5.\tMalaysia and US revenue pattern are highly related \n",
    "\n",
    "6.\tCompany should focus more on promotion in Malaysia and philipnes.\n",
    "\n",
    "7.\tCompany should also work on taste of fortune and snickerdoodle category and should do survey to analyse customer behaviour and preference to current category\n"
   ]
  },
  {
   "cell_type": "code",
   "execution_count": null,
   "id": "e06e9b45",
   "metadata": {},
   "outputs": [],
   "source": []
  }
 ],
 "metadata": {
  "kernelspec": {
   "display_name": "Python 3 (ipykernel)",
   "language": "python",
   "name": "python3"
  },
  "language_info": {
   "codemirror_mode": {
    "name": "ipython",
    "version": 3
   },
   "file_extension": ".py",
   "mimetype": "text/x-python",
   "name": "python",
   "nbconvert_exporter": "python",
   "pygments_lexer": "ipython3",
   "version": "3.9.13"
  }
 },
 "nbformat": 4,
 "nbformat_minor": 5
}
